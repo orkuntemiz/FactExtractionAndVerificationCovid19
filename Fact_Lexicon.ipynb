{
  "nbformat": 4,
  "nbformat_minor": 0,
  "metadata": {
    "accelerator": "GPU",
    "colab": {
      "name": "Copy of Fact_Lexicon.ipynb",
      "provenance": [],
      "collapsed_sections": [],
      "machine_shape": "hm"
    },
    "kernelspec": {
      "display_name": "Python 3",
      "name": "python3"
    },
    "widgets": {
      "application/vnd.jupyter.widget-state+json": {
        "2535704854a54808aec3e19d5c7e3b57": {
          "model_module": "@jupyter-widgets/controls",
          "model_name": "HBoxModel",
          "model_module_version": "1.5.0",
          "state": {
            "_view_name": "HBoxView",
            "_dom_classes": [],
            "_model_name": "HBoxModel",
            "_view_module": "@jupyter-widgets/controls",
            "_model_module_version": "1.5.0",
            "_view_count": null,
            "_view_module_version": "1.5.0",
            "box_style": "",
            "layout": "IPY_MODEL_d140815aa1764e58b38b41433dd5e111",
            "_model_module": "@jupyter-widgets/controls",
            "children": [
              "IPY_MODEL_fda3e7b3cd2f409890dc788eb3233f21",
              "IPY_MODEL_e27fd9bffc0b46a79401d8136c7954bc"
            ]
          }
        },
        "d140815aa1764e58b38b41433dd5e111": {
          "model_module": "@jupyter-widgets/base",
          "model_name": "LayoutModel",
          "model_module_version": "1.2.0",
          "state": {
            "_view_name": "LayoutView",
            "grid_template_rows": null,
            "right": null,
            "justify_content": null,
            "_view_module": "@jupyter-widgets/base",
            "overflow": null,
            "_model_module_version": "1.2.0",
            "_view_count": null,
            "flex_flow": null,
            "width": null,
            "min_width": null,
            "border": null,
            "align_items": null,
            "bottom": null,
            "_model_module": "@jupyter-widgets/base",
            "top": null,
            "grid_column": null,
            "overflow_y": null,
            "overflow_x": null,
            "grid_auto_flow": null,
            "grid_area": null,
            "grid_template_columns": null,
            "flex": null,
            "_model_name": "LayoutModel",
            "justify_items": null,
            "grid_row": null,
            "max_height": null,
            "align_content": null,
            "visibility": null,
            "align_self": null,
            "height": null,
            "min_height": null,
            "padding": null,
            "grid_auto_rows": null,
            "grid_gap": null,
            "max_width": null,
            "order": null,
            "_view_module_version": "1.2.0",
            "grid_template_areas": null,
            "object_position": null,
            "object_fit": null,
            "grid_auto_columns": null,
            "margin": null,
            "display": null,
            "left": null
          }
        },
        "fda3e7b3cd2f409890dc788eb3233f21": {
          "model_module": "@jupyter-widgets/controls",
          "model_name": "FloatProgressModel",
          "model_module_version": "1.5.0",
          "state": {
            "_view_name": "ProgressView",
            "style": "IPY_MODEL_5727806695a54b2c94fd2d59be3cc60d",
            "_dom_classes": [],
            "description": "Downloading: 100%",
            "_model_name": "FloatProgressModel",
            "bar_style": "success",
            "max": 421,
            "_view_module": "@jupyter-widgets/controls",
            "_model_module_version": "1.5.0",
            "value": 421,
            "_view_count": null,
            "_view_module_version": "1.5.0",
            "orientation": "horizontal",
            "min": 0,
            "description_tooltip": null,
            "_model_module": "@jupyter-widgets/controls",
            "layout": "IPY_MODEL_ed2ba6175f1d48079c5afb0b068b4e84"
          }
        },
        "e27fd9bffc0b46a79401d8136c7954bc": {
          "model_module": "@jupyter-widgets/controls",
          "model_name": "HTMLModel",
          "model_module_version": "1.5.0",
          "state": {
            "_view_name": "HTMLView",
            "style": "IPY_MODEL_4c9478677e464b169962db8268ce9b93",
            "_dom_classes": [],
            "description": "",
            "_model_name": "HTMLModel",
            "placeholder": "​",
            "_view_module": "@jupyter-widgets/controls",
            "_model_module_version": "1.5.0",
            "value": " 421/421 [00:28&lt;00:00, 14.8B/s]",
            "_view_count": null,
            "_view_module_version": "1.5.0",
            "description_tooltip": null,
            "_model_module": "@jupyter-widgets/controls",
            "layout": "IPY_MODEL_e0c0839000e14047a1f393de42346fdc"
          }
        },
        "5727806695a54b2c94fd2d59be3cc60d": {
          "model_module": "@jupyter-widgets/controls",
          "model_name": "ProgressStyleModel",
          "model_module_version": "1.5.0",
          "state": {
            "_view_name": "StyleView",
            "_model_name": "ProgressStyleModel",
            "description_width": "initial",
            "_view_module": "@jupyter-widgets/base",
            "_model_module_version": "1.5.0",
            "_view_count": null,
            "_view_module_version": "1.2.0",
            "bar_color": null,
            "_model_module": "@jupyter-widgets/controls"
          }
        },
        "ed2ba6175f1d48079c5afb0b068b4e84": {
          "model_module": "@jupyter-widgets/base",
          "model_name": "LayoutModel",
          "model_module_version": "1.2.0",
          "state": {
            "_view_name": "LayoutView",
            "grid_template_rows": null,
            "right": null,
            "justify_content": null,
            "_view_module": "@jupyter-widgets/base",
            "overflow": null,
            "_model_module_version": "1.2.0",
            "_view_count": null,
            "flex_flow": null,
            "width": null,
            "min_width": null,
            "border": null,
            "align_items": null,
            "bottom": null,
            "_model_module": "@jupyter-widgets/base",
            "top": null,
            "grid_column": null,
            "overflow_y": null,
            "overflow_x": null,
            "grid_auto_flow": null,
            "grid_area": null,
            "grid_template_columns": null,
            "flex": null,
            "_model_name": "LayoutModel",
            "justify_items": null,
            "grid_row": null,
            "max_height": null,
            "align_content": null,
            "visibility": null,
            "align_self": null,
            "height": null,
            "min_height": null,
            "padding": null,
            "grid_auto_rows": null,
            "grid_gap": null,
            "max_width": null,
            "order": null,
            "_view_module_version": "1.2.0",
            "grid_template_areas": null,
            "object_position": null,
            "object_fit": null,
            "grid_auto_columns": null,
            "margin": null,
            "display": null,
            "left": null
          }
        },
        "4c9478677e464b169962db8268ce9b93": {
          "model_module": "@jupyter-widgets/controls",
          "model_name": "DescriptionStyleModel",
          "model_module_version": "1.5.0",
          "state": {
            "_view_name": "StyleView",
            "_model_name": "DescriptionStyleModel",
            "description_width": "",
            "_view_module": "@jupyter-widgets/base",
            "_model_module_version": "1.5.0",
            "_view_count": null,
            "_view_module_version": "1.2.0",
            "_model_module": "@jupyter-widgets/controls"
          }
        },
        "e0c0839000e14047a1f393de42346fdc": {
          "model_module": "@jupyter-widgets/base",
          "model_name": "LayoutModel",
          "model_module_version": "1.2.0",
          "state": {
            "_view_name": "LayoutView",
            "grid_template_rows": null,
            "right": null,
            "justify_content": null,
            "_view_module": "@jupyter-widgets/base",
            "overflow": null,
            "_model_module_version": "1.2.0",
            "_view_count": null,
            "flex_flow": null,
            "width": null,
            "min_width": null,
            "border": null,
            "align_items": null,
            "bottom": null,
            "_model_module": "@jupyter-widgets/base",
            "top": null,
            "grid_column": null,
            "overflow_y": null,
            "overflow_x": null,
            "grid_auto_flow": null,
            "grid_area": null,
            "grid_template_columns": null,
            "flex": null,
            "_model_name": "LayoutModel",
            "justify_items": null,
            "grid_row": null,
            "max_height": null,
            "align_content": null,
            "visibility": null,
            "align_self": null,
            "height": null,
            "min_height": null,
            "padding": null,
            "grid_auto_rows": null,
            "grid_gap": null,
            "max_width": null,
            "order": null,
            "_view_module_version": "1.2.0",
            "grid_template_areas": null,
            "object_position": null,
            "object_fit": null,
            "grid_auto_columns": null,
            "margin": null,
            "display": null,
            "left": null
          }
        },
        "970ceea7fafb483e8460a9e4e2b6adb1": {
          "model_module": "@jupyter-widgets/controls",
          "model_name": "HBoxModel",
          "model_module_version": "1.5.0",
          "state": {
            "_view_name": "HBoxView",
            "_dom_classes": [],
            "_model_name": "HBoxModel",
            "_view_module": "@jupyter-widgets/controls",
            "_model_module_version": "1.5.0",
            "_view_count": null,
            "_view_module_version": "1.5.0",
            "box_style": "",
            "layout": "IPY_MODEL_584ce331d2374a218770ad9bd233dc4b",
            "_model_module": "@jupyter-widgets/controls",
            "children": [
              "IPY_MODEL_4c4060155ed64a0da5f9baf7e9200e2d",
              "IPY_MODEL_1fa6f918bb6b4702b2c34302675e8da9"
            ]
          }
        },
        "584ce331d2374a218770ad9bd233dc4b": {
          "model_module": "@jupyter-widgets/base",
          "model_name": "LayoutModel",
          "model_module_version": "1.2.0",
          "state": {
            "_view_name": "LayoutView",
            "grid_template_rows": null,
            "right": null,
            "justify_content": null,
            "_view_module": "@jupyter-widgets/base",
            "overflow": null,
            "_model_module_version": "1.2.0",
            "_view_count": null,
            "flex_flow": null,
            "width": null,
            "min_width": null,
            "border": null,
            "align_items": null,
            "bottom": null,
            "_model_module": "@jupyter-widgets/base",
            "top": null,
            "grid_column": null,
            "overflow_y": null,
            "overflow_x": null,
            "grid_auto_flow": null,
            "grid_area": null,
            "grid_template_columns": null,
            "flex": null,
            "_model_name": "LayoutModel",
            "justify_items": null,
            "grid_row": null,
            "max_height": null,
            "align_content": null,
            "visibility": null,
            "align_self": null,
            "height": null,
            "min_height": null,
            "padding": null,
            "grid_auto_rows": null,
            "grid_gap": null,
            "max_width": null,
            "order": null,
            "_view_module_version": "1.2.0",
            "grid_template_areas": null,
            "object_position": null,
            "object_fit": null,
            "grid_auto_columns": null,
            "margin": null,
            "display": null,
            "left": null
          }
        },
        "4c4060155ed64a0da5f9baf7e9200e2d": {
          "model_module": "@jupyter-widgets/controls",
          "model_name": "FloatProgressModel",
          "model_module_version": "1.5.0",
          "state": {
            "_view_name": "ProgressView",
            "style": "IPY_MODEL_b5dcce7d86c94ce299f00a51f387b323",
            "_dom_classes": [],
            "description": "Downloading: 100%",
            "_model_name": "FloatProgressModel",
            "bar_style": "success",
            "max": 1345068539,
            "_view_module": "@jupyter-widgets/controls",
            "_model_module_version": "1.5.0",
            "value": 1345068539,
            "_view_count": null,
            "_view_module_version": "1.5.0",
            "orientation": "horizontal",
            "min": 0,
            "description_tooltip": null,
            "_model_module": "@jupyter-widgets/controls",
            "layout": "IPY_MODEL_61408fd42ffb4c1f8f789d5728911dbb"
          }
        },
        "1fa6f918bb6b4702b2c34302675e8da9": {
          "model_module": "@jupyter-widgets/controls",
          "model_name": "HTMLModel",
          "model_module_version": "1.5.0",
          "state": {
            "_view_name": "HTMLView",
            "style": "IPY_MODEL_0761b51184694375a5bf98e4ae84acb8",
            "_dom_classes": [],
            "description": "",
            "_model_name": "HTMLModel",
            "placeholder": "​",
            "_view_module": "@jupyter-widgets/controls",
            "_model_module_version": "1.5.0",
            "value": " 1.35G/1.35G [00:27&lt;00:00, 48.7MB/s]",
            "_view_count": null,
            "_view_module_version": "1.5.0",
            "description_tooltip": null,
            "_model_module": "@jupyter-widgets/controls",
            "layout": "IPY_MODEL_2e3e794c18f646eaadfde946c3809c6e"
          }
        },
        "b5dcce7d86c94ce299f00a51f387b323": {
          "model_module": "@jupyter-widgets/controls",
          "model_name": "ProgressStyleModel",
          "model_module_version": "1.5.0",
          "state": {
            "_view_name": "StyleView",
            "_model_name": "ProgressStyleModel",
            "description_width": "initial",
            "_view_module": "@jupyter-widgets/base",
            "_model_module_version": "1.5.0",
            "_view_count": null,
            "_view_module_version": "1.2.0",
            "bar_color": null,
            "_model_module": "@jupyter-widgets/controls"
          }
        },
        "61408fd42ffb4c1f8f789d5728911dbb": {
          "model_module": "@jupyter-widgets/base",
          "model_name": "LayoutModel",
          "model_module_version": "1.2.0",
          "state": {
            "_view_name": "LayoutView",
            "grid_template_rows": null,
            "right": null,
            "justify_content": null,
            "_view_module": "@jupyter-widgets/base",
            "overflow": null,
            "_model_module_version": "1.2.0",
            "_view_count": null,
            "flex_flow": null,
            "width": null,
            "min_width": null,
            "border": null,
            "align_items": null,
            "bottom": null,
            "_model_module": "@jupyter-widgets/base",
            "top": null,
            "grid_column": null,
            "overflow_y": null,
            "overflow_x": null,
            "grid_auto_flow": null,
            "grid_area": null,
            "grid_template_columns": null,
            "flex": null,
            "_model_name": "LayoutModel",
            "justify_items": null,
            "grid_row": null,
            "max_height": null,
            "align_content": null,
            "visibility": null,
            "align_self": null,
            "height": null,
            "min_height": null,
            "padding": null,
            "grid_auto_rows": null,
            "grid_gap": null,
            "max_width": null,
            "order": null,
            "_view_module_version": "1.2.0",
            "grid_template_areas": null,
            "object_position": null,
            "object_fit": null,
            "grid_auto_columns": null,
            "margin": null,
            "display": null,
            "left": null
          }
        },
        "0761b51184694375a5bf98e4ae84acb8": {
          "model_module": "@jupyter-widgets/controls",
          "model_name": "DescriptionStyleModel",
          "model_module_version": "1.5.0",
          "state": {
            "_view_name": "StyleView",
            "_model_name": "DescriptionStyleModel",
            "description_width": "",
            "_view_module": "@jupyter-widgets/base",
            "_model_module_version": "1.5.0",
            "_view_count": null,
            "_view_module_version": "1.2.0",
            "_model_module": "@jupyter-widgets/controls"
          }
        },
        "2e3e794c18f646eaadfde946c3809c6e": {
          "model_module": "@jupyter-widgets/base",
          "model_name": "LayoutModel",
          "model_module_version": "1.2.0",
          "state": {
            "_view_name": "LayoutView",
            "grid_template_rows": null,
            "right": null,
            "justify_content": null,
            "_view_module": "@jupyter-widgets/base",
            "overflow": null,
            "_model_module_version": "1.2.0",
            "_view_count": null,
            "flex_flow": null,
            "width": null,
            "min_width": null,
            "border": null,
            "align_items": null,
            "bottom": null,
            "_model_module": "@jupyter-widgets/base",
            "top": null,
            "grid_column": null,
            "overflow_y": null,
            "overflow_x": null,
            "grid_auto_flow": null,
            "grid_area": null,
            "grid_template_columns": null,
            "flex": null,
            "_model_name": "LayoutModel",
            "justify_items": null,
            "grid_row": null,
            "max_height": null,
            "align_content": null,
            "visibility": null,
            "align_self": null,
            "height": null,
            "min_height": null,
            "padding": null,
            "grid_auto_rows": null,
            "grid_gap": null,
            "max_width": null,
            "order": null,
            "_view_module_version": "1.2.0",
            "grid_template_areas": null,
            "object_position": null,
            "object_fit": null,
            "grid_auto_columns": null,
            "margin": null,
            "display": null,
            "left": null
          }
        },
        "11fb3282519e4d90b8afe3bdc4696736": {
          "model_module": "@jupyter-widgets/controls",
          "model_name": "HBoxModel",
          "model_module_version": "1.5.0",
          "state": {
            "_view_name": "HBoxView",
            "_dom_classes": [],
            "_model_name": "HBoxModel",
            "_view_module": "@jupyter-widgets/controls",
            "_model_module_version": "1.5.0",
            "_view_count": null,
            "_view_module_version": "1.5.0",
            "box_style": "",
            "layout": "IPY_MODEL_1a1b833f29f44839ad7bfc16f6b9c2d6",
            "_model_module": "@jupyter-widgets/controls",
            "children": [
              "IPY_MODEL_3858c42a2d114149a2294f0539b939c7",
              "IPY_MODEL_c41210dfef6d44429938094e28d761ba"
            ]
          }
        },
        "1a1b833f29f44839ad7bfc16f6b9c2d6": {
          "model_module": "@jupyter-widgets/base",
          "model_name": "LayoutModel",
          "model_module_version": "1.2.0",
          "state": {
            "_view_name": "LayoutView",
            "grid_template_rows": null,
            "right": null,
            "justify_content": null,
            "_view_module": "@jupyter-widgets/base",
            "overflow": null,
            "_model_module_version": "1.2.0",
            "_view_count": null,
            "flex_flow": null,
            "width": null,
            "min_width": null,
            "border": null,
            "align_items": null,
            "bottom": null,
            "_model_module": "@jupyter-widgets/base",
            "top": null,
            "grid_column": null,
            "overflow_y": null,
            "overflow_x": null,
            "grid_auto_flow": null,
            "grid_area": null,
            "grid_template_columns": null,
            "flex": null,
            "_model_name": "LayoutModel",
            "justify_items": null,
            "grid_row": null,
            "max_height": null,
            "align_content": null,
            "visibility": null,
            "align_self": null,
            "height": null,
            "min_height": null,
            "padding": null,
            "grid_auto_rows": null,
            "grid_gap": null,
            "max_width": null,
            "order": null,
            "_view_module_version": "1.2.0",
            "grid_template_areas": null,
            "object_position": null,
            "object_fit": null,
            "grid_auto_columns": null,
            "margin": null,
            "display": null,
            "left": null
          }
        },
        "3858c42a2d114149a2294f0539b939c7": {
          "model_module": "@jupyter-widgets/controls",
          "model_name": "FloatProgressModel",
          "model_module_version": "1.5.0",
          "state": {
            "_view_name": "ProgressView",
            "style": "IPY_MODEL_468e9ef07fcb439984254bd3c3dd9118",
            "_dom_classes": [],
            "description": "Downloading: 100%",
            "_model_name": "FloatProgressModel",
            "bar_style": "success",
            "max": 231508,
            "_view_module": "@jupyter-widgets/controls",
            "_model_module_version": "1.5.0",
            "value": 231508,
            "_view_count": null,
            "_view_module_version": "1.5.0",
            "orientation": "horizontal",
            "min": 0,
            "description_tooltip": null,
            "_model_module": "@jupyter-widgets/controls",
            "layout": "IPY_MODEL_19c1395e9f174a3799fa6b3daf1b9f75"
          }
        },
        "c41210dfef6d44429938094e28d761ba": {
          "model_module": "@jupyter-widgets/controls",
          "model_name": "HTMLModel",
          "model_module_version": "1.5.0",
          "state": {
            "_view_name": "HTMLView",
            "style": "IPY_MODEL_c1f9caa8c86a4a0f83e183cb8b0cd70d",
            "_dom_classes": [],
            "description": "",
            "_model_name": "HTMLModel",
            "placeholder": "​",
            "_view_module": "@jupyter-widgets/controls",
            "_model_module_version": "1.5.0",
            "value": " 232k/232k [00:01&lt;00:00, 162kB/s]",
            "_view_count": null,
            "_view_module_version": "1.5.0",
            "description_tooltip": null,
            "_model_module": "@jupyter-widgets/controls",
            "layout": "IPY_MODEL_df7206fa3aea4705893daead27a876ac"
          }
        },
        "468e9ef07fcb439984254bd3c3dd9118": {
          "model_module": "@jupyter-widgets/controls",
          "model_name": "ProgressStyleModel",
          "model_module_version": "1.5.0",
          "state": {
            "_view_name": "StyleView",
            "_model_name": "ProgressStyleModel",
            "description_width": "initial",
            "_view_module": "@jupyter-widgets/base",
            "_model_module_version": "1.5.0",
            "_view_count": null,
            "_view_module_version": "1.2.0",
            "bar_color": null,
            "_model_module": "@jupyter-widgets/controls"
          }
        },
        "19c1395e9f174a3799fa6b3daf1b9f75": {
          "model_module": "@jupyter-widgets/base",
          "model_name": "LayoutModel",
          "model_module_version": "1.2.0",
          "state": {
            "_view_name": "LayoutView",
            "grid_template_rows": null,
            "right": null,
            "justify_content": null,
            "_view_module": "@jupyter-widgets/base",
            "overflow": null,
            "_model_module_version": "1.2.0",
            "_view_count": null,
            "flex_flow": null,
            "width": null,
            "min_width": null,
            "border": null,
            "align_items": null,
            "bottom": null,
            "_model_module": "@jupyter-widgets/base",
            "top": null,
            "grid_column": null,
            "overflow_y": null,
            "overflow_x": null,
            "grid_auto_flow": null,
            "grid_area": null,
            "grid_template_columns": null,
            "flex": null,
            "_model_name": "LayoutModel",
            "justify_items": null,
            "grid_row": null,
            "max_height": null,
            "align_content": null,
            "visibility": null,
            "align_self": null,
            "height": null,
            "min_height": null,
            "padding": null,
            "grid_auto_rows": null,
            "grid_gap": null,
            "max_width": null,
            "order": null,
            "_view_module_version": "1.2.0",
            "grid_template_areas": null,
            "object_position": null,
            "object_fit": null,
            "grid_auto_columns": null,
            "margin": null,
            "display": null,
            "left": null
          }
        },
        "c1f9caa8c86a4a0f83e183cb8b0cd70d": {
          "model_module": "@jupyter-widgets/controls",
          "model_name": "DescriptionStyleModel",
          "model_module_version": "1.5.0",
          "state": {
            "_view_name": "StyleView",
            "_model_name": "DescriptionStyleModel",
            "description_width": "",
            "_view_module": "@jupyter-widgets/base",
            "_model_module_version": "1.5.0",
            "_view_count": null,
            "_view_module_version": "1.2.0",
            "_model_module": "@jupyter-widgets/controls"
          }
        },
        "df7206fa3aea4705893daead27a876ac": {
          "model_module": "@jupyter-widgets/base",
          "model_name": "LayoutModel",
          "model_module_version": "1.2.0",
          "state": {
            "_view_name": "LayoutView",
            "grid_template_rows": null,
            "right": null,
            "justify_content": null,
            "_view_module": "@jupyter-widgets/base",
            "overflow": null,
            "_model_module_version": "1.2.0",
            "_view_count": null,
            "flex_flow": null,
            "width": null,
            "min_width": null,
            "border": null,
            "align_items": null,
            "bottom": null,
            "_model_module": "@jupyter-widgets/base",
            "top": null,
            "grid_column": null,
            "overflow_y": null,
            "overflow_x": null,
            "grid_auto_flow": null,
            "grid_area": null,
            "grid_template_columns": null,
            "flex": null,
            "_model_name": "LayoutModel",
            "justify_items": null,
            "grid_row": null,
            "max_height": null,
            "align_content": null,
            "visibility": null,
            "align_self": null,
            "height": null,
            "min_height": null,
            "padding": null,
            "grid_auto_rows": null,
            "grid_gap": null,
            "max_width": null,
            "order": null,
            "_view_module_version": "1.2.0",
            "grid_template_areas": null,
            "object_position": null,
            "object_fit": null,
            "grid_auto_columns": null,
            "margin": null,
            "display": null,
            "left": null
          }
        },
        "6196cb9e8ed64ca1878965713821cfd8": {
          "model_module": "@jupyter-widgets/controls",
          "model_name": "HBoxModel",
          "model_module_version": "1.5.0",
          "state": {
            "_view_name": "HBoxView",
            "_dom_classes": [],
            "_model_name": "HBoxModel",
            "_view_module": "@jupyter-widgets/controls",
            "_model_module_version": "1.5.0",
            "_view_count": null,
            "_view_module_version": "1.5.0",
            "box_style": "",
            "layout": "IPY_MODEL_6d93b6ace1034efc9ddb0c9917cf2998",
            "_model_module": "@jupyter-widgets/controls",
            "children": [
              "IPY_MODEL_51f967ca0ed24078bff6277b86923e58",
              "IPY_MODEL_8744cb222ea446df9bba13278208a3cf"
            ]
          }
        },
        "6d93b6ace1034efc9ddb0c9917cf2998": {
          "model_module": "@jupyter-widgets/base",
          "model_name": "LayoutModel",
          "model_module_version": "1.2.0",
          "state": {
            "_view_name": "LayoutView",
            "grid_template_rows": null,
            "right": null,
            "justify_content": null,
            "_view_module": "@jupyter-widgets/base",
            "overflow": null,
            "_model_module_version": "1.2.0",
            "_view_count": null,
            "flex_flow": null,
            "width": null,
            "min_width": null,
            "border": null,
            "align_items": null,
            "bottom": null,
            "_model_module": "@jupyter-widgets/base",
            "top": null,
            "grid_column": null,
            "overflow_y": null,
            "overflow_x": null,
            "grid_auto_flow": null,
            "grid_area": null,
            "grid_template_columns": null,
            "flex": null,
            "_model_name": "LayoutModel",
            "justify_items": null,
            "grid_row": null,
            "max_height": null,
            "align_content": null,
            "visibility": null,
            "align_self": null,
            "height": null,
            "min_height": null,
            "padding": null,
            "grid_auto_rows": null,
            "grid_gap": null,
            "max_width": null,
            "order": null,
            "_view_module_version": "1.2.0",
            "grid_template_areas": null,
            "object_position": null,
            "object_fit": null,
            "grid_auto_columns": null,
            "margin": null,
            "display": null,
            "left": null
          }
        },
        "51f967ca0ed24078bff6277b86923e58": {
          "model_module": "@jupyter-widgets/controls",
          "model_name": "FloatProgressModel",
          "model_module_version": "1.5.0",
          "state": {
            "_view_name": "ProgressView",
            "style": "IPY_MODEL_f3c48fb723224a5ca6527b56d5f9dd91",
            "_dom_classes": [],
            "description": "Downloading: 100%",
            "_model_name": "FloatProgressModel",
            "bar_style": "success",
            "max": 112,
            "_view_module": "@jupyter-widgets/controls",
            "_model_module_version": "1.5.0",
            "value": 112,
            "_view_count": null,
            "_view_module_version": "1.5.0",
            "orientation": "horizontal",
            "min": 0,
            "description_tooltip": null,
            "_model_module": "@jupyter-widgets/controls",
            "layout": "IPY_MODEL_c1b458f1278c450dae15df5f05c63057"
          }
        },
        "8744cb222ea446df9bba13278208a3cf": {
          "model_module": "@jupyter-widgets/controls",
          "model_name": "HTMLModel",
          "model_module_version": "1.5.0",
          "state": {
            "_view_name": "HTMLView",
            "style": "IPY_MODEL_a0c771735c1146c4b109e4f6266e1cb6",
            "_dom_classes": [],
            "description": "",
            "_model_name": "HTMLModel",
            "placeholder": "​",
            "_view_module": "@jupyter-widgets/controls",
            "_model_module_version": "1.5.0",
            "value": " 112/112 [00:00&lt;00:00, 181B/s]",
            "_view_count": null,
            "_view_module_version": "1.5.0",
            "description_tooltip": null,
            "_model_module": "@jupyter-widgets/controls",
            "layout": "IPY_MODEL_edd637c66dce432fa20bdd6bb4df4383"
          }
        },
        "f3c48fb723224a5ca6527b56d5f9dd91": {
          "model_module": "@jupyter-widgets/controls",
          "model_name": "ProgressStyleModel",
          "model_module_version": "1.5.0",
          "state": {
            "_view_name": "StyleView",
            "_model_name": "ProgressStyleModel",
            "description_width": "initial",
            "_view_module": "@jupyter-widgets/base",
            "_model_module_version": "1.5.0",
            "_view_count": null,
            "_view_module_version": "1.2.0",
            "bar_color": null,
            "_model_module": "@jupyter-widgets/controls"
          }
        },
        "c1b458f1278c450dae15df5f05c63057": {
          "model_module": "@jupyter-widgets/base",
          "model_name": "LayoutModel",
          "model_module_version": "1.2.0",
          "state": {
            "_view_name": "LayoutView",
            "grid_template_rows": null,
            "right": null,
            "justify_content": null,
            "_view_module": "@jupyter-widgets/base",
            "overflow": null,
            "_model_module_version": "1.2.0",
            "_view_count": null,
            "flex_flow": null,
            "width": null,
            "min_width": null,
            "border": null,
            "align_items": null,
            "bottom": null,
            "_model_module": "@jupyter-widgets/base",
            "top": null,
            "grid_column": null,
            "overflow_y": null,
            "overflow_x": null,
            "grid_auto_flow": null,
            "grid_area": null,
            "grid_template_columns": null,
            "flex": null,
            "_model_name": "LayoutModel",
            "justify_items": null,
            "grid_row": null,
            "max_height": null,
            "align_content": null,
            "visibility": null,
            "align_self": null,
            "height": null,
            "min_height": null,
            "padding": null,
            "grid_auto_rows": null,
            "grid_gap": null,
            "max_width": null,
            "order": null,
            "_view_module_version": "1.2.0",
            "grid_template_areas": null,
            "object_position": null,
            "object_fit": null,
            "grid_auto_columns": null,
            "margin": null,
            "display": null,
            "left": null
          }
        },
        "a0c771735c1146c4b109e4f6266e1cb6": {
          "model_module": "@jupyter-widgets/controls",
          "model_name": "DescriptionStyleModel",
          "model_module_version": "1.5.0",
          "state": {
            "_view_name": "StyleView",
            "_model_name": "DescriptionStyleModel",
            "description_width": "",
            "_view_module": "@jupyter-widgets/base",
            "_model_module_version": "1.5.0",
            "_view_count": null,
            "_view_module_version": "1.2.0",
            "_model_module": "@jupyter-widgets/controls"
          }
        },
        "edd637c66dce432fa20bdd6bb4df4383": {
          "model_module": "@jupyter-widgets/base",
          "model_name": "LayoutModel",
          "model_module_version": "1.2.0",
          "state": {
            "_view_name": "LayoutView",
            "grid_template_rows": null,
            "right": null,
            "justify_content": null,
            "_view_module": "@jupyter-widgets/base",
            "overflow": null,
            "_model_module_version": "1.2.0",
            "_view_count": null,
            "flex_flow": null,
            "width": null,
            "min_width": null,
            "border": null,
            "align_items": null,
            "bottom": null,
            "_model_module": "@jupyter-widgets/base",
            "top": null,
            "grid_column": null,
            "overflow_y": null,
            "overflow_x": null,
            "grid_auto_flow": null,
            "grid_area": null,
            "grid_template_columns": null,
            "flex": null,
            "_model_name": "LayoutModel",
            "justify_items": null,
            "grid_row": null,
            "max_height": null,
            "align_content": null,
            "visibility": null,
            "align_self": null,
            "height": null,
            "min_height": null,
            "padding": null,
            "grid_auto_rows": null,
            "grid_gap": null,
            "max_width": null,
            "order": null,
            "_view_module_version": "1.2.0",
            "grid_template_areas": null,
            "object_position": null,
            "object_fit": null,
            "grid_auto_columns": null,
            "margin": null,
            "display": null,
            "left": null
          }
        },
        "2f0a88f583ba40ee8e83ba76b5709872": {
          "model_module": "@jupyter-widgets/controls",
          "model_name": "HBoxModel",
          "model_module_version": "1.5.0",
          "state": {
            "_view_name": "HBoxView",
            "_dom_classes": [],
            "_model_name": "HBoxModel",
            "_view_module": "@jupyter-widgets/controls",
            "_model_module_version": "1.5.0",
            "_view_count": null,
            "_view_module_version": "1.5.0",
            "box_style": "",
            "layout": "IPY_MODEL_99f73e477e694613b1bcb53c61ffbb20",
            "_model_module": "@jupyter-widgets/controls",
            "children": [
              "IPY_MODEL_afaa00db7d5347349c6109d8039655ae",
              "IPY_MODEL_741c1cc05703496bae697ebb16d223c6"
            ]
          }
        },
        "99f73e477e694613b1bcb53c61ffbb20": {
          "model_module": "@jupyter-widgets/base",
          "model_name": "LayoutModel",
          "model_module_version": "1.2.0",
          "state": {
            "_view_name": "LayoutView",
            "grid_template_rows": null,
            "right": null,
            "justify_content": null,
            "_view_module": "@jupyter-widgets/base",
            "overflow": null,
            "_model_module_version": "1.2.0",
            "_view_count": null,
            "flex_flow": null,
            "width": null,
            "min_width": null,
            "border": null,
            "align_items": null,
            "bottom": null,
            "_model_module": "@jupyter-widgets/base",
            "top": null,
            "grid_column": null,
            "overflow_y": null,
            "overflow_x": null,
            "grid_auto_flow": null,
            "grid_area": null,
            "grid_template_columns": null,
            "flex": null,
            "_model_name": "LayoutModel",
            "justify_items": null,
            "grid_row": null,
            "max_height": null,
            "align_content": null,
            "visibility": null,
            "align_self": null,
            "height": null,
            "min_height": null,
            "padding": null,
            "grid_auto_rows": null,
            "grid_gap": null,
            "max_width": null,
            "order": null,
            "_view_module_version": "1.2.0",
            "grid_template_areas": null,
            "object_position": null,
            "object_fit": null,
            "grid_auto_columns": null,
            "margin": null,
            "display": null,
            "left": null
          }
        },
        "afaa00db7d5347349c6109d8039655ae": {
          "model_module": "@jupyter-widgets/controls",
          "model_name": "FloatProgressModel",
          "model_module_version": "1.5.0",
          "state": {
            "_view_name": "ProgressView",
            "style": "IPY_MODEL_1d9f74ffcff34bb88041a513db0e8e5d",
            "_dom_classes": [],
            "description": "Downloading: 100%",
            "_model_name": "FloatProgressModel",
            "bar_style": "success",
            "max": 62,
            "_view_module": "@jupyter-widgets/controls",
            "_model_module_version": "1.5.0",
            "value": 62,
            "_view_count": null,
            "_view_module_version": "1.5.0",
            "orientation": "horizontal",
            "min": 0,
            "description_tooltip": null,
            "_model_module": "@jupyter-widgets/controls",
            "layout": "IPY_MODEL_c84e80d7839e48dbb71e736944b46218"
          }
        },
        "741c1cc05703496bae697ebb16d223c6": {
          "model_module": "@jupyter-widgets/controls",
          "model_name": "HTMLModel",
          "model_module_version": "1.5.0",
          "state": {
            "_view_name": "HTMLView",
            "style": "IPY_MODEL_e4a72e1e65224067a3e62a3173bfc2b0",
            "_dom_classes": [],
            "description": "",
            "_model_name": "HTMLModel",
            "placeholder": "​",
            "_view_module": "@jupyter-widgets/controls",
            "_model_module_version": "1.5.0",
            "value": " 62.0/62.0 [00:00&lt;00:00, 1.15kB/s]",
            "_view_count": null,
            "_view_module_version": "1.5.0",
            "description_tooltip": null,
            "_model_module": "@jupyter-widgets/controls",
            "layout": "IPY_MODEL_d59412670737478683829cecc75ede5f"
          }
        },
        "1d9f74ffcff34bb88041a513db0e8e5d": {
          "model_module": "@jupyter-widgets/controls",
          "model_name": "ProgressStyleModel",
          "model_module_version": "1.5.0",
          "state": {
            "_view_name": "StyleView",
            "_model_name": "ProgressStyleModel",
            "description_width": "initial",
            "_view_module": "@jupyter-widgets/base",
            "_model_module_version": "1.5.0",
            "_view_count": null,
            "_view_module_version": "1.2.0",
            "bar_color": null,
            "_model_module": "@jupyter-widgets/controls"
          }
        },
        "c84e80d7839e48dbb71e736944b46218": {
          "model_module": "@jupyter-widgets/base",
          "model_name": "LayoutModel",
          "model_module_version": "1.2.0",
          "state": {
            "_view_name": "LayoutView",
            "grid_template_rows": null,
            "right": null,
            "justify_content": null,
            "_view_module": "@jupyter-widgets/base",
            "overflow": null,
            "_model_module_version": "1.2.0",
            "_view_count": null,
            "flex_flow": null,
            "width": null,
            "min_width": null,
            "border": null,
            "align_items": null,
            "bottom": null,
            "_model_module": "@jupyter-widgets/base",
            "top": null,
            "grid_column": null,
            "overflow_y": null,
            "overflow_x": null,
            "grid_auto_flow": null,
            "grid_area": null,
            "grid_template_columns": null,
            "flex": null,
            "_model_name": "LayoutModel",
            "justify_items": null,
            "grid_row": null,
            "max_height": null,
            "align_content": null,
            "visibility": null,
            "align_self": null,
            "height": null,
            "min_height": null,
            "padding": null,
            "grid_auto_rows": null,
            "grid_gap": null,
            "max_width": null,
            "order": null,
            "_view_module_version": "1.2.0",
            "grid_template_areas": null,
            "object_position": null,
            "object_fit": null,
            "grid_auto_columns": null,
            "margin": null,
            "display": null,
            "left": null
          }
        },
        "e4a72e1e65224067a3e62a3173bfc2b0": {
          "model_module": "@jupyter-widgets/controls",
          "model_name": "DescriptionStyleModel",
          "model_module_version": "1.5.0",
          "state": {
            "_view_name": "StyleView",
            "_model_name": "DescriptionStyleModel",
            "description_width": "",
            "_view_module": "@jupyter-widgets/base",
            "_model_module_version": "1.5.0",
            "_view_count": null,
            "_view_module_version": "1.2.0",
            "_model_module": "@jupyter-widgets/controls"
          }
        },
        "d59412670737478683829cecc75ede5f": {
          "model_module": "@jupyter-widgets/base",
          "model_name": "LayoutModel",
          "model_module_version": "1.2.0",
          "state": {
            "_view_name": "LayoutView",
            "grid_template_rows": null,
            "right": null,
            "justify_content": null,
            "_view_module": "@jupyter-widgets/base",
            "overflow": null,
            "_model_module_version": "1.2.0",
            "_view_count": null,
            "flex_flow": null,
            "width": null,
            "min_width": null,
            "border": null,
            "align_items": null,
            "bottom": null,
            "_model_module": "@jupyter-widgets/base",
            "top": null,
            "grid_column": null,
            "overflow_y": null,
            "overflow_x": null,
            "grid_auto_flow": null,
            "grid_area": null,
            "grid_template_columns": null,
            "flex": null,
            "_model_name": "LayoutModel",
            "justify_items": null,
            "grid_row": null,
            "max_height": null,
            "align_content": null,
            "visibility": null,
            "align_self": null,
            "height": null,
            "min_height": null,
            "padding": null,
            "grid_auto_rows": null,
            "grid_gap": null,
            "max_width": null,
            "order": null,
            "_view_module_version": "1.2.0",
            "grid_template_areas": null,
            "object_position": null,
            "object_fit": null,
            "grid_auto_columns": null,
            "margin": null,
            "display": null,
            "left": null
          }
        }
      }
    }
  },
  "cells": [
    {
      "cell_type": "code",
      "metadata": {
        "colab": {
          "base_uri": "https://localhost:8080/"
        },
        "id": "fyqSuQnz72lJ",
        "outputId": "44e48607-90c9-448c-90b9-24676cc92800"
      },
      "source": [
        "import numpy as np\n",
        "import pandas as pd\n",
        "\n",
        "import matplotlib.pyplot as plt\n",
        "%matplotlib inline\n",
        "from io import StringIO\n",
        "import requests\n",
        "import seaborn as sns\n",
        "# Run in python console\n",
        "import nltk; nltk.download('stopwords')\n",
        "from nltk.stem.porter import PorterStemmer # load nltk's SnowballStemmer as variabled 'stemmer'\n",
        "# Run in terminal or command prompt\n",
        "!python3 -m spacy download en\n",
        "import re\n",
        "import numpy as np\n",
        "import pandas as pd\n",
        "from pprint import pprint\n",
        "\n",
        "# Gensim\n",
        "import gensim\n",
        "import gensim.corpora as corpora\n",
        "from gensim.utils import simple_preprocess\n",
        "from gensim.models import CoherenceModel\n",
        "\n",
        "# spacy for lemmatization\n",
        "import spacy\n",
        "\n",
        "# Plotting tools\n",
        "\n",
        "import matplotlib.pyplot as plt\n",
        "%matplotlib inline\n",
        "\n",
        "# Enable logging for gensim - optional\n",
        "import logging\n",
        "logging.basicConfig(format='%(asctime)s : %(levelname)s : %(message)s', level=logging.ERROR)\n",
        "\n",
        "import warnings\n",
        "warnings.filterwarnings(\"ignore\",category=DeprecationWarning)\n"
      ],
      "execution_count": null,
      "outputs": [
        {
          "output_type": "stream",
          "text": [
            "[nltk_data] Downloading package stopwords to /root/nltk_data...\n",
            "[nltk_data]   Unzipping corpora/stopwords.zip.\n",
            "Requirement already satisfied: en_core_web_sm==2.2.5 from https://github.com/explosion/spacy-models/releases/download/en_core_web_sm-2.2.5/en_core_web_sm-2.2.5.tar.gz#egg=en_core_web_sm==2.2.5 in /usr/local/lib/python3.7/dist-packages (2.2.5)\n",
            "Requirement already satisfied: spacy>=2.2.2 in /usr/local/lib/python3.7/dist-packages (from en_core_web_sm==2.2.5) (2.2.4)\n",
            "Requirement already satisfied: blis<0.5.0,>=0.4.0 in /usr/local/lib/python3.7/dist-packages (from spacy>=2.2.2->en_core_web_sm==2.2.5) (0.4.1)\n",
            "Requirement already satisfied: wasabi<1.1.0,>=0.4.0 in /usr/local/lib/python3.7/dist-packages (from spacy>=2.2.2->en_core_web_sm==2.2.5) (0.8.2)\n",
            "Requirement already satisfied: requests<3.0.0,>=2.13.0 in /usr/local/lib/python3.7/dist-packages (from spacy>=2.2.2->en_core_web_sm==2.2.5) (2.23.0)\n",
            "Requirement already satisfied: setuptools in /usr/local/lib/python3.7/dist-packages (from spacy>=2.2.2->en_core_web_sm==2.2.5) (54.2.0)\n",
            "Requirement already satisfied: cymem<2.1.0,>=2.0.2 in /usr/local/lib/python3.7/dist-packages (from spacy>=2.2.2->en_core_web_sm==2.2.5) (2.0.5)\n",
            "Requirement already satisfied: murmurhash<1.1.0,>=0.28.0 in /usr/local/lib/python3.7/dist-packages (from spacy>=2.2.2->en_core_web_sm==2.2.5) (1.0.5)\n",
            "Requirement already satisfied: thinc==7.4.0 in /usr/local/lib/python3.7/dist-packages (from spacy>=2.2.2->en_core_web_sm==2.2.5) (7.4.0)\n",
            "Requirement already satisfied: numpy>=1.15.0 in /usr/local/lib/python3.7/dist-packages (from spacy>=2.2.2->en_core_web_sm==2.2.5) (1.19.5)\n",
            "Requirement already satisfied: srsly<1.1.0,>=1.0.2 in /usr/local/lib/python3.7/dist-packages (from spacy>=2.2.2->en_core_web_sm==2.2.5) (1.0.5)\n",
            "Requirement already satisfied: tqdm<5.0.0,>=4.38.0 in /usr/local/lib/python3.7/dist-packages (from spacy>=2.2.2->en_core_web_sm==2.2.5) (4.41.1)\n",
            "Requirement already satisfied: preshed<3.1.0,>=3.0.2 in /usr/local/lib/python3.7/dist-packages (from spacy>=2.2.2->en_core_web_sm==2.2.5) (3.0.5)\n",
            "Requirement already satisfied: catalogue<1.1.0,>=0.0.7 in /usr/local/lib/python3.7/dist-packages (from spacy>=2.2.2->en_core_web_sm==2.2.5) (1.0.0)\n",
            "Requirement already satisfied: plac<1.2.0,>=0.9.6 in /usr/local/lib/python3.7/dist-packages (from spacy>=2.2.2->en_core_web_sm==2.2.5) (1.1.3)\n",
            "Requirement already satisfied: urllib3!=1.25.0,!=1.25.1,<1.26,>=1.21.1 in /usr/local/lib/python3.7/dist-packages (from requests<3.0.0,>=2.13.0->spacy>=2.2.2->en_core_web_sm==2.2.5) (1.24.3)\n",
            "Requirement already satisfied: certifi>=2017.4.17 in /usr/local/lib/python3.7/dist-packages (from requests<3.0.0,>=2.13.0->spacy>=2.2.2->en_core_web_sm==2.2.5) (2020.12.5)\n",
            "Requirement already satisfied: idna<3,>=2.5 in /usr/local/lib/python3.7/dist-packages (from requests<3.0.0,>=2.13.0->spacy>=2.2.2->en_core_web_sm==2.2.5) (2.10)\n",
            "Requirement already satisfied: chardet<4,>=3.0.2 in /usr/local/lib/python3.7/dist-packages (from requests<3.0.0,>=2.13.0->spacy>=2.2.2->en_core_web_sm==2.2.5) (3.0.4)\n",
            "Requirement already satisfied: importlib-metadata>=0.20; python_version < \"3.8\" in /usr/local/lib/python3.7/dist-packages (from catalogue<1.1.0,>=0.0.7->spacy>=2.2.2->en_core_web_sm==2.2.5) (3.10.0)\n",
            "Requirement already satisfied: zipp>=0.5 in /usr/local/lib/python3.7/dist-packages (from importlib-metadata>=0.20; python_version < \"3.8\"->catalogue<1.1.0,>=0.0.7->spacy>=2.2.2->en_core_web_sm==2.2.5) (3.4.1)\n",
            "Requirement already satisfied: typing-extensions>=3.6.4; python_version < \"3.8\" in /usr/local/lib/python3.7/dist-packages (from importlib-metadata>=0.20; python_version < \"3.8\"->catalogue<1.1.0,>=0.0.7->spacy>=2.2.2->en_core_web_sm==2.2.5) (3.7.4.3)\n",
            "\u001b[38;5;2m✔ Download and installation successful\u001b[0m\n",
            "You can now load the model via spacy.load('en_core_web_sm')\n",
            "\u001b[38;5;2m✔ Linking successful\u001b[0m\n",
            "/usr/local/lib/python3.7/dist-packages/en_core_web_sm -->\n",
            "/usr/local/lib/python3.7/dist-packages/spacy/data/en\n",
            "You can now load the model via spacy.load('en')\n"
          ],
          "name": "stdout"
        }
      ]
    },
    {
      "cell_type": "code",
      "metadata": {
        "id": "juaN58zM-rIL"
      },
      "source": [
        "import numpy as np\n",
        "import matplotlib.pyplot as plt\n",
        "import seaborn as sns\n",
        "import sklearn.metrics\n",
        "def make_confusion_matrix(cf,\n",
        "                          y_pred,\n",
        "                          y_true,\n",
        "                          group_names=None,\n",
        "                          categories='auto',\n",
        "                          count=True,\n",
        "                          percent=True,\n",
        "                          cbar=True,\n",
        "                          xyticks=True,\n",
        "                          xyplotlabels=True,\n",
        "                          sum_stats=True,\n",
        "                          figsize=None,\n",
        "                          cmap='Blues',\n",
        "                          title=None):\n",
        "    '''\n",
        "    This function will make a pretty plot of an sklearn Confusion Matrix cm using a Seaborn heatmap visualization.\n",
        "    Arguments\n",
        "    ---------\n",
        "    cf:            confusion matrix to be passed in\n",
        "    group_names:   List of strings that represent the labels row by row to be shown in each square.\n",
        "    categories:    List of strings containing the categories to be displayed on the x,y axis. Default is 'auto'\n",
        "    count:         If True, show the raw number in the confusion matrix. Default is True.\n",
        "    normalize:     If True, show the proportions for each category. Default is True.\n",
        "    cbar:          If True, show the color bar. The cbar values are based off the values in the confusion matrix.\n",
        "                   Default is True.\n",
        "    xyticks:       If True, show x and y ticks. Default is True.\n",
        "    xyplotlabels:  If True, show 'True Label' and 'Predicted Label' on the figure. Default is True.\n",
        "    sum_stats:     If True, display summary statistics below the figure. Default is True.\n",
        "    figsize:       Tuple representing the figure size. Default will be the matplotlib rcParams value.\n",
        "    cmap:          Colormap of the values displayed from matplotlib.pyplot.cm. Default is 'Blues'\n",
        "                   See http://matplotlib.org/examples/color/colormaps_reference.html\n",
        "                   \n",
        "    title:         Title for the heatmap. Default is None.\n",
        "    '''\n",
        "\n",
        "\n",
        "    # CODE TO GENERATE TEXT INSIDE EACH SQUARE\n",
        "    blanks = ['' for i in range(cf.size)]\n",
        "\n",
        "    if group_names and len(group_names)==cf.size:\n",
        "        group_labels = [\"{}\\n\".format(value) for value in group_names]\n",
        "    else:\n",
        "        group_labels = blanks\n",
        "\n",
        "    if count:\n",
        "        group_counts = [\"{0:0.0f}\\n\".format(value) for value in cf.flatten()]\n",
        "    else:\n",
        "        group_counts = blanks\n",
        "\n",
        "    if percent:\n",
        "        group_percentages = [\"{0:.2%}\".format(value) for value in cf.flatten()/np.sum(cf)]\n",
        "    else:\n",
        "        group_percentages = blanks\n",
        "\n",
        "    box_labels = [f\"{v1}{v2}{v3}\".strip() for v1, v2, v3 in zip(group_labels,group_counts,group_percentages)]\n",
        "    box_labels = np.asarray(box_labels).reshape(cf.shape[0],cf.shape[1])\n",
        "\n",
        "\n",
        "    # CODE TO GENERATE SUMMARY STATISTICS & TEXT FOR SUMMARY STATS\n",
        "    if sum_stats:\n",
        "        #Accuracy is sum of diagonal divided by total observations\n",
        "        accuracy  = np.trace(cf) / float(np.sum(cf))\n",
        "\n",
        "        #if it is a binary confusion matrix, show some more stats\n",
        "        if len(cf)==2:\n",
        "            #Metrics for Binary Confusion Matrices\n",
        "            precision = cf[1,1] / sum(cf[:,1])\n",
        "            recall    = cf[1,1] / sum(cf[1,:])\n",
        "            MCC=sklearn.metrics.matthews_corrcoef(y_true, y_pred, sample_weight=None)\n",
        "            f1_score  = 2*precision*recall / (precision + recall)\n",
        "            stats_text = \"\\n\\nAccuracy={:0.3f}\\nPrecision={:0.3f}\\nRecall={:0.3f}\\nF1 Score={:0.3f}\\nMCC={:0.3f}\".format(\n",
        "                accuracy,precision,recall,f1_score,MCC)\n",
        "        else:\n",
        "            stats_text = \"\\n\\nAccuracy={:0.3f}\".format(accuracy)\n",
        "    else:\n",
        "        stats_text = \"\"\n",
        "\n",
        "\n",
        "    # SET FIGURE PARAMETERS ACCORDING TO OTHER ARGUMENTS\n",
        "    if figsize==None:\n",
        "        #Get default figure size if not set\n",
        "        figsize = plt.rcParams.get('figure.figsize')\n",
        "\n",
        "    if xyticks==False:\n",
        "        #Do not show categories if xyticks is False\n",
        "        categories=False\n",
        "\n",
        "\n",
        "    # MAKE THE HEATMAP VISUALIZATION\n",
        "    plt.figure(figsize=figsize)\n",
        "    sns.heatmap(cf,annot=box_labels,fmt=\"\",cmap=cmap,cbar=cbar,xticklabels=categories,yticklabels=categories)\n",
        "\n",
        "    if xyplotlabels:\n",
        "        plt.ylabel('True label')\n",
        "        plt.xlabel('Predicted label' + stats_text)\n",
        "    else:\n",
        "        plt.xlabel(stats_text)\n",
        "    \n",
        "    if title:\n",
        "        plt.title(title)"
      ],
      "execution_count": null,
      "outputs": []
    },
    {
      "cell_type": "code",
      "metadata": {
        "id": "nkVXUgTx-NII"
      },
      "source": [
        "import re\n",
        "import string\n",
        "import numpy as np\n",
        "import pandas as pd\n",
        "import random\n",
        "import missingno\n",
        "import plotly.express as px\n",
        "import matplotlib.pyplot as plt\n",
        "import seaborn as sns\n",
        "\n",
        "from sklearn.feature_extraction.text import TfidfVectorizer, CountVectorizer\n",
        "from sklearn.model_selection import train_test_split\n",
        "from sklearn.pipeline import Pipeline\n",
        "from sklearn.base import TransformerMixin\n",
        "from sklearn.metrics import accuracy_score, recall_score, f1_score, plot_confusion_matrix\n",
        "\n",
        "from wordcloud import WordCloud\n",
        "\n",
        "import spacy\n",
        "from spacy.lang.en.stop_words import STOP_WORDS\n",
        "from spacy.lang.en import English\n",
        "from sklearn.linear_model import LogisticRegression\n",
        "from sklearn.ensemble import RandomForestClassifier\n",
        "\n",
        "import warnings\n",
        "warnings.filterwarnings(\"ignore\")\n",
        "import warnings\n",
        "warnings.filterwarnings(\"ignore\")"
      ],
      "execution_count": null,
      "outputs": []
    },
    {
      "cell_type": "code",
      "metadata": {
        "colab": {
          "base_uri": "https://localhost:8080/"
        },
        "id": "0ITcWuAQ-ViU",
        "outputId": "fa768c7d-e2a5-4ed1-d8a6-cf79929cb70e"
      },
      "source": [
        "# NLTK Stop words\n",
        "import nltk\n",
        "nltk.download('stopwords')\n",
        "from nltk.corpus import stopwords\n",
        "stop_words = stopwords.words('english')\n",
        "stop_words.extend(['from', 'subject', 're', 'edu', 'use', 'via','im','us','you','we','they'])"
      ],
      "execution_count": null,
      "outputs": [
        {
          "output_type": "stream",
          "text": [
            "[nltk_data] Downloading package stopwords to /root/nltk_data...\n",
            "[nltk_data]   Package stopwords is already up-to-date!\n"
          ],
          "name": "stdout"
        }
      ]
    },
    {
      "cell_type": "code",
      "metadata": {
        "id": "U3sIeo0V-WEM"
      },
      "source": [
        "!pip install -U -q PyDrive\n",
        "from pydrive.auth import GoogleAuth #You may upload files to your drive and give authentication in order to read the csv.I read files from drive without any problem. \n",
        "from pydrive.drive import GoogleDrive #I hope when you run them for grading purpose you won't encounter any problem\n",
        "from google.colab import auth\n",
        "from oauth2client.client import GoogleCredentials\n",
        "auth.authenticate_user()\n",
        "gauth = GoogleAuth()\n",
        "gauth.credentials = GoogleCredentials.get_application_default()\n",
        "drive = GoogleDrive(gauth)"
      ],
      "execution_count": null,
      "outputs": []
    },
    {
      "cell_type": "code",
      "metadata": {
        "id": "BQ3UA9uD-Ylo"
      },
      "source": [
        "import logging\n",
        "logging.getLogger('googleapiclient.discovery_cache').setLevel(logging.ERROR)"
      ],
      "execution_count": null,
      "outputs": []
    },
    {
      "cell_type": "code",
      "metadata": {
        "id": "FOTsKjYST6U0",
        "colab": {
          "base_uri": "https://localhost:8080/",
          "height": 387
        },
        "outputId": "c4964ba7-a11c-445e-cec5-9b583e1310a8"
      },
      "source": [
        "data_downloaded = drive.CreateFile({'id': '1Vcfg0b7C6mViMl-MbTK-KTqCIwk_mKRS'})\n",
        "data_downloaded.GetContentFile('NewsReal1.rar')\n",
        "\n",
        "data_downloaded = drive.CreateFile({'id': '1RK9hhhLN--1CYP_SwlExC9n76yfdQqFP'})\n",
        "data_downloaded.GetContentFile('NewsReal2.rar')\n",
        "\n",
        "data_downloaded = drive.CreateFile({'id': '1oB4EhHx0g6-_L-moc4m7c7GKL9XOiXFf'})\n",
        "data_downloaded.GetContentFile('NewsFake.rar')"
      ],
      "execution_count": null,
      "outputs": [
        {
          "output_type": "error",
          "ename": "KeyboardInterrupt",
          "evalue": "ignored",
          "traceback": [
            "\u001b[0;31m---------------------------------------------------------------------------\u001b[0m",
            "\u001b[0;31mKeyboardInterrupt\u001b[0m                         Traceback (most recent call last)",
            "\u001b[0;32m<ipython-input-7-c46c5e6e75d6>\u001b[0m in \u001b[0;36m<module>\u001b[0;34m()\u001b[0m\n\u001b[1;32m      1\u001b[0m \u001b[0mdata_downloaded\u001b[0m \u001b[0;34m=\u001b[0m \u001b[0mdrive\u001b[0m\u001b[0;34m.\u001b[0m\u001b[0mCreateFile\u001b[0m\u001b[0;34m(\u001b[0m\u001b[0;34m{\u001b[0m\u001b[0;34m'id'\u001b[0m\u001b[0;34m:\u001b[0m \u001b[0;34m'1Vcfg0b7C6mViMl-MbTK-KTqCIwk_mKRS'\u001b[0m\u001b[0;34m}\u001b[0m\u001b[0;34m)\u001b[0m\u001b[0;34m\u001b[0m\u001b[0;34m\u001b[0m\u001b[0m\n\u001b[0;32m----> 2\u001b[0;31m \u001b[0mdata_downloaded\u001b[0m\u001b[0;34m.\u001b[0m\u001b[0mGetContentFile\u001b[0m\u001b[0;34m(\u001b[0m\u001b[0;34m'NewsReal1.rar'\u001b[0m\u001b[0;34m)\u001b[0m\u001b[0;34m\u001b[0m\u001b[0;34m\u001b[0m\u001b[0m\n\u001b[0m\u001b[1;32m      3\u001b[0m \u001b[0;34m\u001b[0m\u001b[0m\n\u001b[1;32m      4\u001b[0m \u001b[0mdata_downloaded\u001b[0m \u001b[0;34m=\u001b[0m \u001b[0mdrive\u001b[0m\u001b[0;34m.\u001b[0m\u001b[0mCreateFile\u001b[0m\u001b[0;34m(\u001b[0m\u001b[0;34m{\u001b[0m\u001b[0;34m'id'\u001b[0m\u001b[0;34m:\u001b[0m \u001b[0;34m'1RK9hhhLN--1CYP_SwlExC9n76yfdQqFP'\u001b[0m\u001b[0;34m}\u001b[0m\u001b[0;34m)\u001b[0m\u001b[0;34m\u001b[0m\u001b[0;34m\u001b[0m\u001b[0m\n\u001b[1;32m      5\u001b[0m \u001b[0mdata_downloaded\u001b[0m\u001b[0;34m.\u001b[0m\u001b[0mGetContentFile\u001b[0m\u001b[0;34m(\u001b[0m\u001b[0;34m'NewsReal2.rar'\u001b[0m\u001b[0;34m)\u001b[0m\u001b[0;34m\u001b[0m\u001b[0;34m\u001b[0m\u001b[0m\n",
            "\u001b[0;32m/usr/local/lib/python3.6/dist-packages/pydrive/files.py\u001b[0m in \u001b[0;36mGetContentFile\u001b[0;34m(self, filename, mimetype, remove_bom)\u001b[0m\n\u001b[1;32m    208\u001b[0m                     \u001b[0mtype\u001b[0m\u001b[0;34m(\u001b[0m\u001b[0mself\u001b[0m\u001b[0;34m.\u001b[0m\u001b[0mcontent\u001b[0m\u001b[0;34m)\u001b[0m \u001b[0;32mis\u001b[0m \u001b[0;32mnot\u001b[0m \u001b[0mio\u001b[0m\u001b[0;34m.\u001b[0m\u001b[0mBytesIO\u001b[0m \u001b[0;32mor\u001b[0m\u001b[0;31m \u001b[0m\u001b[0;31m\\\u001b[0m\u001b[0;34m\u001b[0m\u001b[0;34m\u001b[0m\u001b[0m\n\u001b[1;32m    209\u001b[0m                     \u001b[0mself\u001b[0m\u001b[0;34m.\u001b[0m\u001b[0mhas_bom\u001b[0m \u001b[0;34m==\u001b[0m \u001b[0mremove_bom\u001b[0m\u001b[0;34m:\u001b[0m\u001b[0;34m\u001b[0m\u001b[0;34m\u001b[0m\u001b[0m\n\u001b[0;32m--> 210\u001b[0;31m       \u001b[0mself\u001b[0m\u001b[0;34m.\u001b[0m\u001b[0mFetchContent\u001b[0m\u001b[0;34m(\u001b[0m\u001b[0mmimetype\u001b[0m\u001b[0;34m,\u001b[0m \u001b[0mremove_bom\u001b[0m\u001b[0;34m)\u001b[0m\u001b[0;34m\u001b[0m\u001b[0;34m\u001b[0m\u001b[0m\n\u001b[0m\u001b[1;32m    211\u001b[0m     \u001b[0mf\u001b[0m \u001b[0;34m=\u001b[0m \u001b[0mopen\u001b[0m\u001b[0;34m(\u001b[0m\u001b[0mfilename\u001b[0m\u001b[0;34m,\u001b[0m \u001b[0;34m'wb'\u001b[0m\u001b[0;34m)\u001b[0m\u001b[0;34m\u001b[0m\u001b[0;34m\u001b[0m\u001b[0m\n\u001b[1;32m    212\u001b[0m     \u001b[0mf\u001b[0m\u001b[0;34m.\u001b[0m\u001b[0mwrite\u001b[0m\u001b[0;34m(\u001b[0m\u001b[0mself\u001b[0m\u001b[0;34m.\u001b[0m\u001b[0mcontent\u001b[0m\u001b[0;34m.\u001b[0m\u001b[0mgetvalue\u001b[0m\u001b[0;34m(\u001b[0m\u001b[0;34m)\u001b[0m\u001b[0;34m)\u001b[0m\u001b[0;34m\u001b[0m\u001b[0;34m\u001b[0m\u001b[0m\n",
            "\u001b[0;32m/usr/local/lib/python3.6/dist-packages/pydrive/files.py\u001b[0m in \u001b[0;36m_decorated\u001b[0;34m(self, *args, **kwargs)\u001b[0m\n\u001b[1;32m     41\u001b[0m     \u001b[0;32mif\u001b[0m \u001b[0;32mnot\u001b[0m \u001b[0mself\u001b[0m\u001b[0;34m.\u001b[0m\u001b[0muploaded\u001b[0m\u001b[0;34m:\u001b[0m\u001b[0;34m\u001b[0m\u001b[0;34m\u001b[0m\u001b[0m\n\u001b[1;32m     42\u001b[0m       \u001b[0mself\u001b[0m\u001b[0;34m.\u001b[0m\u001b[0mFetchMetadata\u001b[0m\u001b[0;34m(\u001b[0m\u001b[0;34m)\u001b[0m\u001b[0;34m\u001b[0m\u001b[0;34m\u001b[0m\u001b[0m\n\u001b[0;32m---> 43\u001b[0;31m     \u001b[0;32mreturn\u001b[0m \u001b[0mdecoratee\u001b[0m\u001b[0;34m(\u001b[0m\u001b[0mself\u001b[0m\u001b[0;34m,\u001b[0m \u001b[0;34m*\u001b[0m\u001b[0margs\u001b[0m\u001b[0;34m,\u001b[0m \u001b[0;34m**\u001b[0m\u001b[0mkwargs\u001b[0m\u001b[0;34m)\u001b[0m\u001b[0;34m\u001b[0m\u001b[0;34m\u001b[0m\u001b[0m\n\u001b[0m\u001b[1;32m     44\u001b[0m   \u001b[0;32mreturn\u001b[0m \u001b[0m_decorated\u001b[0m\u001b[0;34m\u001b[0m\u001b[0;34m\u001b[0m\u001b[0m\n\u001b[1;32m     45\u001b[0m \u001b[0;34m\u001b[0m\u001b[0m\n",
            "\u001b[0;32m/usr/local/lib/python3.6/dist-packages/pydrive/files.py\u001b[0m in \u001b[0;36mFetchContent\u001b[0;34m(self, mimetype, remove_bom)\u001b[0m\n\u001b[1;32m    253\u001b[0m     \u001b[0mexport_links\u001b[0m \u001b[0;34m=\u001b[0m \u001b[0mself\u001b[0m\u001b[0;34m.\u001b[0m\u001b[0mmetadata\u001b[0m\u001b[0;34m.\u001b[0m\u001b[0mget\u001b[0m\u001b[0;34m(\u001b[0m\u001b[0;34m'exportLinks'\u001b[0m\u001b[0;34m)\u001b[0m\u001b[0;34m\u001b[0m\u001b[0;34m\u001b[0m\u001b[0m\n\u001b[1;32m    254\u001b[0m     \u001b[0;32mif\u001b[0m \u001b[0mdownload_url\u001b[0m\u001b[0;34m:\u001b[0m\u001b[0;34m\u001b[0m\u001b[0;34m\u001b[0m\u001b[0m\n\u001b[0;32m--> 255\u001b[0;31m       \u001b[0mself\u001b[0m\u001b[0;34m.\u001b[0m\u001b[0mcontent\u001b[0m \u001b[0;34m=\u001b[0m \u001b[0mio\u001b[0m\u001b[0;34m.\u001b[0m\u001b[0mBytesIO\u001b[0m\u001b[0;34m(\u001b[0m\u001b[0mself\u001b[0m\u001b[0;34m.\u001b[0m\u001b[0m_DownloadFromUrl\u001b[0m\u001b[0;34m(\u001b[0m\u001b[0mdownload_url\u001b[0m\u001b[0;34m)\u001b[0m\u001b[0;34m)\u001b[0m\u001b[0;34m\u001b[0m\u001b[0;34m\u001b[0m\u001b[0m\n\u001b[0m\u001b[1;32m    256\u001b[0m       \u001b[0mself\u001b[0m\u001b[0;34m.\u001b[0m\u001b[0mdirty\u001b[0m\u001b[0;34m[\u001b[0m\u001b[0;34m'content'\u001b[0m\u001b[0;34m]\u001b[0m \u001b[0;34m=\u001b[0m \u001b[0;32mFalse\u001b[0m\u001b[0;34m\u001b[0m\u001b[0;34m\u001b[0m\u001b[0m\n\u001b[1;32m    257\u001b[0m \u001b[0;34m\u001b[0m\u001b[0m\n",
            "\u001b[0;32m/usr/local/lib/python3.6/dist-packages/pydrive/auth.py\u001b[0m in \u001b[0;36m_decorated\u001b[0;34m(self, *args, **kwargs)\u001b[0m\n\u001b[1;32m     73\u001b[0m       \u001b[0mself\u001b[0m\u001b[0;34m.\u001b[0m\u001b[0mhttp\u001b[0m \u001b[0;34m=\u001b[0m \u001b[0mself\u001b[0m\u001b[0;34m.\u001b[0m\u001b[0mauth\u001b[0m\u001b[0;34m.\u001b[0m\u001b[0mGet_Http_Object\u001b[0m\u001b[0;34m(\u001b[0m\u001b[0;34m)\u001b[0m\u001b[0;34m\u001b[0m\u001b[0;34m\u001b[0m\u001b[0m\n\u001b[1;32m     74\u001b[0m \u001b[0;34m\u001b[0m\u001b[0m\n\u001b[0;32m---> 75\u001b[0;31m     \u001b[0;32mreturn\u001b[0m \u001b[0mdecoratee\u001b[0m\u001b[0;34m(\u001b[0m\u001b[0mself\u001b[0m\u001b[0;34m,\u001b[0m \u001b[0;34m*\u001b[0m\u001b[0margs\u001b[0m\u001b[0;34m,\u001b[0m \u001b[0;34m**\u001b[0m\u001b[0mkwargs\u001b[0m\u001b[0;34m)\u001b[0m\u001b[0;34m\u001b[0m\u001b[0;34m\u001b[0m\u001b[0m\n\u001b[0m\u001b[1;32m     76\u001b[0m   \u001b[0;32mreturn\u001b[0m \u001b[0m_decorated\u001b[0m\u001b[0;34m\u001b[0m\u001b[0;34m\u001b[0m\u001b[0m\n\u001b[1;32m     77\u001b[0m \u001b[0;34m\u001b[0m\u001b[0m\n",
            "\u001b[0;32m/usr/local/lib/python3.6/dist-packages/pydrive/files.py\u001b[0m in \u001b[0;36m_DownloadFromUrl\u001b[0;34m(self, url)\u001b[0m\n\u001b[1;32m    501\u001b[0m     \u001b[0;34m:\u001b[0m\u001b[0mraises\u001b[0m\u001b[0;34m:\u001b[0m \u001b[0mApiRequestError\u001b[0m\u001b[0;34m\u001b[0m\u001b[0;34m\u001b[0m\u001b[0m\n\u001b[1;32m    502\u001b[0m     \"\"\"\n\u001b[0;32m--> 503\u001b[0;31m     \u001b[0mresp\u001b[0m\u001b[0;34m,\u001b[0m \u001b[0mcontent\u001b[0m \u001b[0;34m=\u001b[0m \u001b[0mself\u001b[0m\u001b[0;34m.\u001b[0m\u001b[0mhttp\u001b[0m\u001b[0;34m.\u001b[0m\u001b[0mrequest\u001b[0m\u001b[0;34m(\u001b[0m\u001b[0murl\u001b[0m\u001b[0;34m)\u001b[0m\u001b[0;34m\u001b[0m\u001b[0;34m\u001b[0m\u001b[0m\n\u001b[0m\u001b[1;32m    504\u001b[0m     \u001b[0;32mif\u001b[0m \u001b[0mresp\u001b[0m\u001b[0;34m.\u001b[0m\u001b[0mstatus\u001b[0m \u001b[0;34m!=\u001b[0m \u001b[0;36m200\u001b[0m\u001b[0;34m:\u001b[0m\u001b[0;34m\u001b[0m\u001b[0;34m\u001b[0m\u001b[0m\n\u001b[1;32m    505\u001b[0m       \u001b[0;32mraise\u001b[0m \u001b[0mApiRequestError\u001b[0m\u001b[0;34m(\u001b[0m\u001b[0;34m'Cannot download file: %s'\u001b[0m \u001b[0;34m%\u001b[0m \u001b[0mresp\u001b[0m\u001b[0;34m)\u001b[0m\u001b[0;34m\u001b[0m\u001b[0;34m\u001b[0m\u001b[0m\n",
            "\u001b[0;32m/usr/local/lib/python3.6/dist-packages/oauth2client/transport.py\u001b[0m in \u001b[0;36mnew_request\u001b[0;34m(uri, method, body, headers, redirections, connection_type)\u001b[0m\n\u001b[1;32m    173\u001b[0m         resp, content = request(orig_request_method, uri, method, body,\n\u001b[1;32m    174\u001b[0m                                 \u001b[0mclean_headers\u001b[0m\u001b[0;34m(\u001b[0m\u001b[0mheaders\u001b[0m\u001b[0;34m)\u001b[0m\u001b[0;34m,\u001b[0m\u001b[0;34m\u001b[0m\u001b[0;34m\u001b[0m\u001b[0m\n\u001b[0;32m--> 175\u001b[0;31m                                 redirections, connection_type)\n\u001b[0m\u001b[1;32m    176\u001b[0m \u001b[0;34m\u001b[0m\u001b[0m\n\u001b[1;32m    177\u001b[0m         \u001b[0;31m# A stored token may expire between the time it is retrieved and\u001b[0m\u001b[0;34m\u001b[0m\u001b[0;34m\u001b[0m\u001b[0;34m\u001b[0m\u001b[0m\n",
            "\u001b[0;32m/usr/local/lib/python3.6/dist-packages/oauth2client/transport.py\u001b[0m in \u001b[0;36mrequest\u001b[0;34m(http, uri, method, body, headers, redirections, connection_type)\u001b[0m\n\u001b[1;32m    280\u001b[0m     return http_callable(uri, method=method, body=body, headers=headers,\n\u001b[1;32m    281\u001b[0m                          \u001b[0mredirections\u001b[0m\u001b[0;34m=\u001b[0m\u001b[0mredirections\u001b[0m\u001b[0;34m,\u001b[0m\u001b[0;34m\u001b[0m\u001b[0;34m\u001b[0m\u001b[0m\n\u001b[0;32m--> 282\u001b[0;31m                          connection_type=connection_type)\n\u001b[0m\u001b[1;32m    283\u001b[0m \u001b[0;34m\u001b[0m\u001b[0m\n\u001b[1;32m    284\u001b[0m \u001b[0;34m\u001b[0m\u001b[0m\n",
            "\u001b[0;32m/usr/local/lib/python3.6/dist-packages/httplib2/__init__.py\u001b[0m in \u001b[0;36mrequest\u001b[0;34m(self, uri, method, body, headers, redirections, connection_type)\u001b[0m\n\u001b[1;32m   1989\u001b[0m                         \u001b[0mheaders\u001b[0m\u001b[0;34m,\u001b[0m\u001b[0;34m\u001b[0m\u001b[0;34m\u001b[0m\u001b[0m\n\u001b[1;32m   1990\u001b[0m                         \u001b[0mredirections\u001b[0m\u001b[0;34m,\u001b[0m\u001b[0;34m\u001b[0m\u001b[0;34m\u001b[0m\u001b[0m\n\u001b[0;32m-> 1991\u001b[0;31m                         \u001b[0mcachekey\u001b[0m\u001b[0;34m,\u001b[0m\u001b[0;34m\u001b[0m\u001b[0;34m\u001b[0m\u001b[0m\n\u001b[0m\u001b[1;32m   1992\u001b[0m                     )\n\u001b[1;32m   1993\u001b[0m         \u001b[0;32mexcept\u001b[0m \u001b[0mException\u001b[0m \u001b[0;32mas\u001b[0m \u001b[0me\u001b[0m\u001b[0;34m:\u001b[0m\u001b[0;34m\u001b[0m\u001b[0;34m\u001b[0m\u001b[0m\n",
            "\u001b[0;32m/usr/local/lib/python3.6/dist-packages/httplib2/__init__.py\u001b[0m in \u001b[0;36m_request\u001b[0;34m(self, conn, host, absolute_uri, request_uri, method, body, headers, redirections, cachekey)\u001b[0m\n\u001b[1;32m   1649\u001b[0m \u001b[0;34m\u001b[0m\u001b[0m\n\u001b[1;32m   1650\u001b[0m         (response, content) = self._conn_request(\n\u001b[0;32m-> 1651\u001b[0;31m             \u001b[0mconn\u001b[0m\u001b[0;34m,\u001b[0m \u001b[0mrequest_uri\u001b[0m\u001b[0;34m,\u001b[0m \u001b[0mmethod\u001b[0m\u001b[0;34m,\u001b[0m \u001b[0mbody\u001b[0m\u001b[0;34m,\u001b[0m \u001b[0mheaders\u001b[0m\u001b[0;34m\u001b[0m\u001b[0;34m\u001b[0m\u001b[0m\n\u001b[0m\u001b[1;32m   1652\u001b[0m         )\n\u001b[1;32m   1653\u001b[0m \u001b[0;34m\u001b[0m\u001b[0m\n",
            "\u001b[0;32m/usr/local/lib/python3.6/dist-packages/httplib2/__init__.py\u001b[0m in \u001b[0;36m_conn_request\u001b[0;34m(self, conn, request_uri, method, body, headers)\u001b[0m\n\u001b[1;32m   1587\u001b[0m                 \u001b[0;32mpass\u001b[0m\u001b[0;34m\u001b[0m\u001b[0;34m\u001b[0m\u001b[0m\n\u001b[1;32m   1588\u001b[0m             \u001b[0;32mtry\u001b[0m\u001b[0;34m:\u001b[0m\u001b[0;34m\u001b[0m\u001b[0;34m\u001b[0m\u001b[0m\n\u001b[0;32m-> 1589\u001b[0;31m                 \u001b[0mresponse\u001b[0m \u001b[0;34m=\u001b[0m \u001b[0mconn\u001b[0m\u001b[0;34m.\u001b[0m\u001b[0mgetresponse\u001b[0m\u001b[0;34m(\u001b[0m\u001b[0;34m)\u001b[0m\u001b[0;34m\u001b[0m\u001b[0;34m\u001b[0m\u001b[0m\n\u001b[0m\u001b[1;32m   1590\u001b[0m             \u001b[0;32mexcept\u001b[0m \u001b[0;34m(\u001b[0m\u001b[0mhttp\u001b[0m\u001b[0;34m.\u001b[0m\u001b[0mclient\u001b[0m\u001b[0;34m.\u001b[0m\u001b[0mBadStatusLine\u001b[0m\u001b[0;34m,\u001b[0m \u001b[0mhttp\u001b[0m\u001b[0;34m.\u001b[0m\u001b[0mclient\u001b[0m\u001b[0;34m.\u001b[0m\u001b[0mResponseNotReady\u001b[0m\u001b[0;34m)\u001b[0m\u001b[0;34m:\u001b[0m\u001b[0;34m\u001b[0m\u001b[0;34m\u001b[0m\u001b[0m\n\u001b[1;32m   1591\u001b[0m                 \u001b[0;31m# If we get a BadStatusLine on the first try then that means\u001b[0m\u001b[0;34m\u001b[0m\u001b[0;34m\u001b[0m\u001b[0;34m\u001b[0m\u001b[0m\n",
            "\u001b[0;32m/usr/lib/python3.6/http/client.py\u001b[0m in \u001b[0;36mgetresponse\u001b[0;34m(self)\u001b[0m\n\u001b[1;32m   1371\u001b[0m         \u001b[0;32mtry\u001b[0m\u001b[0;34m:\u001b[0m\u001b[0;34m\u001b[0m\u001b[0;34m\u001b[0m\u001b[0m\n\u001b[1;32m   1372\u001b[0m             \u001b[0;32mtry\u001b[0m\u001b[0;34m:\u001b[0m\u001b[0;34m\u001b[0m\u001b[0;34m\u001b[0m\u001b[0m\n\u001b[0;32m-> 1373\u001b[0;31m                 \u001b[0mresponse\u001b[0m\u001b[0;34m.\u001b[0m\u001b[0mbegin\u001b[0m\u001b[0;34m(\u001b[0m\u001b[0;34m)\u001b[0m\u001b[0;34m\u001b[0m\u001b[0;34m\u001b[0m\u001b[0m\n\u001b[0m\u001b[1;32m   1374\u001b[0m             \u001b[0;32mexcept\u001b[0m \u001b[0mConnectionError\u001b[0m\u001b[0;34m:\u001b[0m\u001b[0;34m\u001b[0m\u001b[0;34m\u001b[0m\u001b[0m\n\u001b[1;32m   1375\u001b[0m                 \u001b[0mself\u001b[0m\u001b[0;34m.\u001b[0m\u001b[0mclose\u001b[0m\u001b[0;34m(\u001b[0m\u001b[0;34m)\u001b[0m\u001b[0;34m\u001b[0m\u001b[0;34m\u001b[0m\u001b[0m\n",
            "\u001b[0;32m/usr/lib/python3.6/http/client.py\u001b[0m in \u001b[0;36mbegin\u001b[0;34m(self)\u001b[0m\n\u001b[1;32m    309\u001b[0m         \u001b[0;31m# read until we get a non-100 response\u001b[0m\u001b[0;34m\u001b[0m\u001b[0;34m\u001b[0m\u001b[0;34m\u001b[0m\u001b[0m\n\u001b[1;32m    310\u001b[0m         \u001b[0;32mwhile\u001b[0m \u001b[0;32mTrue\u001b[0m\u001b[0;34m:\u001b[0m\u001b[0;34m\u001b[0m\u001b[0;34m\u001b[0m\u001b[0m\n\u001b[0;32m--> 311\u001b[0;31m             \u001b[0mversion\u001b[0m\u001b[0;34m,\u001b[0m \u001b[0mstatus\u001b[0m\u001b[0;34m,\u001b[0m \u001b[0mreason\u001b[0m \u001b[0;34m=\u001b[0m \u001b[0mself\u001b[0m\u001b[0;34m.\u001b[0m\u001b[0m_read_status\u001b[0m\u001b[0;34m(\u001b[0m\u001b[0;34m)\u001b[0m\u001b[0;34m\u001b[0m\u001b[0;34m\u001b[0m\u001b[0m\n\u001b[0m\u001b[1;32m    312\u001b[0m             \u001b[0;32mif\u001b[0m \u001b[0mstatus\u001b[0m \u001b[0;34m!=\u001b[0m \u001b[0mCONTINUE\u001b[0m\u001b[0;34m:\u001b[0m\u001b[0;34m\u001b[0m\u001b[0;34m\u001b[0m\u001b[0m\n\u001b[1;32m    313\u001b[0m                 \u001b[0;32mbreak\u001b[0m\u001b[0;34m\u001b[0m\u001b[0;34m\u001b[0m\u001b[0m\n",
            "\u001b[0;32m/usr/lib/python3.6/http/client.py\u001b[0m in \u001b[0;36m_read_status\u001b[0;34m(self)\u001b[0m\n\u001b[1;32m    270\u001b[0m \u001b[0;34m\u001b[0m\u001b[0m\n\u001b[1;32m    271\u001b[0m     \u001b[0;32mdef\u001b[0m \u001b[0m_read_status\u001b[0m\u001b[0;34m(\u001b[0m\u001b[0mself\u001b[0m\u001b[0;34m)\u001b[0m\u001b[0;34m:\u001b[0m\u001b[0;34m\u001b[0m\u001b[0;34m\u001b[0m\u001b[0m\n\u001b[0;32m--> 272\u001b[0;31m         \u001b[0mline\u001b[0m \u001b[0;34m=\u001b[0m \u001b[0mstr\u001b[0m\u001b[0;34m(\u001b[0m\u001b[0mself\u001b[0m\u001b[0;34m.\u001b[0m\u001b[0mfp\u001b[0m\u001b[0;34m.\u001b[0m\u001b[0mreadline\u001b[0m\u001b[0;34m(\u001b[0m\u001b[0m_MAXLINE\u001b[0m \u001b[0;34m+\u001b[0m \u001b[0;36m1\u001b[0m\u001b[0;34m)\u001b[0m\u001b[0;34m,\u001b[0m \u001b[0;34m\"iso-8859-1\"\u001b[0m\u001b[0;34m)\u001b[0m\u001b[0;34m\u001b[0m\u001b[0;34m\u001b[0m\u001b[0m\n\u001b[0m\u001b[1;32m    273\u001b[0m         \u001b[0;32mif\u001b[0m \u001b[0mlen\u001b[0m\u001b[0;34m(\u001b[0m\u001b[0mline\u001b[0m\u001b[0;34m)\u001b[0m \u001b[0;34m>\u001b[0m \u001b[0m_MAXLINE\u001b[0m\u001b[0;34m:\u001b[0m\u001b[0;34m\u001b[0m\u001b[0;34m\u001b[0m\u001b[0m\n\u001b[1;32m    274\u001b[0m             \u001b[0;32mraise\u001b[0m \u001b[0mLineTooLong\u001b[0m\u001b[0;34m(\u001b[0m\u001b[0;34m\"status line\"\u001b[0m\u001b[0;34m)\u001b[0m\u001b[0;34m\u001b[0m\u001b[0;34m\u001b[0m\u001b[0m\n",
            "\u001b[0;32m/usr/lib/python3.6/socket.py\u001b[0m in \u001b[0;36mreadinto\u001b[0;34m(self, b)\u001b[0m\n\u001b[1;32m    584\u001b[0m         \u001b[0;32mwhile\u001b[0m \u001b[0;32mTrue\u001b[0m\u001b[0;34m:\u001b[0m\u001b[0;34m\u001b[0m\u001b[0;34m\u001b[0m\u001b[0m\n\u001b[1;32m    585\u001b[0m             \u001b[0;32mtry\u001b[0m\u001b[0;34m:\u001b[0m\u001b[0;34m\u001b[0m\u001b[0;34m\u001b[0m\u001b[0m\n\u001b[0;32m--> 586\u001b[0;31m                 \u001b[0;32mreturn\u001b[0m \u001b[0mself\u001b[0m\u001b[0;34m.\u001b[0m\u001b[0m_sock\u001b[0m\u001b[0;34m.\u001b[0m\u001b[0mrecv_into\u001b[0m\u001b[0;34m(\u001b[0m\u001b[0mb\u001b[0m\u001b[0;34m)\u001b[0m\u001b[0;34m\u001b[0m\u001b[0;34m\u001b[0m\u001b[0m\n\u001b[0m\u001b[1;32m    587\u001b[0m             \u001b[0;32mexcept\u001b[0m \u001b[0mtimeout\u001b[0m\u001b[0;34m:\u001b[0m\u001b[0;34m\u001b[0m\u001b[0;34m\u001b[0m\u001b[0m\n\u001b[1;32m    588\u001b[0m                 \u001b[0mself\u001b[0m\u001b[0;34m.\u001b[0m\u001b[0m_timeout_occurred\u001b[0m \u001b[0;34m=\u001b[0m \u001b[0;32mTrue\u001b[0m\u001b[0;34m\u001b[0m\u001b[0;34m\u001b[0m\u001b[0m\n",
            "\u001b[0;32m/usr/lib/python3.6/ssl.py\u001b[0m in \u001b[0;36mrecv_into\u001b[0;34m(self, buffer, nbytes, flags)\u001b[0m\n\u001b[1;32m   1010\u001b[0m                   \u001b[0;34m\"non-zero flags not allowed in calls to recv_into() on %s\"\u001b[0m \u001b[0;34m%\u001b[0m\u001b[0;34m\u001b[0m\u001b[0;34m\u001b[0m\u001b[0m\n\u001b[1;32m   1011\u001b[0m                   self.__class__)\n\u001b[0;32m-> 1012\u001b[0;31m             \u001b[0;32mreturn\u001b[0m \u001b[0mself\u001b[0m\u001b[0;34m.\u001b[0m\u001b[0mread\u001b[0m\u001b[0;34m(\u001b[0m\u001b[0mnbytes\u001b[0m\u001b[0;34m,\u001b[0m \u001b[0mbuffer\u001b[0m\u001b[0;34m)\u001b[0m\u001b[0;34m\u001b[0m\u001b[0;34m\u001b[0m\u001b[0m\n\u001b[0m\u001b[1;32m   1013\u001b[0m         \u001b[0;32melse\u001b[0m\u001b[0;34m:\u001b[0m\u001b[0;34m\u001b[0m\u001b[0;34m\u001b[0m\u001b[0m\n\u001b[1;32m   1014\u001b[0m             \u001b[0;32mreturn\u001b[0m \u001b[0msocket\u001b[0m\u001b[0;34m.\u001b[0m\u001b[0mrecv_into\u001b[0m\u001b[0;34m(\u001b[0m\u001b[0mself\u001b[0m\u001b[0;34m,\u001b[0m \u001b[0mbuffer\u001b[0m\u001b[0;34m,\u001b[0m \u001b[0mnbytes\u001b[0m\u001b[0;34m,\u001b[0m \u001b[0mflags\u001b[0m\u001b[0;34m)\u001b[0m\u001b[0;34m\u001b[0m\u001b[0;34m\u001b[0m\u001b[0m\n",
            "\u001b[0;32m/usr/lib/python3.6/ssl.py\u001b[0m in \u001b[0;36mread\u001b[0;34m(self, len, buffer)\u001b[0m\n\u001b[1;32m    872\u001b[0m             \u001b[0;32mraise\u001b[0m \u001b[0mValueError\u001b[0m\u001b[0;34m(\u001b[0m\u001b[0;34m\"Read on closed or unwrapped SSL socket.\"\u001b[0m\u001b[0;34m)\u001b[0m\u001b[0;34m\u001b[0m\u001b[0;34m\u001b[0m\u001b[0m\n\u001b[1;32m    873\u001b[0m         \u001b[0;32mtry\u001b[0m\u001b[0;34m:\u001b[0m\u001b[0;34m\u001b[0m\u001b[0;34m\u001b[0m\u001b[0m\n\u001b[0;32m--> 874\u001b[0;31m             \u001b[0;32mreturn\u001b[0m \u001b[0mself\u001b[0m\u001b[0;34m.\u001b[0m\u001b[0m_sslobj\u001b[0m\u001b[0;34m.\u001b[0m\u001b[0mread\u001b[0m\u001b[0;34m(\u001b[0m\u001b[0mlen\u001b[0m\u001b[0;34m,\u001b[0m \u001b[0mbuffer\u001b[0m\u001b[0;34m)\u001b[0m\u001b[0;34m\u001b[0m\u001b[0;34m\u001b[0m\u001b[0m\n\u001b[0m\u001b[1;32m    875\u001b[0m         \u001b[0;32mexcept\u001b[0m \u001b[0mSSLError\u001b[0m \u001b[0;32mas\u001b[0m \u001b[0mx\u001b[0m\u001b[0;34m:\u001b[0m\u001b[0;34m\u001b[0m\u001b[0;34m\u001b[0m\u001b[0m\n\u001b[1;32m    876\u001b[0m             \u001b[0;32mif\u001b[0m \u001b[0mx\u001b[0m\u001b[0;34m.\u001b[0m\u001b[0margs\u001b[0m\u001b[0;34m[\u001b[0m\u001b[0;36m0\u001b[0m\u001b[0;34m]\u001b[0m \u001b[0;34m==\u001b[0m \u001b[0mSSL_ERROR_EOF\u001b[0m \u001b[0;32mand\u001b[0m \u001b[0mself\u001b[0m\u001b[0;34m.\u001b[0m\u001b[0msuppress_ragged_eofs\u001b[0m\u001b[0;34m:\u001b[0m\u001b[0;34m\u001b[0m\u001b[0;34m\u001b[0m\u001b[0m\n",
            "\u001b[0;32m/usr/lib/python3.6/ssl.py\u001b[0m in \u001b[0;36mread\u001b[0;34m(self, len, buffer)\u001b[0m\n\u001b[1;32m    629\u001b[0m         \"\"\"\n\u001b[1;32m    630\u001b[0m         \u001b[0;32mif\u001b[0m \u001b[0mbuffer\u001b[0m \u001b[0;32mis\u001b[0m \u001b[0;32mnot\u001b[0m \u001b[0;32mNone\u001b[0m\u001b[0;34m:\u001b[0m\u001b[0;34m\u001b[0m\u001b[0;34m\u001b[0m\u001b[0m\n\u001b[0;32m--> 631\u001b[0;31m             \u001b[0mv\u001b[0m \u001b[0;34m=\u001b[0m \u001b[0mself\u001b[0m\u001b[0;34m.\u001b[0m\u001b[0m_sslobj\u001b[0m\u001b[0;34m.\u001b[0m\u001b[0mread\u001b[0m\u001b[0;34m(\u001b[0m\u001b[0mlen\u001b[0m\u001b[0;34m,\u001b[0m \u001b[0mbuffer\u001b[0m\u001b[0;34m)\u001b[0m\u001b[0;34m\u001b[0m\u001b[0;34m\u001b[0m\u001b[0m\n\u001b[0m\u001b[1;32m    632\u001b[0m         \u001b[0;32melse\u001b[0m\u001b[0;34m:\u001b[0m\u001b[0;34m\u001b[0m\u001b[0;34m\u001b[0m\u001b[0m\n\u001b[1;32m    633\u001b[0m             \u001b[0mv\u001b[0m \u001b[0;34m=\u001b[0m \u001b[0mself\u001b[0m\u001b[0;34m.\u001b[0m\u001b[0m_sslobj\u001b[0m\u001b[0;34m.\u001b[0m\u001b[0mread\u001b[0m\u001b[0;34m(\u001b[0m\u001b[0mlen\u001b[0m\u001b[0;34m)\u001b[0m\u001b[0;34m\u001b[0m\u001b[0;34m\u001b[0m\u001b[0m\n",
            "\u001b[0;31mKeyboardInterrupt\u001b[0m: "
          ]
        }
      ]
    },
    {
      "cell_type": "code",
      "metadata": {
        "id": "TL7EvVYeUSHr"
      },
      "source": [
        "!unrar x \"/content/NewsReal1.rar\" \"/content/NewsReal1/\"\n",
        "\n",
        "!unrar x \"/content/NewsReal2.rar\" \"/content/NewsReal2/\"\n",
        "\n",
        "!unrar x \"/content/NewsFake.rar\" \"/content/NewsFake/\""
      ],
      "execution_count": null,
      "outputs": []
    },
    {
      "cell_type": "code",
      "metadata": {
        "id": "sH-BqR3bV2Q2"
      },
      "source": [
        "import glob\n",
        "import sys\n",
        "sys.path.insert(0, \"../\")\n",
        "\n",
        "root_path = '/content/'\n",
        "\n",
        "all_txt = glob.glob(f'{root_path}/***/**/*.txt', recursive=True)"
      ],
      "execution_count": null,
      "outputs": []
    },
    {
      "cell_type": "code",
      "metadata": {
        "colab": {
          "base_uri": "https://localhost:8080/"
        },
        "id": "WTZe91NsWneu",
        "outputId": "dd82345a-b9a9-4e96-a37a-f46cb084dea5"
      },
      "source": [
        "class FileReader:\n",
        "    def __init__(self, file_path):\n",
        "        with open(file_path) as file:\n",
        "            content = np.loadtxt(file,delimiter='\\n',dtype=str)\n",
        "            self.text = []\n",
        "            try:\n",
        "              for entry in content:\n",
        "                    self.text.append(entry)\n",
        "            except Exception as e:\n",
        "               # if only one author - or Null valie\n",
        "               self.text.append('')\n",
        "    def __repr__(self):\n",
        "        return f'{self.text}'\n",
        "first_row = FileReader(all_txt[4])\n",
        "print(first_row)"
      ],
      "execution_count": null,
      "outputs": [
        {
          "output_type": "stream",
          "text": [
            "['\\ufeffVitamin C Protects Against Coronavirus January 27, 2020 \\xa0Print This Post Vitamin C Protects Against Coronavirus by Andrew W. Saul, Editor Orthomolecular Medicine News Service FOR IMMEDIATE RELEASE (OMNS January 26, 2020) The coronavirus pandemic can be dramatically slowed, or stopped, with the immediate widespread use of high doses of vitamin C. Physicians have demonstrated the powerful antiviral action of vitamin C for decades. There has been a lack of media coverage of this effective and successful approach against viruses in general, and coronavirus in particular. It is very important to maximize the body’s anti-oxidative capacity and natural immunity to prevent and minimize symptoms when a virus attacks the human body. The host environment is crucial. Preventing is obviously easier than treating severe illness. But treat serious illness seriously. Do not hesitate to seek medical attention. It is not an either-or choice. Vitamin C can be used right along with medicines when they are indicated. “I have not seen any flu yet that was not cured or markedly ameliorated by massive doses of vitamin C.”\\xa0(Robert F. Cathcart, MD) The physicians of the Orthomolecular Medicine News Service and the International Society for Orthomolecular Medicine urge a nutrient-based method to prevent or minimize symptoms for future viral infection. The following inexpensive supplemental levels are recommended for adults; for children reduce these in proportion to body weight: Vitamin C: 3,000 milligrams (or more) daily, in divided doses. Vitamin D3: 2,000 International Units daily. (Start with 5,000 IU/day for two weeks, then reduce to 2,000) Magnesium: 400 mg daily (in citrate, malate, chelate, or chloride form) Zinc: 20 mg daily Selenium: 100 mcg (micrograms) daily Vitamin C [1], Vitamin D [2], magnesium [3], zinc [4], and selenium [5] have been shown to strengthen the immune system against viruses. The basis for using high doses of vitamin C to prevent and combat virus-caused illness may be traced back to vitamin C’s early success against polio, first reported in the late 1940s.[6] Many people are unaware, even surprised, to learn this. Further clinical evidence built up over the decades, leading to an anti-virus protocol published in 1980.[7] It is important to remember that preventing and treating respiratory infections with large amounts of vitamin C is well established. Those who believe that vitamin C generally has merit, but massive doses are ineffective or somehow harmful, will do well to read the original papers for themselves. To dismiss the work of these doctors simply because they had success so long ago sidesteps a more important question: Why has the benefit of their clinical experience not been presented to the public by responsible governmental authorities, especially in the face of a viral pandemic? Read the full press release at Orthomolecular.com References: 1. Vitamin C: Case HS (2018) Vitamin C questions answered. Orthomolecular Medicine News Service, http://orthomolecular.org/resources/omns/v14n12.shtml. Gonzalez MJ, Berdiel MJ, Duconge J (2018) High dose vitamin C and influenza: A case report. J Orthomol Med. June, 2018, 33(3). https://isom.ca/article/high-dose-vitamin-c-influenza-case-report. Gorton HC, Jarvis K (1999) The effectiveness of vitamin C in preventing and relieving the symptoms of virus-induced respiratory infections. J Manip Physiol Ther, 22:8, 530-533. https://www.ncbi.nlm.nih.gov/pubmed/10543583 Hemilä H (2017) Vitamin C and infections. Nutrients. 9(4). pii:E339. https://www.ncbi.nlm.nih.gov/pubmed/28353648. Hickey S, Saul AW (2015) Vitamin C: The real story. Basic Health Pub. ISBN-13: 978-1591202233. Levy TE (2014) The clinical impact of vitamin C. Orthomolecular Medicine News Service, http://orthomolecular.org/resources/omns/v10n14.shtml OMNS (2007) Vitamin C: a highly effective treatment for colds. http://orthomolecular.org/resources/omns/v03n05.shtml. OMNS (2009) Vitamin C as an antiviral http://orthomolecular.org/resources/omns/v05n09.shtml. Taylor T (2017) Vitamin C material: where to start, what to watch. OMNS, http://www.orthomolecular.org/resources/omns/v13n20.shtml. Yejin Kim, Hyemin Kim, Seyeon Bae et al. (2013) Vitamin C is an essential factor on the anti-viral immune responses through the production of interferon-α/β at the initial stage of influenza A virus (H3N2) infection. Immune Netw. 13:70-74. https://www.ncbi.nlm.nih.gov/pubmed/23700397. 2. Vitamin D: Cannell JJ, Vieth R, Umhau JC et al. (2006) Epidemic influenza and vitamin D. Epidemiol Infect. 134:1129-1140. https://www.ncbi.nlm.nih.gov/pubmed/16959053. Cannell JJ, Zasloff M, Garland CF et al. (2008) On the epidemiology of influenza. Virol J. 5:29. https://www.ncbi.nlm.nih.gov/pubmed/16959053. Ginde AA, Mansbach JM, Camargo CA Jr. (2009) Association between serum 25-hydroxyvitamin D level and upper respiratory tract infection in the Third National Health and Nutrition Examination Survey. Arch Intern Med. 169:384-390. https://www.ncbi.nlm.nih.gov/pubmed/19237723. Martineau AR, Jolliffe DA, Hooper RL et al. (2017) Vitamin D supplementation to prevent acute respiratory tract infections: systematic review and meta-analysis of individual participant data. BMJ. 356:i6583. https://www.ncbi.nlm.nih.gov/pubmed/28202713. Urashima M, Segawa T, Okazaki M et al. (2010) Randomized trial of vitamin D supplementation to prevent seasonal influenza A in schoolchildren. Am J Clin Nutr. 91:1255-60. https://www.ncbi.nlm.nih.gov/pubmed/20219962. von Essen MR, Kongsbak M, Schjerling P et al. (2010) Vitamin D controls T cell antigen receptor signaling and activation of human T cells. Nat Immunol. 11:344-349. https://www.ncbi.nlm.nih.gov/pubmed/20208539. 3. Magnesium: Dean C (2017) Magnesium. OMNS, http://www.orthomolecular.org/resources/omns/v13n22.shtml Dean C. (2017) The Magnesium Miracle. 2nd Ed., Ballantine Books. ISBN-13: 978-0399594441. Levy TE (2019) Magnesium: Reversing Disease. Medfox Pub. ISBN-13: 978-0998312408 4. Zinc: Fraker PJ, King LE, Laakko T, Vollmer TL. (2000) The dynamic link between the integrity of the immune system and zinc status. J Nutr. 130:1399S-406S. https://www.ncbi.nlm.nih.gov/pubmed/10801951. Liu MJ, Bao S, Gálvez-Peralta M, et al. (2013) ZIP8 regulates host defense through zinc-mediated inhibition of NF-кB. Cell Rep. 3:386-400. https://www.ncbi.nlm.nih.gov/pubmed/23403290. Mocchegiani E, Muzzioli M. (2000) Therapeutic application of zinc in human immunodeficiency virus against opportunistic infections. J Nutr. 130:1424S-1431S. https://www.ncbi.nlm.nih.gov/pubmed/10801955. Shankar AH, Prasad AS. (1998) Zinc and immune function: the biological basis of altered resistance to infection. Am J Clin Nutr. 68:447S-463S. https://www.ncbi.nlm.nih.gov/pubmed/9701160. 5. Selenium: Beck MA, Levander OA, Handy J. (2003) Selenium deficiency and viral infection. J Nutr. 133:1463S-1467S. https://www.ncbi.nlm.nih.gov/pubmed/12730444. Hoffmann PR, Berry MJ. (2008) The influence of selenium on immune responses. Mol Nutr Food Res. 52:1273-1280. https://www.ncbi.nlm.nih.gov/pubmed/18384097. Steinbrenner H, Al-Quraishy S, Dkhil MA et al. (2015) Dietary selenium in adjuvant therapy of viral and bacterial infections. Adv Nutr. 6:73-82. https://www.ncbi.nlm.nih.gov/pubmed/25593145. 6. Klenner FR. The treatment of poliomyelitis and other virus diseases with vitamin C. J South Med Surg 1949, 111:210-214. http://www.doctoryourself.com/klennerpaper.html. 7. Cathcart RF. The method of determining proper doses of vitamin C for treatment of diseases by titrating to bowel tolerance. Australian Nurses J 1980, 9(4):9-13. http://www.doctoryourself.com/titration.html Published on January 27, 2020 Tags: Coronavirus, vitamin c|  Share This Story, Choose Your Platform! One Comment Alan ball', ' \\t\\t\\t\\t\\tMarch 24, 2020 at 8:34 am - Reply  Yes have been taking this for a couple of weeks now. This has been slow getting out. China imported tonns n tonns of this vitamin c into the country weeks ago. Mostly for iv usage. Join the Discussion\\t\\t\\t\\t\\tCancel reply  Get the news right in your inbox !Choose your options:All News Every 10 New StoriesAll News Every 20 New StoriesAll Health Impact News ArticlesAlternative Health StoriesCoconut Health StoriesCreated4Health StoriesMedicine Watch StoriesReal Food Nutrition StoriesSustainable Agriculture StoriesWe respect your email privacy Top Stories This Week  Top Pathologist Claims Coronavirus is \"The Greatest Hoax Ever Perpetrated on an Unsuspecting Public\"6,120 Views Pfizer and Moderna COVID Vaccine Results NOT based on Peer-Reviewed Science – ZERO Liability to Companies if Vaccine Kills or Injures due to FDA Fast-track Approval4,399 Views 4-Year-Old Almost Dies due to Lung Infection Caused by Prolonged Mask Wearing – Doctor Rants \"How Many Children Must Die?\"3,416 Views Don\\'t Believe the COVID Case Numbers: It\\'s a Scam2,685 Views Portuguese Court Rules PCR Tests As Unreliable & Unlawful To Quarantine People2,574 Views FDA Declares Homeopathic Medicine Illegal – Advocacy Group Seeks 100,000 Protest Comments2,367 Views Operation Warp Speed Reveals COVID Vaccine Distribution Plan by Military: \"All of America Must Receive the Vaccine Within 24 Hours\" After FDA Fast-track Approval2,310 Views The COVID Cult: Greatest Public Health Fiasco in the History of the World1,981 Views Forced Vaccination Law in Denmark Abandoned After Public Protests1,591 Views CENSORED in U.S. – Millions Across Europe Protest New Lockdowns1,459 Views Contact & InformationContact Resources Terms of Use Privacy Statement Categories  Real Food Nutrition Alternative Health Coconut Health Medicine Watch Sustainable Agriculture Created4Health The Health Impact News NetworkHealth Impact News Medical Kidnap Vaccine Impact Coconut Health Created4Health.org ©2020 Health Impact News {\"timed-popup-delay\":5,\"cookie-duration\":-1,\"popup-selector\":\"', ' All News Every 10 New Stories All News Every 20 New Stories CoconutHealth News Created4Health News Medical Kidnap News Vaccine Impact News All Health Impact News Articles All Health Impact News Articles Alternative Health Stories Coconut Health Stories Created4Health Stories  Medicine Watch Stories Real Food Nutrition Stories Sustainable Agriculture Stories  We respect your email privacy Are you already a subscriber?']\n"
          ],
          "name": "stdout"
        }
      ]
    },
    {
      "cell_type": "code",
      "metadata": {
        "colab": {
          "base_uri": "https://localhost:8080/",
          "height": 546
        },
        "id": "n8QALUa5O_7_",
        "outputId": "839ce24f-b080-4774-fba9-198ecb666892"
      },
      "source": [
        "dict_ = {'dataset':[],'news_idx':[],'text': []}\n",
        "with open('output1.txt', 'w') as outfile: \n",
        "  for idx, entry in enumerate(all_txt):\n",
        "    if idx % (len(all_txt) // 10) == 0:   #if idx % (len(all_json[1:29316]) // 10) == 0:\n",
        "        print(f'Processing index: {idx} of {len(all_txt)}')\n",
        "    if all_txt[idx].find('nr')>0:\n",
        "      index=all_txt[idx][all_txt[idx].find('nr')+2:].replace('.txt','')\n",
        "      dataset=all_txt[idx][all_txt[idx].find('News'):18]\n",
        "    else:\n",
        "      index=all_txt[idx][all_txt[idx].find('nf')+2:].replace('.txt','')\n",
        "      dataset=all_txt[idx][all_txt[idx].find('News'):17]\n",
        "    content = FileReader(entry)\n",
        "    if len(str(content)) == 4 or len(str(content)) == 2:\n",
        "        continue\n",
        "    if str(content).find('%PDF-')>0:\n",
        "        continue\n",
        "    #print(str(content).replace(\"['\",'').replace('\"]','').replace['[\"',''].replace(\"\\\\ufeff\",''))\n",
        "    \n",
        "    dict_['text'].append(str(content).replace(\"['\",'').replace('\"]','').replace('[\"','').replace('\\\\t','').replace(\"\\\\ufeff\",''))\n",
        "    dict_['news_idx'].append(index)\n",
        "    dict_['dataset'].append(dataset)\n",
        "    \n",
        "df_covid = pd.DataFrame(dict_, columns=['dataset','news_idx','text'])\n",
        "df_covid.head(10)"
      ],
      "execution_count": null,
      "outputs": [
        {
          "output_type": "stream",
          "text": [
            "Processing index: 0 of 22136\n",
            "Processing index: 2213 of 22136\n",
            "Processing index: 4426 of 22136\n",
            "Processing index: 6639 of 22136\n",
            "Processing index: 8852 of 22136\n",
            "Processing index: 11065 of 22136\n",
            "Processing index: 13278 of 22136\n",
            "Processing index: 15491 of 22136\n",
            "Processing index: 17704 of 22136\n",
            "Processing index: 19917 of 22136\n",
            "Processing index: 22130 of 22136\n"
          ],
          "name": "stdout"
        },
        {
          "output_type": "execute_result",
          "data": {
            "text/html": [
              "<div>\n",
              "<style scoped>\n",
              "    .dataframe tbody tr th:only-of-type {\n",
              "        vertical-align: middle;\n",
              "    }\n",
              "\n",
              "    .dataframe tbody tr th {\n",
              "        vertical-align: top;\n",
              "    }\n",
              "\n",
              "    .dataframe thead th {\n",
              "        text-align: right;\n",
              "    }\n",
              "</style>\n",
              "<table border=\"1\" class=\"dataframe\">\n",
              "  <thead>\n",
              "    <tr style=\"text-align: right;\">\n",
              "      <th></th>\n",
              "      <th>dataset</th>\n",
              "      <th>news_idx</th>\n",
              "      <th>text</th>\n",
              "    </tr>\n",
              "  </thead>\n",
              "  <tbody>\n",
              "    <tr>\n",
              "      <th>0</th>\n",
              "      <td>NewsFake</td>\n",
              "      <td>576</td>\n",
              "      <td>The CDC Confesses to Lying About COVID-19 Deat...</td>\n",
              "    </tr>\n",
              "    <tr>\n",
              "      <th>1</th>\n",
              "      <td>NewsFake</td>\n",
              "      <td>317</td>\n",
              "      <td>Vitamin C Protects Against Coronavirus January...</td>\n",
              "    </tr>\n",
              "    <tr>\n",
              "      <th>2</th>\n",
              "      <td>NewsFake</td>\n",
              "      <td>579</td>\n",
              "      <td>The CDC Confesses to Lying About COVID-19 Deat...</td>\n",
              "    </tr>\n",
              "    <tr>\n",
              "      <th>3</th>\n",
              "      <td>NewsFake</td>\n",
              "      <td>223</td>\n",
              "      <td>Coronavirus Bioweapon - How China Stole Corona...</td>\n",
              "    </tr>\n",
              "    <tr>\n",
              "      <th>4</th>\n",
              "      <td>NewsFake</td>\n",
              "      <td>941</td>\n",
              "      <td>Apparently, 'Woke' Can't Take A Joke: Monty Py...</td>\n",
              "    </tr>\n",
              "    <tr>\n",
              "      <th>5</th>\n",
              "      <td>NewsFake</td>\n",
              "      <td>182</td>\n",
              "      <td>CORONAVIRUS: Reports of 10,000 DEAD in Wuhan, ...</td>\n",
              "    </tr>\n",
              "    <tr>\n",
              "      <th>6</th>\n",
              "      <td>NewsFake</td>\n",
              "      <td>1157</td>\n",
              "      <td>RevolutionRadio.org | Your Weapon of Mass Dest...</td>\n",
              "    </tr>\n",
              "    <tr>\n",
              "      <th>7</th>\n",
              "      <td>NewsFake</td>\n",
              "      <td>179</td>\n",
              "      <td>CORONAVIRUS: Reports of 10,000 DEAD in Wuhan, ...</td>\n",
              "    </tr>\n",
              "    <tr>\n",
              "      <th>8</th>\n",
              "      <td>NewsFake</td>\n",
              "      <td>327</td>\n",
              "      <td>Share Tweet Share Share Share This article may...</td>\n",
              "    </tr>\n",
              "    <tr>\n",
              "      <th>9</th>\n",
              "      <td>NewsFake</td>\n",
              "      <td>490</td>\n",
              "      <td>The CDC Confesses to Lying About COVID-19 Deat...</td>\n",
              "    </tr>\n",
              "  </tbody>\n",
              "</table>\n",
              "</div>"
            ],
            "text/plain": [
              "    dataset news_idx                                               text\n",
              "0  NewsFake      576  The CDC Confesses to Lying About COVID-19 Deat...\n",
              "1  NewsFake      317  Vitamin C Protects Against Coronavirus January...\n",
              "2  NewsFake      579  The CDC Confesses to Lying About COVID-19 Deat...\n",
              "3  NewsFake      223  Coronavirus Bioweapon - How China Stole Corona...\n",
              "4  NewsFake      941  Apparently, 'Woke' Can't Take A Joke: Monty Py...\n",
              "5  NewsFake      182  CORONAVIRUS: Reports of 10,000 DEAD in Wuhan, ...\n",
              "6  NewsFake     1157  RevolutionRadio.org | Your Weapon of Mass Dest...\n",
              "7  NewsFake      179  CORONAVIRUS: Reports of 10,000 DEAD in Wuhan, ...\n",
              "8  NewsFake      327  Share Tweet Share Share Share This article may...\n",
              "9  NewsFake      490  The CDC Confesses to Lying About COVID-19 Deat..."
            ]
          },
          "metadata": {
            "tags": []
          },
          "execution_count": 23
        }
      ]
    },
    {
      "cell_type": "code",
      "metadata": {
        "colab": {
          "base_uri": "https://localhost:8080/",
          "height": 235
        },
        "id": "vX1vpfOsUW42",
        "outputId": "68fbb95c-9bec-4e90-d122-2352ab0c6e96"
      },
      "source": [
        "df_covid=df_covid.groupby([\"text\"], sort=False, as_index=False).first()\n",
        "df_covid.query('text.str.contains(\"Bioweapon \")', engine='python')"
      ],
      "execution_count": null,
      "outputs": [
        {
          "output_type": "execute_result",
          "data": {
            "text/html": [
              "<div>\n",
              "<style scoped>\n",
              "    .dataframe tbody tr th:only-of-type {\n",
              "        vertical-align: middle;\n",
              "    }\n",
              "\n",
              "    .dataframe tbody tr th {\n",
              "        vertical-align: top;\n",
              "    }\n",
              "\n",
              "    .dataframe thead th {\n",
              "        text-align: right;\n",
              "    }\n",
              "</style>\n",
              "<table border=\"1\" class=\"dataframe\">\n",
              "  <thead>\n",
              "    <tr style=\"text-align: right;\">\n",
              "      <th></th>\n",
              "      <th>text</th>\n",
              "      <th>dataset</th>\n",
              "      <th>news_idx</th>\n",
              "    </tr>\n",
              "  </thead>\n",
              "  <tbody>\n",
              "    <tr>\n",
              "      <th>2</th>\n",
              "      <td>Coronavirus Bioweapon - How China Stole Corona...</td>\n",
              "      <td>NewsFake</td>\n",
              "      <td>223</td>\n",
              "    </tr>\n",
              "    <tr>\n",
              "      <th>25</th>\n",
              "      <td>MoA - Novel Coronavirus Defies Conspiracy Theo...</td>\n",
              "      <td>NewsFake</td>\n",
              "      <td>1524</td>\n",
              "    </tr>\n",
              "    <tr>\n",
              "      <th>41</th>\n",
              "      <td>Coronavirus Contains “HIV Insertions”, Stoking...</td>\n",
              "      <td>NewsFake</td>\n",
              "      <td>1517</td>\n",
              "    </tr>\n",
              "    <tr>\n",
              "      <th>45</th>\n",
              "      <td>Coronavirus Contains “HIV Insertions”, Stoking...</td>\n",
              "      <td>NewsFake</td>\n",
              "      <td>1500</td>\n",
              "    </tr>\n",
              "    <tr>\n",
              "      <th>72</th>\n",
              "      <td>Visualizing The Secret History Of Coronavirus ...</td>\n",
              "      <td>NewsFake</td>\n",
              "      <td>205</td>\n",
              "    </tr>\n",
              "    <tr>\n",
              "      <th>92</th>\n",
              "      <td>Alétheia News — Coronavirus Bioweapon - How Ch...</td>\n",
              "      <td>NewsFake</td>\n",
              "      <td>204</td>\n",
              "    </tr>\n",
              "  </tbody>\n",
              "</table>\n",
              "</div>"
            ],
            "text/plain": [
              "                                                 text   dataset news_idx\n",
              "2   Coronavirus Bioweapon - How China Stole Corona...  NewsFake      223\n",
              "25  MoA - Novel Coronavirus Defies Conspiracy Theo...  NewsFake     1524\n",
              "41  Coronavirus Contains “HIV Insertions”, Stoking...  NewsFake     1517\n",
              "45  Coronavirus Contains “HIV Insertions”, Stoking...  NewsFake     1500\n",
              "72  Visualizing The Secret History Of Coronavirus ...  NewsFake      205\n",
              "92  Alétheia News — Coronavirus Bioweapon - How Ch...  NewsFake      204"
            ]
          },
          "metadata": {
            "tags": []
          },
          "execution_count": 48
        }
      ]
    },
    {
      "cell_type": "code",
      "metadata": {
        "id": "FSROi7EJ-bL-"
      },
      "source": [
        "data_downloaded = drive.CreateFile({'id': '140RYjYXx4Kdc03BbdEf-31zOjqELjxd6'})\n",
        "data_downloaded.GetContentFile('HealthClaims_seperated.xlsx')\n",
        "\n",
        "#data_downloaded = drive.CreateFile({'id': '1-QtEM3fARilsyAGznb1Fs6D9Q6_gcdw6'})\n",
        "#data_downloaded.GetContentFile('NewsRealCOVID-19Tweets_3.csv')\n",
        "\n",
        "data_downloaded = drive.CreateFile({'id': '1mP6Kd-MwutR2NS4tobU0GIPoXuW_MZrE'})\n",
        "data_downloaded.GetContentFile('NewsRealCOVID-19Tweets_all.csv')\n",
        "\n",
        "data_downloaded = drive.CreateFile({'id': '1aWraihq5v_CZLx34gqxhd2tgxElhW4fe'})\n",
        "data_downloaded.GetContentFile('ClaimFakeCOVID-19Tweets_all.csv')\n",
        "\n",
        "data_downloaded = drive.CreateFile({'id': '1asDMBNfDBk6OIN6Dvx0Q7J1RiQEizE3w'})\n",
        "data_downloaded.GetContentFile('ClaimRealCOVID-19Tweets_all.csv')\n",
        "\n",
        "data_downloaded = drive.CreateFile({'id': '1dkJXKroA0HAEIjoLKD_g9mSrGAGFiEvg'})\n",
        "data_downloaded.GetContentFile('FakeCOVID19.csv')\n",
        "\n",
        "data_downloaded = drive.CreateFile({'id': '1C9sWAwr_tZwLzGTbHysGkXj_yC0WJohA'})\n",
        "data_downloaded.GetContentFile('NewsFakeCOVID-19Tweets_all.csv')"
      ],
      "execution_count": null,
      "outputs": []
    },
    {
      "cell_type": "code",
      "metadata": {
        "id": "MTvX0Z6O-dXC"
      },
      "source": [
        "HealthClaims_seperated = pd.read_excel('HealthClaims_seperated.xlsx')\n",
        "#NewsRealCOVIDTweets_3 = pd.read_csv('NewsRealCOVID-19Tweets_3.csv',header=None)\n",
        "#NewsRealCOVIDTweets_2 = pd.read_csv('NewsRealCOVID-19Tweets_2.csv',header=None)\n",
        "NewsRealCOVIDTweets = pd.read_csv('NewsRealCOVID-19Tweets_all.csv',header=None)\n",
        "ClaimFakeCOVIDTweets = pd.read_csv('ClaimFakeCOVID-19Tweets_all.csv',header=None)\n",
        "ClaimRealCOVIDTweets = pd.read_csv('ClaimRealCOVID-19Tweets_all.csv',header=None)\n",
        "FakeCOVID19ClaimsTweets = pd.read_csv('FakeCOVID19.csv',header=None)\n",
        "NewsFakeCOVIDTweets = pd.read_csv('NewsFakeCOVID-19Tweets_all.csv',header=None)"
      ],
      "execution_count": null,
      "outputs": []
    },
    {
      "cell_type": "markdown",
      "metadata": {
        "id": "Ma3JZ9JY9Xl8"
      },
      "source": [
        "##Haberler üzerinden yapılacak ise"
      ]
    },
    {
      "cell_type": "code",
      "metadata": {
        "id": "xwYXW1LYd9mk"
      },
      "source": [
        "HealthClaims_seperated['dataset']='SnopeManual'\n",
        "df_covid['TRUTH']=bool\n",
        "df_covid['TRUTH'][df_covid.dataset=='NewsFake']=False\n",
        "df_covid['TRUTH'][df_covid.dataset=='NewsReal1']=True\n",
        "df_covid['TRUTH'][df_covid.dataset=='NewsReal2']=True"
      ],
      "execution_count": null,
      "outputs": []
    },
    {
      "cell_type": "code",
      "metadata": {
        "id": "jxopDcIUs6Fz"
      },
      "source": [
        "HealthClaims_seperated = HealthClaims_seperated.rename(columns = {'FULL NEWS': 'text'}, inplace = False)\n",
        "HealthClaims_seperated=HealthClaims_seperated.drop('CLAIM',1)\n",
        "HealthClaims_seperated=HealthClaims_seperated.drop('SNOPE_ARTICLE',1)"
      ],
      "execution_count": null,
      "outputs": []
    },
    {
      "cell_type": "code",
      "metadata": {
        "id": "sTE8lRjgtV59"
      },
      "source": [
        "df_covid=df_covid.drop('news_idx',1)\n",
        "HealthClaims_seperated=HealthClaims_seperated[['text','dataset','TRUTH']]\n",
        "train_df=pd.concat([HealthClaims_seperated,df_covid],ignore_index=True)\n",
        "train_df = train_df.rename(columns = {'text': 'FULL_NEWS'}, inplace = False)"
      ],
      "execution_count": null,
      "outputs": []
    },
    {
      "cell_type": "markdown",
      "metadata": {
        "id": "V1viRmqhw5UY"
      },
      "source": [
        "# Haberler üzerinden yapılacak ise sonu"
      ]
    },
    {
      "cell_type": "code",
      "metadata": {
        "id": "ALstwSFGVmnX"
      },
      "source": [
        "pd.set_option(\"display.max_colwidth\", 100)"
      ],
      "execution_count": null,
      "outputs": []
    },
    {
      "cell_type": "markdown",
      "metadata": {
        "id": "k3D1zgaHbKmg"
      },
      "source": [
        "\n",
        "\n",
        "```\n",
        "# distinct alırken link üzerinden mi tweet üzerinden mi distinct alınmalı? ona göre bu kodu çalıştır\n",
        "NewsReal1=df_covid[df_covid.dataset=='NewsReal1'].reset_index(drop=True)\n",
        "NewsReal2=df_covid[df_covid.dataset=='NewsReal2'].reset_index(drop=True)\n",
        "NewsReal1.news_idx=NewsReal1.news_idx.apply(pd.to_numeric) \n",
        "NewsReal2.news_idx=NewsReal2.news_idx.apply(pd.to_numeric) \n",
        "\n",
        "NewsRealCOVIDTweets=NewsRealCOVIDTweets.groupby(2, sort=False, as_index=False).first()\n",
        "NewsRealCOVIDTweets_2=NewsRealCOVIDTweets_2.groupby(2, sort=False, as_index=False).first()\n",
        "NewsRealCOVIDTweets[\"news_idx\"] = NewsRealCOVIDTweets.index + 1\n",
        "NewsRealCOVIDTweets_2[\"news_idx\"] = NewsRealCOVIDTweets_2.index + 1\n",
        "pd.merge(NewsRealCOVIDTweets,\n",
        "                 NewsReal1,\n",
        "                 on='news_idx', \n",
        "                 how='left')[pd.merge(NewsRealCOVIDTweets,\n",
        "                 NewsReal1,\n",
        "                 on='news_idx', \n",
        "                 how='left').news_idx==4317]\n",
        "```\n",
        "\n"
      ]
    },
    {
      "cell_type": "code",
      "metadata": {
        "id": "VozLErJK9rix"
      },
      "source": [
        "ClaimFakeCOVIDTweets = ClaimFakeCOVIDTweets.rename(columns = {0: 'ID', 1: 'FULL_NEWS', 2: 'DATE', 3:'LANG',4: 'INDEX'}, inplace = False)\n",
        "ClaimFakeCOVIDTweets['TRUTH']=False\n",
        "ClaimFakeCOVIDTweets['DATASET']='CLAIM'\n",
        "ClaimRealCOVIDTweets = ClaimRealCOVIDTweets.rename(columns = {0: 'ID', 1: 'FULL_NEWS', 2: 'DATE', 3:'LANG',4:'INDEX'}, inplace = False)\n",
        "ClaimRealCOVIDTweets['TRUTH']=True\n",
        "ClaimRealCOVIDTweets['DATASET']='CLAIM'\n",
        "FakeCOVID19ClaimsTweets = FakeCOVID19ClaimsTweets.rename(columns = {0: 'ID', 1: 'FULL_NEWS', 2: 'DATE', 3:'LANG',4:'INDEX'}, inplace = False)\n",
        "FakeCOVID19ClaimsTweets['TRUTH']=False\n",
        "FakeCOVID19ClaimsTweets['DATASET']='CLAIM'"
      ],
      "execution_count": null,
      "outputs": []
    },
    {
      "cell_type": "code",
      "metadata": {
        "id": "FW7V84-1nrdA"
      },
      "source": [
        "NewsFakeCOVIDTweets = NewsFakeCOVIDTweets.rename(columns = {0: 'ID', 1: 'FULL_NEWS', 2: 'DATE', 3:'LANG',4:'INDEX'}, inplace = False)\n",
        "NewsFakeCOVIDTweets['TRUTH']=False\n",
        "NewsFakeCOVIDTweets['DATASET']='NEWS'\n",
        "NewsRealCOVIDTweets = NewsRealCOVIDTweets.rename(columns = {0: 'ID', 1: 'FULL_NEWS', 2: 'DATE', 3:'LANG',4:'INDEX'}, inplace = False)\n",
        "NewsRealCOVIDTweets['TRUTH']=True\n",
        "NewsRealCOVIDTweets['DATASET']='NEWS'"
      ],
      "execution_count": null,
      "outputs": []
    },
    {
      "cell_type": "code",
      "metadata": {
        "id": "ktNTrC7Ioeef"
      },
      "source": [
        "train_df = pd.concat([ClaimRealCOVIDTweets,ClaimFakeCOVIDTweets,FakeCOVID19ClaimsTweets,NewsRealCOVIDTweets,NewsFakeCOVIDTweets],ignore_index=True)"
      ],
      "execution_count": null,
      "outputs": []
    },
    {
      "cell_type": "code",
      "metadata": {
        "colab": {
          "base_uri": "https://localhost:8080/",
          "height": 406
        },
        "id": "GpLhfT3UyeyO",
        "outputId": "360600ca-46bb-40ba-a2b0-fec90f053024"
      },
      "source": [
        "ClaimFakeCOVIDTweets[ClaimFakeCOVIDTweets.TRUTH==False]"
      ],
      "execution_count": null,
      "outputs": [
        {
          "output_type": "execute_result",
          "data": {
            "text/html": [
              "<div>\n",
              "<style scoped>\n",
              "    .dataframe tbody tr th:only-of-type {\n",
              "        vertical-align: middle;\n",
              "    }\n",
              "\n",
              "    .dataframe tbody tr th {\n",
              "        vertical-align: top;\n",
              "    }\n",
              "\n",
              "    .dataframe thead th {\n",
              "        text-align: right;\n",
              "    }\n",
              "</style>\n",
              "<table border=\"1\" class=\"dataframe\">\n",
              "  <thead>\n",
              "    <tr style=\"text-align: right;\">\n",
              "      <th></th>\n",
              "      <th>ID</th>\n",
              "      <th>FULL_NEWS</th>\n",
              "      <th>DATE</th>\n",
              "      <th>LANG</th>\n",
              "      <th>INDEX</th>\n",
              "      <th>TRUTH</th>\n",
              "      <th>DATASET</th>\n",
              "    </tr>\n",
              "  </thead>\n",
              "  <tbody>\n",
              "    <tr>\n",
              "      <th>0</th>\n",
              "      <td>1.252630e+18</td>\n",
              "      <td>Can you tell fact from fiction?\\n1. The immedi...</td>\n",
              "      <td>04.21.2020</td>\n",
              "      <td>en</td>\n",
              "      <td>100001</td>\n",
              "      <td>False</td>\n",
              "      <td>CLAIM</td>\n",
              "    </tr>\n",
              "    <tr>\n",
              "      <th>1</th>\n",
              "      <td>1.243970e+18</td>\n",
              "      <td>2. Only older adults and young people are at r...</td>\n",
              "      <td>03.28.2020</td>\n",
              "      <td>en</td>\n",
              "      <td>100001</td>\n",
              "      <td>False</td>\n",
              "      <td>CLAIM</td>\n",
              "    </tr>\n",
              "    <tr>\n",
              "      <th>2</th>\n",
              "      <td>1.242470e+18</td>\n",
              "      <td>2. Only older adults and young people are at r...</td>\n",
              "      <td>03.24.2020</td>\n",
              "      <td>en</td>\n",
              "      <td>100001</td>\n",
              "      <td>False</td>\n",
              "      <td>CLAIM</td>\n",
              "    </tr>\n",
              "    <tr>\n",
              "      <th>3</th>\n",
              "      <td>1.242460e+18</td>\n",
              "      <td>#Corona Myth &amp;amp; Reality.\\n\\nMyth: Only olde...</td>\n",
              "      <td>03.24.2020</td>\n",
              "      <td>en</td>\n",
              "      <td>100001</td>\n",
              "      <td>False</td>\n",
              "      <td>CLAIM</td>\n",
              "    </tr>\n",
              "    <tr>\n",
              "      <th>4</th>\n",
              "      <td>1.242400e+18</td>\n",
              "      <td>SOME MYTHS ABOUT COVID-19\\n 1. If you can hold...</td>\n",
              "      <td>03.24.2020</td>\n",
              "      <td>en</td>\n",
              "      <td>100001</td>\n",
              "      <td>False</td>\n",
              "      <td>CLAIM</td>\n",
              "    </tr>\n",
              "    <tr>\n",
              "      <th>...</th>\n",
              "      <td>...</td>\n",
              "      <td>...</td>\n",
              "      <td>...</td>\n",
              "      <td>...</td>\n",
              "      <td>...</td>\n",
              "      <td>...</td>\n",
              "      <td>...</td>\n",
              "    </tr>\n",
              "    <tr>\n",
              "      <th>431</th>\n",
              "      <td>1.263380e+18</td>\n",
              "      <td>@beverleyhb57 @janis_garbutt Can you catch cor...</td>\n",
              "      <td>05.21.2020</td>\n",
              "      <td>en</td>\n",
              "      <td>100027</td>\n",
              "      <td>False</td>\n",
              "      <td>CLAIM</td>\n",
              "    </tr>\n",
              "    <tr>\n",
              "      <th>432</th>\n",
              "      <td>1.262810e+18</td>\n",
              "      <td>Can you catch coronavirus in swimming pools or...</td>\n",
              "      <td>05.19.2020</td>\n",
              "      <td>en</td>\n",
              "      <td>100027</td>\n",
              "      <td>False</td>\n",
              "      <td>CLAIM</td>\n",
              "    </tr>\n",
              "    <tr>\n",
              "      <th>433</th>\n",
              "      <td>1.260100e+18</td>\n",
              "      <td>Can you catch coronavirus in swimming pools or...</td>\n",
              "      <td>05.12.2020</td>\n",
              "      <td>en</td>\n",
              "      <td>100027</td>\n",
              "      <td>False</td>\n",
              "      <td>CLAIM</td>\n",
              "    </tr>\n",
              "    <tr>\n",
              "      <th>434</th>\n",
              "      <td>1.257610e+18</td>\n",
              "      <td>Can you catch coronavirus in swimming pools or...</td>\n",
              "      <td>05.05.2020</td>\n",
              "      <td>en</td>\n",
              "      <td>100027</td>\n",
              "      <td>False</td>\n",
              "      <td>CLAIM</td>\n",
              "    </tr>\n",
              "    <tr>\n",
              "      <th>435</th>\n",
              "      <td>1.257610e+18</td>\n",
              "      <td>Can you catch coronavirus in swimming pools or...</td>\n",
              "      <td>05.05.2020</td>\n",
              "      <td>en</td>\n",
              "      <td>100027</td>\n",
              "      <td>False</td>\n",
              "      <td>CLAIM</td>\n",
              "    </tr>\n",
              "  </tbody>\n",
              "</table>\n",
              "<p>436 rows × 7 columns</p>\n",
              "</div>"
            ],
            "text/plain": [
              "               ID  ... DATASET\n",
              "0    1.252630e+18  ...   CLAIM\n",
              "1    1.243970e+18  ...   CLAIM\n",
              "2    1.242470e+18  ...   CLAIM\n",
              "3    1.242460e+18  ...   CLAIM\n",
              "4    1.242400e+18  ...   CLAIM\n",
              "..            ...  ...     ...\n",
              "431  1.263380e+18  ...   CLAIM\n",
              "432  1.262810e+18  ...   CLAIM\n",
              "433  1.260100e+18  ...   CLAIM\n",
              "434  1.257610e+18  ...   CLAIM\n",
              "435  1.257610e+18  ...   CLAIM\n",
              "\n",
              "[436 rows x 7 columns]"
            ]
          },
          "metadata": {
            "tags": []
          },
          "execution_count": 13
        }
      ]
    },
    {
      "cell_type": "code",
      "metadata": {
        "id": "vvx3Q3owaejX"
      },
      "source": [
        "# https://www.kaggle.com/shahules/basic-eda-cleaning-and-glove\n",
        "def remove_url(text):\n",
        "    url = re.compile(r'https?://\\S+|www\\.\\S+')\n",
        "    return url.sub(r'',text)\n",
        "\n",
        "def remove_newline(text):\n",
        "    line = re.compile(r'\\n')\n",
        "    return line.sub(r' ',text)\n",
        "\n",
        "def remove_mentions(text):\n",
        "    mention=re.compile(r'@\\w+')\n",
        "    return mention.sub(r' ',text)\n",
        "\n",
        "def remove_hashtag(text):\n",
        "    hashtag=re.compile(r'#')\n",
        "    return hashtag.sub(r'',text)\n",
        "\n",
        "def remove_html(text):\n",
        "    html = re.compile(r'<.*?>')\n",
        "    return html.sub(r'',text)\n",
        "\n",
        "def remove_space(text):\n",
        "    spc = re.compile(r'xa0')\n",
        "    return spc.sub(r' ',text)    \n",
        "\n",
        "def strip(text):\n",
        "  text=text.strip()\n",
        "  return text\n",
        "\n",
        "def remove_emoji(text):\n",
        "    emoji_pattern = re.compile(\"[\"\n",
        "                           u\"\\U0001F600-\\U0001F64F\"  # emoticons\n",
        "                           u\"\\U0001F300-\\U0001F5FF\"  # symbols & pictographs\n",
        "                           u\"\\U0001F680-\\U0001F6FF\"  # transport & map symbols\n",
        "                           u\"\\U0001F1E0-\\U0001F1FF\"  # flags (iOS)\n",
        "                           u\"\\U00002702-\\U000027B0\"\n",
        "                           u\"\\U000024C2-\\U0001F251\"\n",
        "                           \"]+\", flags=re.UNICODE)\n",
        "    return emoji_pattern.sub(r'', text)"
      ],
      "execution_count": null,
      "outputs": []
    },
    {
      "cell_type": "code",
      "metadata": {
        "id": "Ai-hlzlmaf9a"
      },
      "source": [
        "def find_hashtags(tweet):\n",
        "    return \" \".join([match.group(0)[1:] for match in re.finditer(r\"#\\w+\", tweet)]) or 'no'\n",
        "\n",
        "def find_mentions(tweet):\n",
        "    return \" \".join([match.group(0)[1:] for match in re.finditer(r\"@\\w+\", tweet)]) or 'no'\n",
        "\n",
        "def find_links(tweet):\n",
        "    return \" \".join([match.group(0)[:] for match in re.finditer(r\"https?://\\S+\", tweet)]) or 'no'"
      ],
      "execution_count": null,
      "outputs": []
    },
    {
      "cell_type": "code",
      "metadata": {
        "id": "PwTJy5b0ao6q"
      },
      "source": [
        "def process_text(df):   \n",
        "    df['hashtags'] = df['FULL_NEWS'].apply(lambda x: find_hashtags(x))\n",
        "    df['mentions'] = df['FULL_NEWS'].apply(lambda x: find_mentions(x))\n",
        "    df['links'] = df['FULL_NEWS'].apply(lambda x: find_links(x))\n",
        "    return df\n",
        "\n",
        "train_df = process_text(train_df)"
      ],
      "execution_count": null,
      "outputs": []
    },
    {
      "cell_type": "code",
      "metadata": {
        "colab": {
          "base_uri": "https://localhost:8080/",
          "height": 197
        },
        "id": "AP8Hu4uva-JA",
        "outputId": "37f9b857-4c53-40b5-b0e5-acb51b035cb0"
      },
      "source": [
        "for datas in [train_df]:\n",
        "    datas['FULL_NEWS'] = datas['FULL_NEWS'].apply(lambda x : remove_url(x))\n",
        "    datas['FULL_NEWS'] = datas['FULL_NEWS'].apply(lambda x : remove_html(x))\n",
        "    datas['FULL_NEWS'] = datas['FULL_NEWS'].apply(lambda x : remove_emoji(x))\n",
        "    datas['FULL_NEWS'] = datas['FULL_NEWS'].apply(lambda x : remove_newline(x))\n",
        "    datas['FULL_NEWS'] = datas['FULL_NEWS'].apply(lambda x : remove_mentions(x))\n",
        "    datas['FULL_NEWS'] = datas['FULL_NEWS'].apply(lambda x : remove_space(x))\n",
        "    datas['FULL_NEWS'] = datas['FULL_NEWS'].apply(lambda x : remove_hashtag(x))\n",
        "    datas['FULL_NEWS'] = datas['FULL_NEWS'].apply(lambda x : strip(x))\n",
        "train_df.head()"
      ],
      "execution_count": null,
      "outputs": [
        {
          "output_type": "execute_result",
          "data": {
            "text/html": [
              "<div>\n",
              "<style scoped>\n",
              "    .dataframe tbody tr th:only-of-type {\n",
              "        vertical-align: middle;\n",
              "    }\n",
              "\n",
              "    .dataframe tbody tr th {\n",
              "        vertical-align: top;\n",
              "    }\n",
              "\n",
              "    .dataframe thead th {\n",
              "        text-align: right;\n",
              "    }\n",
              "</style>\n",
              "<table border=\"1\" class=\"dataframe\">\n",
              "  <thead>\n",
              "    <tr style=\"text-align: right;\">\n",
              "      <th></th>\n",
              "      <th>ID</th>\n",
              "      <th>FULL_NEWS</th>\n",
              "      <th>DATE</th>\n",
              "      <th>LANG</th>\n",
              "      <th>INDEX</th>\n",
              "      <th>TRUTH</th>\n",
              "      <th>DATASET</th>\n",
              "      <th>hashtags</th>\n",
              "      <th>mentions</th>\n",
              "      <th>links</th>\n",
              "    </tr>\n",
              "  </thead>\n",
              "  <tbody>\n",
              "    <tr>\n",
              "      <th>0</th>\n",
              "      <td>1.253280e+18</td>\n",
              "      <td>How large does a meeting or event need to be i...</td>\n",
              "      <td>04.23.2020</td>\n",
              "      <td>en</td>\n",
              "      <td>100000</td>\n",
              "      <td>True</td>\n",
              "      <td>CLAIM</td>\n",
              "      <td>no</td>\n",
              "      <td>no</td>\n",
              "      <td>no</td>\n",
              "    </tr>\n",
              "    <tr>\n",
              "      <th>1</th>\n",
              "      <td>1.253970e+18</td>\n",
              "      <td>Does WHO recommend that all international mass...</td>\n",
              "      <td>04.25.2020</td>\n",
              "      <td>en</td>\n",
              "      <td>100001</td>\n",
              "      <td>True</td>\n",
              "      <td>CLAIM</td>\n",
              "      <td>no</td>\n",
              "      <td>Cordobesa2201 Rumpelstinski6 sanidadgob</td>\n",
              "      <td>no</td>\n",
              "    </tr>\n",
              "    <tr>\n",
              "      <th>2</th>\n",
              "      <td>1.253960e+18</td>\n",
              "      <td>Does WHO recommend that all international mass...</td>\n",
              "      <td>04.25.2020</td>\n",
              "      <td>en</td>\n",
              "      <td>100001</td>\n",
              "      <td>True</td>\n",
              "      <td>CLAIM</td>\n",
              "      <td>no</td>\n",
              "      <td>Cordobesa2201 Rumpelstinski6 sanidadgob</td>\n",
              "      <td>no</td>\n",
              "    </tr>\n",
              "    <tr>\n",
              "      <th>3</th>\n",
              "      <td>1.252580e+18</td>\n",
              "      <td>MASS GATHERING - Does WHO recommend that all i...</td>\n",
              "      <td>04.21.2020</td>\n",
              "      <td>en</td>\n",
              "      <td>100001</td>\n",
              "      <td>True</td>\n",
              "      <td>CLAIM</td>\n",
              "      <td>no</td>\n",
              "      <td>AngryDuck91</td>\n",
              "      <td>no</td>\n",
              "    </tr>\n",
              "    <tr>\n",
              "      <th>4</th>\n",
              "      <td>1.252580e+18</td>\n",
              "      <td>- Does WHO recommend that all international ma...</td>\n",
              "      <td>04.21.2020</td>\n",
              "      <td>en</td>\n",
              "      <td>100001</td>\n",
              "      <td>True</td>\n",
              "      <td>CLAIM</td>\n",
              "      <td>no</td>\n",
              "      <td>AngryDuck91</td>\n",
              "      <td>no</td>\n",
              "    </tr>\n",
              "  </tbody>\n",
              "</table>\n",
              "</div>"
            ],
            "text/plain": [
              "             ID  ... links\n",
              "0  1.253280e+18  ...    no\n",
              "1  1.253970e+18  ...    no\n",
              "2  1.253960e+18  ...    no\n",
              "3  1.252580e+18  ...    no\n",
              "4  1.252580e+18  ...    no\n",
              "\n",
              "[5 rows x 10 columns]"
            ]
          },
          "metadata": {
            "tags": []
          },
          "execution_count": 17
        }
      ]
    },
    {
      "cell_type": "code",
      "metadata": {
        "id": "YnIYl69UBObO"
      },
      "source": [
        "train_df['DATE']=pd.to_datetime(train_df['DATE'], format='%m.%d.%Y') \n",
        "train_df=train_df.sort_values(by=['DATE'],ascending=True)\n",
        "train_df=train_df.groupby([\"FULL_NEWS\"], sort=False, as_index=False).first()"
      ],
      "execution_count": null,
      "outputs": []
    },
    {
      "cell_type": "code",
      "metadata": {
        "id": "hOACqwHJzk0e"
      },
      "source": [
        "train_df=train_df[train_df.LANG=='en']\n",
        "train_df=train_df[train_df.DATE> '2019-11-1'].reset_index()"
      ],
      "execution_count": null,
      "outputs": []
    },
    {
      "cell_type": "code",
      "metadata": {
        "id": "CeuIFEXK-7Zy"
      },
      "source": [
        "with open(\"train_df.csv\", \"w\",encoding='utf-8-sig') as text_file:\n",
        "    text_file.write(train_df.to_csv(index=False))"
      ],
      "execution_count": null,
      "outputs": []
    },
    {
      "cell_type": "code",
      "metadata": {
        "colab": {
          "base_uri": "https://localhost:8080/",
          "height": 33
        },
        "id": "Va7wLITS-JKl",
        "outputId": "414bf80e-680f-4482-94bb-33ccc21d4d21"
      },
      "source": [
        "from google.colab import files\n",
        "files.download(\"train_df.csv\")"
      ],
      "execution_count": null,
      "outputs": [
        {
          "output_type": "display_data",
          "data": {
            "application/javascript": [
              "\n",
              "    async function download(id, filename, size) {\n",
              "      if (!google.colab.kernel.accessAllowed) {\n",
              "        return;\n",
              "      }\n",
              "      const div = document.createElement('div');\n",
              "      const label = document.createElement('label');\n",
              "      label.textContent = `Downloading \"${filename}\": `;\n",
              "      div.appendChild(label);\n",
              "      const progress = document.createElement('progress');\n",
              "      progress.max = size;\n",
              "      div.appendChild(progress);\n",
              "      document.body.appendChild(div);\n",
              "\n",
              "      const buffers = [];\n",
              "      let downloaded = 0;\n",
              "\n",
              "      const channel = await google.colab.kernel.comms.open(id);\n",
              "      // Send a message to notify the kernel that we're ready.\n",
              "      channel.send({})\n",
              "\n",
              "      for await (const message of channel.messages) {\n",
              "        // Send a message to notify the kernel that we're ready.\n",
              "        channel.send({})\n",
              "        if (message.buffers) {\n",
              "          for (const buffer of message.buffers) {\n",
              "            buffers.push(buffer);\n",
              "            downloaded += buffer.byteLength;\n",
              "            progress.value = downloaded;\n",
              "          }\n",
              "        }\n",
              "      }\n",
              "      const blob = new Blob(buffers, {type: 'application/binary'});\n",
              "      const a = document.createElement('a');\n",
              "      a.href = window.URL.createObjectURL(blob);\n",
              "      a.download = filename;\n",
              "      div.appendChild(a);\n",
              "      a.click();\n",
              "      div.remove();\n",
              "    }\n",
              "  "
            ],
            "text/plain": [
              "<IPython.core.display.Javascript object>"
            ]
          },
          "metadata": {
            "tags": []
          }
        },
        {
          "output_type": "display_data",
          "data": {
            "application/javascript": [
              "download(\"download_419fb7df-df9f-4dc5-84c4-07ee1a493ecb\", \"train_df.csv\", 14240654)"
            ],
            "text/plain": [
              "<IPython.core.display.Javascript object>"
            ]
          },
          "metadata": {
            "tags": []
          }
        }
      ]
    },
    {
      "cell_type": "code",
      "metadata": {
        "id": "KiVvFyZbFTfn"
      },
      "source": [
        "train_data=train_df[train_df.DATE< '2020-6-1']\n",
        "validate_data=train_df[train_df.DATE > '2020-6-1']"
      ],
      "execution_count": null,
      "outputs": []
    },
    {
      "cell_type": "code",
      "metadata": {
        "id": "pvPZKgkTqCBf"
      },
      "source": [
        "train_data, validate_data = np.split(train_df, [int(.8*len(train_df))])"
      ],
      "execution_count": null,
      "outputs": []
    },
    {
      "cell_type": "code",
      "metadata": {
        "colab": {
          "base_uri": "https://localhost:8080/"
        },
        "id": "teZRb9Bly_nA",
        "outputId": "4b533a46-a07b-4b00-b114-dc0df074702d"
      },
      "source": [
        "#UnderSampling Yapılacaksa bu kodu çalıştır. Sampling strategyi de ayarla\n",
        "!pip install imbalanced-learn\n",
        "import imblearn\n",
        "from imblearn.under_sampling import RandomUnderSampler\n",
        "\n",
        "# define undersample strategy\n",
        "undersample = RandomUnderSampler(sampling_strategy='majority')\n",
        "# fit and apply the transform\n",
        "train_data,y=undersample.fit_resample(train_data, train_data['TRUTH'])\n",
        "\n"
      ],
      "execution_count": null,
      "outputs": [
        {
          "output_type": "stream",
          "text": [
            "Requirement already satisfied: imbalanced-learn in /usr/local/lib/python3.6/dist-packages (0.4.3)\n",
            "Requirement already satisfied: scipy>=0.13.3 in /usr/local/lib/python3.6/dist-packages (from imbalanced-learn) (1.4.1)\n",
            "Requirement already satisfied: numpy>=1.8.2 in /usr/local/lib/python3.6/dist-packages (from imbalanced-learn) (1.19.4)\n",
            "Requirement already satisfied: scikit-learn>=0.20 in /usr/local/lib/python3.6/dist-packages (from imbalanced-learn) (0.22.2.post1)\n",
            "Requirement already satisfied: joblib>=0.11 in /usr/local/lib/python3.6/dist-packages (from scikit-learn>=0.20->imbalanced-learn) (1.0.0)\n"
          ],
          "name": "stdout"
        }
      ]
    },
    {
      "cell_type": "code",
      "metadata": {
        "id": "t5EvZkLh_H23"
      },
      "source": [
        "train_data=pd.DataFrame(train_data)\n",
        "train_data = train_data.rename(columns = { 1: 'FULL_NEWS', 2: 'ID', 3:'DATE',4:'LANG',5:'INDEX',6:'TRUTH',}, inplace = False)"
      ],
      "execution_count": null,
      "outputs": []
    },
    {
      "cell_type": "code",
      "metadata": {
        "colab": {
          "base_uri": "https://localhost:8080/"
        },
        "id": "O46DkZrCl2cS",
        "outputId": "e016b409-937c-4c56-8bc1-8012292ce4c1"
      },
      "source": [
        "#train_data, validate_data, test_data = np.split(train_df.sample(frac=1,random_state=5), [int(.6*len(train_df)), int(.8*len(train_df))])\n",
        "train_data, validate_data, test_data = np.split(train_df, [int(.6*len(train_df)), int(.8*len(train_df))])\n",
        "\n",
        "train_data = train_data.reset_index(drop=True)\n",
        "validate_data = validate_data.reset_index(drop=True)\n",
        "test_data = test_data.reset_index(drop=True)\n",
        "\n",
        "print(\"Size of training set: {}\".format(len(train_data)))\n",
        "print(\"Size of validation set: {}\".format(len(validate_data)))\n",
        "print(\"Size of testing set: {}\".format(len(test_data)))"
      ],
      "execution_count": null,
      "outputs": [
        {
          "output_type": "stream",
          "text": [
            "Size of training set: 3625\n",
            "Size of validation set: 1208\n",
            "Size of testing set: 1209\n"
          ],
          "name": "stdout"
        }
      ]
    },
    {
      "cell_type": "code",
      "metadata": {
        "colab": {
          "base_uri": "https://localhost:8080/"
        },
        "id": "hsezRiPemvUQ",
        "outputId": "2eb23539-7588-4c4c-cf99-7f5094b2705b"
      },
      "source": [
        "#!cuda install -y pytorch torchvision cudatoolkit=10.1 -c pytorch\n",
        "import torch\n",
        "!pip install transformers"
      ],
      "execution_count": null,
      "outputs": [
        {
          "output_type": "stream",
          "text": [
            "Collecting transformers\n",
            "\u001b[?25l  Downloading https://files.pythonhosted.org/packages/50/0c/7d5950fcd80b029be0a8891727ba21e0cd27692c407c51261c3c921f6da3/transformers-4.1.1-py3-none-any.whl (1.5MB)\n",
            "\u001b[K     |████████████████████████████████| 1.5MB 12.8MB/s \n",
            "\u001b[?25hRequirement already satisfied: dataclasses; python_version < \"3.7\" in /usr/local/lib/python3.6/dist-packages (from transformers) (0.8)\n",
            "Requirement already satisfied: tqdm>=4.27 in /usr/local/lib/python3.6/dist-packages (from transformers) (4.41.1)\n",
            "Requirement already satisfied: packaging in /usr/local/lib/python3.6/dist-packages (from transformers) (20.8)\n",
            "Requirement already satisfied: requests in /usr/local/lib/python3.6/dist-packages (from transformers) (2.23.0)\n",
            "Collecting tokenizers==0.9.4\n",
            "\u001b[?25l  Downloading https://files.pythonhosted.org/packages/0f/1c/e789a8b12e28be5bc1ce2156cf87cb522b379be9cadc7ad8091a4cc107c4/tokenizers-0.9.4-cp36-cp36m-manylinux2010_x86_64.whl (2.9MB)\n",
            "\u001b[K     |████████████████████████████████| 2.9MB 66.7MB/s \n",
            "\u001b[?25hRequirement already satisfied: regex!=2019.12.17 in /usr/local/lib/python3.6/dist-packages (from transformers) (2019.12.20)\n",
            "Requirement already satisfied: numpy in /usr/local/lib/python3.6/dist-packages (from transformers) (1.19.4)\n",
            "Collecting sacremoses\n",
            "\u001b[?25l  Downloading https://files.pythonhosted.org/packages/7d/34/09d19aff26edcc8eb2a01bed8e98f13a1537005d31e95233fd48216eed10/sacremoses-0.0.43.tar.gz (883kB)\n",
            "\u001b[K     |████████████████████████████████| 890kB 56.4MB/s \n",
            "\u001b[?25hRequirement already satisfied: filelock in /usr/local/lib/python3.6/dist-packages (from transformers) (3.0.12)\n",
            "Requirement already satisfied: pyparsing>=2.0.2 in /usr/local/lib/python3.6/dist-packages (from packaging->transformers) (2.4.7)\n",
            "Requirement already satisfied: urllib3!=1.25.0,!=1.25.1,<1.26,>=1.21.1 in /usr/local/lib/python3.6/dist-packages (from requests->transformers) (1.24.3)\n",
            "Requirement already satisfied: certifi>=2017.4.17 in /usr/local/lib/python3.6/dist-packages (from requests->transformers) (2020.12.5)\n",
            "Requirement already satisfied: idna<3,>=2.5 in /usr/local/lib/python3.6/dist-packages (from requests->transformers) (2.10)\n",
            "Requirement already satisfied: chardet<4,>=3.0.2 in /usr/local/lib/python3.6/dist-packages (from requests->transformers) (3.0.4)\n",
            "Requirement already satisfied: six in /usr/local/lib/python3.6/dist-packages (from sacremoses->transformers) (1.15.0)\n",
            "Requirement already satisfied: click in /usr/local/lib/python3.6/dist-packages (from sacremoses->transformers) (7.1.2)\n",
            "Requirement already satisfied: joblib in /usr/local/lib/python3.6/dist-packages (from sacremoses->transformers) (1.0.0)\n",
            "Building wheels for collected packages: sacremoses\n",
            "  Building wheel for sacremoses (setup.py) ... \u001b[?25l\u001b[?25hdone\n",
            "  Created wheel for sacremoses: filename=sacremoses-0.0.43-cp36-none-any.whl size=893261 sha256=3b65f16a4ffb1bd471e71dd3e79057ea0f2f26b8f9290801a82b1442a56c678c\n",
            "  Stored in directory: /root/.cache/pip/wheels/29/3c/fd/7ce5c3f0666dab31a50123635e6fb5e19ceb42ce38d4e58f45\n",
            "Successfully built sacremoses\n",
            "Installing collected packages: tokenizers, sacremoses, transformers\n",
            "Successfully installed sacremoses-0.0.43 tokenizers-0.9.4 transformers-4.1.1\n"
          ],
          "name": "stdout"
        }
      ]
    },
    {
      "cell_type": "code",
      "metadata": {
        "id": "JXFa5ub7uCY1"
      },
      "source": [
        "#config=BertConfig()\n",
        "#model = BertForSequenceClassification(config)\n",
        "#tokenizer= BertTokenizer.from_pretrained('bert-large-cased-whole-word-masking')"
      ],
      "execution_count": null,
      "outputs": []
    },
    {
      "cell_type": "code",
      "metadata": {
        "colab": {
          "base_uri": "https://localhost:8080/",
          "height": 358,
          "referenced_widgets": [
            "2535704854a54808aec3e19d5c7e3b57",
            "d140815aa1764e58b38b41433dd5e111",
            "fda3e7b3cd2f409890dc788eb3233f21",
            "e27fd9bffc0b46a79401d8136c7954bc",
            "5727806695a54b2c94fd2d59be3cc60d",
            "ed2ba6175f1d48079c5afb0b068b4e84",
            "4c9478677e464b169962db8268ce9b93",
            "e0c0839000e14047a1f393de42346fdc",
            "970ceea7fafb483e8460a9e4e2b6adb1",
            "584ce331d2374a218770ad9bd233dc4b",
            "4c4060155ed64a0da5f9baf7e9200e2d",
            "1fa6f918bb6b4702b2c34302675e8da9",
            "b5dcce7d86c94ce299f00a51f387b323",
            "61408fd42ffb4c1f8f789d5728911dbb",
            "0761b51184694375a5bf98e4ae84acb8",
            "2e3e794c18f646eaadfde946c3809c6e",
            "11fb3282519e4d90b8afe3bdc4696736",
            "1a1b833f29f44839ad7bfc16f6b9c2d6",
            "3858c42a2d114149a2294f0539b939c7",
            "c41210dfef6d44429938094e28d761ba",
            "468e9ef07fcb439984254bd3c3dd9118",
            "19c1395e9f174a3799fa6b3daf1b9f75",
            "c1f9caa8c86a4a0f83e183cb8b0cd70d",
            "df7206fa3aea4705893daead27a876ac",
            "6196cb9e8ed64ca1878965713821cfd8",
            "6d93b6ace1034efc9ddb0c9917cf2998",
            "51f967ca0ed24078bff6277b86923e58",
            "8744cb222ea446df9bba13278208a3cf",
            "f3c48fb723224a5ca6527b56d5f9dd91",
            "c1b458f1278c450dae15df5f05c63057",
            "a0c771735c1146c4b109e4f6266e1cb6",
            "edd637c66dce432fa20bdd6bb4df4383",
            "2f0a88f583ba40ee8e83ba76b5709872",
            "99f73e477e694613b1bcb53c61ffbb20",
            "afaa00db7d5347349c6109d8039655ae",
            "741c1cc05703496bae697ebb16d223c6",
            "1d9f74ffcff34bb88041a513db0e8e5d",
            "c84e80d7839e48dbb71e736944b46218",
            "e4a72e1e65224067a3e62a3173bfc2b0",
            "d59412670737478683829cecc75ede5f"
          ]
        },
        "id": "1pSfOgFSt30h",
        "outputId": "e4a15e08-39a5-441c-96a6-3e0e4026da5e"
      },
      "source": [
        "#from  transformers import BertModel, BertTokenizer, BertForSequenceClassification\n",
        "#model = BertForSequenceClassification.from_pretrained('bert-large-uncased-whole-word-masking',num_labels=2,output_hidden_states=False )\n",
        "#tokenizer= BertTokenizer.from_pretrained('bert-large-uncased-whole-word-masking')\n",
        "\n",
        "from transformers import AutoTokenizer, AutoModel, AutoConfig, AutoModelForSequenceClassification\n",
        "\n",
        "# Initialise a Model for Sequence Classification with 2 labels\n",
        "config = AutoConfig.from_pretrained(\"digitalepidemiologylab/covid-twitter-bert-v2\", num_labels=2)\n",
        "model = AutoModelForSequenceClassification.from_pretrained(\"digitalepidemiologylab/covid-twitter-bert-v2\", config=config)\n",
        "tokenizer = AutoTokenizer.from_pretrained(\"digitalepidemiologylab/covid-twitter-bert-v2\")\n",
        "\n"
      ],
      "execution_count": null,
      "outputs": [
        {
          "output_type": "display_data",
          "data": {
            "application/vnd.jupyter.widget-view+json": {
              "model_id": "2535704854a54808aec3e19d5c7e3b57",
              "version_minor": 0,
              "version_major": 2
            },
            "text/plain": [
              "HBox(children=(FloatProgress(value=0.0, description='Downloading', max=421.0, style=ProgressStyle(description_…"
            ]
          },
          "metadata": {
            "tags": []
          }
        },
        {
          "output_type": "stream",
          "text": [
            "\n"
          ],
          "name": "stdout"
        },
        {
          "output_type": "display_data",
          "data": {
            "application/vnd.jupyter.widget-view+json": {
              "model_id": "970ceea7fafb483e8460a9e4e2b6adb1",
              "version_minor": 0,
              "version_major": 2
            },
            "text/plain": [
              "HBox(children=(FloatProgress(value=0.0, description='Downloading', max=1345068539.0, style=ProgressStyle(descr…"
            ]
          },
          "metadata": {
            "tags": []
          }
        },
        {
          "output_type": "stream",
          "text": [
            "\n"
          ],
          "name": "stdout"
        },
        {
          "output_type": "stream",
          "text": [
            "Some weights of the model checkpoint at digitalepidemiologylab/covid-twitter-bert-v2 were not used when initializing BertForSequenceClassification: ['cls.predictions.bias', 'cls.predictions.transform.dense.weight', 'cls.predictions.transform.dense.bias', 'cls.predictions.transform.LayerNorm.weight', 'cls.predictions.transform.LayerNorm.bias', 'cls.predictions.decoder.weight', 'cls.predictions.decoder.bias', 'cls.seq_relationship.weight', 'cls.seq_relationship.bias']\n",
            "- This IS expected if you are initializing BertForSequenceClassification from the checkpoint of a model trained on another task or with another architecture (e.g. initializing a BertForSequenceClassification model from a BertForPreTraining model).\n",
            "- This IS NOT expected if you are initializing BertForSequenceClassification from the checkpoint of a model that you expect to be exactly identical (initializing a BertForSequenceClassification model from a BertForSequenceClassification model).\n",
            "Some weights of BertForSequenceClassification were not initialized from the model checkpoint at digitalepidemiologylab/covid-twitter-bert-v2 and are newly initialized: ['classifier.weight', 'classifier.bias']\n",
            "You should probably TRAIN this model on a down-stream task to be able to use it for predictions and inference.\n"
          ],
          "name": "stderr"
        },
        {
          "output_type": "display_data",
          "data": {
            "application/vnd.jupyter.widget-view+json": {
              "model_id": "11fb3282519e4d90b8afe3bdc4696736",
              "version_minor": 0,
              "version_major": 2
            },
            "text/plain": [
              "HBox(children=(FloatProgress(value=0.0, description='Downloading', max=231508.0, style=ProgressStyle(descripti…"
            ]
          },
          "metadata": {
            "tags": []
          }
        },
        {
          "output_type": "stream",
          "text": [
            "\n"
          ],
          "name": "stdout"
        },
        {
          "output_type": "display_data",
          "data": {
            "application/vnd.jupyter.widget-view+json": {
              "model_id": "6196cb9e8ed64ca1878965713821cfd8",
              "version_minor": 0,
              "version_major": 2
            },
            "text/plain": [
              "HBox(children=(FloatProgress(value=0.0, description='Downloading', max=112.0, style=ProgressStyle(description_…"
            ]
          },
          "metadata": {
            "tags": []
          }
        },
        {
          "output_type": "stream",
          "text": [
            "\n"
          ],
          "name": "stdout"
        },
        {
          "output_type": "display_data",
          "data": {
            "application/vnd.jupyter.widget-view+json": {
              "model_id": "2f0a88f583ba40ee8e83ba76b5709872",
              "version_minor": 0,
              "version_major": 2
            },
            "text/plain": [
              "HBox(children=(FloatProgress(value=0.0, description='Downloading', max=62.0, style=ProgressStyle(description_w…"
            ]
          },
          "metadata": {
            "tags": []
          }
        },
        {
          "output_type": "stream",
          "text": [
            "\n"
          ],
          "name": "stdout"
        }
      ]
    },
    {
      "cell_type": "code",
      "metadata": {
        "id": "uqjQ9yaem71y"
      },
      "source": [
        "#from transformers import BertTokenizer, BertForSequenceClassification\n",
        "import torch\n",
        "import torch.nn as nn\n",
        "import torch.optim as optim\n",
        "import torch.nn.functional as F\n",
        "\n",
        "\n",
        "device = torch.device('cuda')\n",
        "\n",
        "#tokenizer = BertTokenizer.from_pretrained(\"bert-large-uncased-whole-word-masking\")\n",
        "#model = BertForSequenceClassification.from_pretrained(\"bert-large-uncased-whole-word-masking\")\n",
        "#model.config.num_labels = 2"
      ],
      "execution_count": null,
      "outputs": []
    },
    {
      "cell_type": "markdown",
      "metadata": {
        "id": "5W6MF5N0s471"
      },
      "source": [
        "\n",
        "\n",
        "```\n",
        "# Freeze the pre trained parameters\n",
        "for param in model.parameters():\n",
        "    param.requires_grad = False\n",
        "\n",
        "# Add three new layers at the end of the network\n",
        "model.classifier = nn.Sequential(\n",
        "    nn.Linear(1024, 128),\n",
        "    nn.LayerNorm(128),\n",
        "    nn.ReLU(),\n",
        "    nn.Linear(128, 2),\n",
        "    nn.Softmax(dim=1)\n",
        ")\n",
        "\n",
        "model = model.to(device)```\n",
        "\n"
      ]
    },
    {
      "cell_type": "code",
      "metadata": {
        "id": "zyv2VY0Bnv3R"
      },
      "source": [
        "model = model.to(device)\n",
        "criterion = nn.BCELoss().to(device)\n",
        "optimizer = optim.Adam(model.classifier.parameters(), lr=2e-4)"
      ],
      "execution_count": null,
      "outputs": []
    },
    {
      "cell_type": "code",
      "metadata": {
        "id": "mF4DiRSOuzi8"
      },
      "source": [
        "def preprocess_text(document):\n",
        "    nWords = len(document.split())\n",
        "    input_ids_all = tokenizer.encode(document,add_special_tokens=False)\n",
        "    overlapFac = 1.1\n",
        "    if len(input_ids_all)*overlapFac > 2048:\n",
        "        nSearchWords = int(np.ceil(nWords/5))\n",
        "        quarter = int(np.ceil(nWords/4))\n",
        "        docSplit = document.split()\n",
        "        docPieces = [' '.join(docSplit[:int(nSearchWords*overlapFac)]), \n",
        "                     ' '.join(docSplit[quarter-int(nSearchWords*overlapFac/2):quarter+int(quarter*overlapFac/2)]),\n",
        "                     ' '.join(docSplit[quarter*2-int(nSearchWords*overlapFac/2):quarter*2+int(quarter*overlapFac/2)]),\n",
        "                     ' '.join(docSplit[quarter*3-int(nSearchWords*overlapFac/2):quarter*3+int(quarter*overlapFac/2)]),\n",
        "                     ' '.join(docSplit[-int(nSearchWords*overlapFac):])]\n",
        "        input_ids = [tokenizer.encode(dp, return_tensors=\"pt\",add_special_tokens=False).to(device) for dp in docPieces]        \n",
        "        \n",
        "    elif len(input_ids_all)*overlapFac > 1536:\n",
        "        nSearchWords = int(np.ceil(nWords/4))\n",
        "        third = int(np.ceil(nWords/3))\n",
        "        docSplit = document.split()\n",
        "        docPieces = [' '.join(docSplit[:int(nSearchWords*overlapFac)]), \n",
        "                     ' '.join(docSplit[third-int(nSearchWords*overlapFac/2):third+int(nSearchWords*overlapFac/2)]),\n",
        "                     ' '.join(docSplit[third*2-int(nSearchWords*overlapFac/2):third*2+int(nSearchWords*overlapFac/2)]),\n",
        "                     ' '.join(docSplit[-int(nSearchWords*overlapFac):])]\n",
        "        input_ids = [tokenizer.encode(dp, return_tensors=\"pt\",add_special_tokens=False).to(device) for dp in docPieces]        \n",
        "        \n",
        "    elif len(input_ids_all)*overlapFac > 1024:\n",
        "        nSearchWords = int(np.ceil(nWords/3))\n",
        "        middle = int(np.ceil(nWords/2))\n",
        "        docSplit = document.split()\n",
        "        docPieces = [' '.join(docSplit[:int(nSearchWords*overlapFac)]), \n",
        "                     ' '.join(docSplit[middle-int(nSearchWords*overlapFac/2):middle+int(nSearchWords*overlapFac/2)]),\n",
        "                     ' '.join(docSplit[-int(nSearchWords*overlapFac):])]\n",
        "        input_ids = [tokenizer.encode(dp, return_tensors=\"pt\",add_special_tokens=False).to(device) for dp in docPieces]\n",
        "    elif len(input_ids_all)*overlapFac > 512:\n",
        "        nSearchWords = int(np.ceil(nWords/2))\n",
        "        docSplit = document.split()\n",
        "        docPieces = [' '.join(docSplit[:int(nSearchWords*overlapFac)]), ' '.join(docSplit[-int(nSearchWords*overlapFac):])]\n",
        "        input_ids = [tokenizer.encode(dp, return_tensors=\"pt\",add_special_tokens=False).to(device) for dp in docPieces]\n",
        "    else:\n",
        "        input_ids = tokenizer.encode(document, return_tensors=\"pt\",add_special_tokens=False).to(device)\n",
        "    return input_ids"
      ],
      "execution_count": null,
      "outputs": []
    },
    {
      "cell_type": "code",
      "metadata": {
        "colab": {
          "base_uri": "https://localhost:8080/"
        },
        "id": "6Vs0hNXfn0sK",
        "outputId": "c4a4a63a-be79-4124-88b9-322dc4e57d8a"
      },
      "source": [
        "print_every = 500\n",
        "num_epochs = 6\n",
        "total_loss = 0\n",
        "all_losses = []\n",
        "\n",
        "CUDA_LAUNCH_BLOCKING=0\n",
        "\n",
        "model.train()\n",
        "for epoch in range(num_epochs):\n",
        "  train_data=train_data.sample(frac=1,random_state=5)\n",
        "  train_data = train_data.reset_index(drop=True)\n",
        "  for idx, row in train_data.iterrows():\n",
        "    text_parts = preprocess_text(str(row['FULL_NEWS']))\n",
        "    label = torch.tensor([row['TRUTH']]).long().to(device)\n",
        "    \n",
        "    optimizer.zero_grad()\n",
        "\n",
        "    overall_output = torch.zeros((1, 2)).float().to(device)\n",
        "    for part in text_parts:\n",
        "        if len(part) > 0:\n",
        "            try:\n",
        "                input = part.reshape(-1)[:512].reshape(1, -1)\n",
        "                # print(input.shape)\n",
        "                overall_output += model(input, labels=label)[1].float().to(device)\n",
        "                \n",
        "            except Exception as e:\n",
        "                print(str(e))\n",
        "\n",
        "#     overall_output /= len(text_parts)\n",
        "    overall_output = F.softmax(overall_output[0], dim=-1)\n",
        "\n",
        "    if label == 0:\n",
        "        label = torch.tensor([1.0, 0.0]).float().to(device)\n",
        "    elif label == 1:\n",
        "        label = torch.tensor([0.0, 1.0]).float().to(device)\n",
        "\n",
        "    # print(overall_output, label)\n",
        "\n",
        "    loss = criterion(overall_output, label)\n",
        "    total_loss += loss.item()\n",
        "    \n",
        "    loss.backward()\n",
        "    optimizer.step()\n",
        "\n",
        "    if idx % print_every == 0 and idx > 0:\n",
        "        average_loss = total_loss / print_every\n",
        "        print(\"{}/{}. Average loss: {}\".format(idx, len(train_data), average_loss))\n",
        "        all_losses.append(average_loss)\n",
        "        total_loss = 0\n",
        "        "
      ],
      "execution_count": null,
      "outputs": [
        {
          "output_type": "stream",
          "text": [
            "500/7300. Average loss: 0.7286995080113411\n",
            "1000/7300. Average loss: 0.7331156361997128\n",
            "1500/7300. Average loss: 0.7143492911756039\n",
            "2000/7300. Average loss: 0.7212618864327669\n",
            "2500/7300. Average loss: 0.6915420398786664\n",
            "3000/7300. Average loss: 0.6869983977377415\n",
            "3500/7300. Average loss: 0.6975107057988643\n",
            "4000/7300. Average loss: 0.703068031154573\n",
            "4500/7300. Average loss: 0.6764981806725263\n",
            "5000/7300. Average loss: 0.6577896333709359\n",
            "5500/7300. Average loss: 0.6968356266915798\n",
            "6000/7300. Average loss: 0.6591008840873838\n",
            "6500/7300. Average loss: 0.6534513370022178\n",
            "7000/7300. Average loss: 0.6697784963324666\n",
            "500/7300. Average loss: 1.1107489125877619\n",
            "1000/7300. Average loss: 0.6630654105097056\n",
            "1500/7300. Average loss: 0.6675894708260894\n",
            "2000/7300. Average loss: 0.7012476143985986\n",
            "2500/7300. Average loss: 0.6537424023635685\n",
            "3000/7300. Average loss: 0.6510710826069117\n",
            "3500/7300. Average loss: 0.6547778201326728\n",
            "4000/7300. Average loss: 0.6574761051386595\n",
            "4500/7300. Average loss: 0.6393632408641279\n",
            "5000/7300. Average loss: 0.6681587881296873\n",
            "5500/7300. Average loss: 0.6578757422808558\n",
            "6000/7300. Average loss: 0.6293337270952761\n",
            "6500/7300. Average loss: 0.6690982894673944\n",
            "7000/7300. Average loss: 0.652630020197481\n",
            "500/7300. Average loss: 1.0566929735811428\n",
            "1000/7300. Average loss: 0.6525210318937897\n",
            "1500/7300. Average loss: 0.6768792512714863\n",
            "2000/7300. Average loss: 0.6491493401192129\n",
            "2500/7300. Average loss: 0.6615665050297975\n",
            "3000/7300. Average loss: 0.6598631224110723\n",
            "3500/7300. Average loss: 0.6654697799831629\n",
            "4000/7300. Average loss: 0.6499899425618351\n",
            "4500/7300. Average loss: 0.6537943282052875\n",
            "5000/7300. Average loss: 0.6445923148235306\n",
            "5500/7300. Average loss: 0.6403327348325402\n",
            "6000/7300. Average loss: 0.6776322701489553\n",
            "6500/7300. Average loss: 0.6474876773878931\n",
            "7000/7300. Average loss: 0.6467214441457764\n",
            "500/7300. Average loss: 1.0511299904896878\n",
            "1000/7300. Average loss: 0.6355769468620419\n",
            "1500/7300. Average loss: 0.6731121710948647\n",
            "2000/7300. Average loss: 0.6301867988165468\n",
            "2500/7300. Average loss: 0.6467396051622927\n",
            "3000/7300. Average loss: 0.6524594763126225\n",
            "3500/7300. Average loss: 0.6141834051180631\n",
            "4000/7300. Average loss: 0.6462663386496715\n",
            "4500/7300. Average loss: 0.6776397164585068\n",
            "5000/7300. Average loss: 0.6529879992250354\n",
            "5500/7300. Average loss: 0.6674866953454912\n",
            "6000/7300. Average loss: 0.6398472273461521\n",
            "6500/7300. Average loss: 0.6251917227245867\n",
            "7000/7300. Average loss: 0.6282222743425518\n",
            "500/7300. Average loss: 1.0329741288025398\n",
            "1000/7300. Average loss: 0.6382244501393288\n",
            "1500/7300. Average loss: 0.620244003069587\n",
            "2000/7300. Average loss: 0.6689171746848152\n",
            "2500/7300. Average loss: 0.6431006244253367\n",
            "3000/7300. Average loss: 0.6261222007791512\n",
            "3500/7300. Average loss: 0.6095222198716365\n",
            "4000/7300. Average loss: 0.6502229591258801\n",
            "4500/7300. Average loss: 0.6539501743194415\n",
            "5000/7300. Average loss: 0.6644680631237571\n",
            "5500/7300. Average loss: 0.6453142971050693\n",
            "6000/7300. Average loss: 0.6467961012367159\n",
            "6500/7300. Average loss: 0.6421682606930844\n",
            "7000/7300. Average loss: 0.6711787807103247\n",
            "500/7300. Average loss: 1.0575439821565524\n",
            "1000/7300. Average loss: 0.6689430988635868\n",
            "1500/7300. Average loss: 0.6266186254834756\n",
            "2000/7300. Average loss: 0.6491771828830242\n",
            "2500/7300. Average loss: 0.6090558689294848\n",
            "3000/7300. Average loss: 0.6228747115418082\n",
            "3500/7300. Average loss: 0.6401707966374234\n",
            "4000/7300. Average loss: 0.6511160297719761\n",
            "4500/7300. Average loss: 0.6614904233034468\n",
            "5000/7300. Average loss: 0.6175795553792268\n",
            "5500/7300. Average loss: 0.65813450851175\n",
            "6000/7300. Average loss: 0.6492656721165404\n",
            "6500/7300. Average loss: 0.6296203557713889\n",
            "7000/7300. Average loss: 0.6391380760138854\n"
          ],
          "name": "stdout"
        }
      ]
    },
    {
      "cell_type": "code",
      "metadata": {
        "colab": {
          "base_uri": "https://localhost:8080/",
          "height": 281
        },
        "id": "CqkhREDFn6wX",
        "outputId": "d69be061-a396-4bbb-85fb-a9692693af11"
      },
      "source": [
        "import matplotlib.pyplot as plt\n",
        "\n",
        "%matplotlib inline\n",
        "torch.save(model.state_dict(), \"model_after_train.pt\")\n",
        "\n",
        "plt.plot(all_losses)"
      ],
      "execution_count": null,
      "outputs": [
        {
          "output_type": "execute_result",
          "data": {
            "text/plain": [
              "[<matplotlib.lines.Line2D at 0x7fe9804152b0>]"
            ]
          },
          "metadata": {
            "tags": []
          },
          "execution_count": 27
        },
        {
          "output_type": "display_data",
          "data": {
            "image/png": "[encoded data removed]",
            "text/plain": [
              "<Figure size 432x288 with 1 Axes>"
            ]
          },
          "metadata": {
            "tags": [],
            "needs_background": "light"
          }
        }
      ]
    },
    {
      "cell_type": "code",
      "metadata": {
        "id": "L4VkJXUm8cs6"
      },
      "source": [
        "from sklearn.metrics import confusion_matrix"
      ],
      "execution_count": null,
      "outputs": []
    },
    {
      "cell_type": "code",
      "metadata": {
        "colab": {
          "base_uri": "https://localhost:8080/"
        },
        "id": "uyIxRmgk5znb",
        "outputId": "cd00e2fc-3987-4379-a77a-d42e5d698416"
      },
      "source": [
        "total = len(validate_data)\n",
        "y_pred=[]\n",
        "y_true=[]\n",
        "number_right = 0\n",
        "model.eval()\n",
        "with torch.no_grad():\n",
        "    for idx, row in validate_data.iterrows():\n",
        "        text_parts = preprocess_text(str(row['FULL_NEWS']))\n",
        "        label = torch.tensor([row['TRUTH']]).float().to(device)\n",
        "        \n",
        "        overall_output = torch.zeros((1,2)).to(device)\n",
        "        try:\n",
        "            for part in text_parts:\n",
        "                if len(part) > 0:\n",
        "                    overall_output += model(part.reshape(1, -1))[0]\n",
        "        except RuntimeError:\n",
        "            print(\"GPU out of memory, skipping this entry.\")\n",
        "            continue\n",
        "            \n",
        "        overall_output = F.softmax(overall_output[0], dim=-1)\n",
        "            \n",
        "        result = overall_output.max(0)[1].float().item()\n",
        "        y_pred.append(result)\n",
        "        y_true.append(label.item())\n",
        "\n",
        "        if result == label.item():\n",
        "            number_right += 1\n",
        "        #else :\n",
        "        #    print(row)\n",
        "        #    print('WRONG')\n",
        "        if idx % print_every == 0 and idx > 0:\n",
        "            print(\"{}/{}. Current accuracy: {}\".format(idx, total, number_right / idx))\n",
        "\n",
        "\n",
        "\n",
        "            \n",
        "print(\"Accuracy on test data: {}\".format(number_right / total))\n",
        "print(confusion_matrix(y_true,y_pred))"
      ],
      "execution_count": null,
      "outputs": [
        {
          "output_type": "stream",
          "text": [
            "31500/25378. Current accuracy: 0.011365079365079364\n",
            "32000/25378. Current accuracy: 0.0228125\n",
            "32500/25378. Current accuracy: 0.03310769230769231\n",
            "33000/25378. Current accuracy: 0.04375757575757576\n",
            "33500/25378. Current accuracy: 0.05408955223880597\n",
            "34000/25378. Current accuracy: 0.06476470588235295\n",
            "34500/25378. Current accuracy: 0.07556521739130435\n",
            "35000/25378. Current accuracy: 0.08531428571428572\n",
            "35500/25378. Current accuracy: 0.09538028169014084\n",
            "36000/25378. Current accuracy: 0.10491666666666667\n",
            "36500/25378. Current accuracy: 0.11336986301369863\n",
            "37000/25378. Current accuracy: 0.12175675675675676\n",
            "37500/25378. Current accuracy: 0.12986666666666666\n",
            "38000/25378. Current accuracy: 0.1383421052631579\n",
            "38500/25378. Current accuracy: 0.14675324675324675\n",
            "39000/25378. Current accuracy: 0.15415384615384614\n",
            "39500/25378. Current accuracy: 0.16159493670886077\n",
            "40000/25378. Current accuracy: 0.1691\n",
            "40500/25378. Current accuracy: 0.1765432098765432\n",
            "41000/25378. Current accuracy: 0.18382926829268292\n",
            "41500/25378. Current accuracy: 0.19120481927710845\n",
            "42000/25378. Current accuracy: 0.19816666666666666\n",
            "42500/25378. Current accuracy: 0.2051529411764706\n",
            "43000/25378. Current accuracy: 0.21158139534883721\n",
            "43500/25378. Current accuracy: 0.2182528735632184\n",
            "44000/25378. Current accuracy: 0.2245\n",
            "44500/25378. Current accuracy: 0.2302247191011236\n",
            "45000/25378. Current accuracy: 0.2361111111111111\n",
            "45500/25378. Current accuracy: 0.2425054945054945\n",
            "46000/25378. Current accuracy: 0.24810869565217392\n",
            "46500/25378. Current accuracy: 0.25410752688172045\n",
            "47000/25378. Current accuracy: 0.259468085106383\n",
            "47500/25378. Current accuracy: 0.2653263157894737\n",
            "48000/25378. Current accuracy: 0.2710208333333333\n",
            "48500/25378. Current accuracy: 0.27655670103092783\n",
            "49000/25378. Current accuracy: 0.2813469387755102\n",
            "49500/25378. Current accuracy: 0.28654545454545455\n",
            "50000/25378. Current accuracy: 0.2916\n",
            "50500/25378. Current accuracy: 0.29697029702970296\n",
            "51000/25378. Current accuracy: 0.3017843137254902\n",
            "51500/25378. Current accuracy: 0.30629126213592234\n",
            "52000/25378. Current accuracy: 0.3106923076923077\n",
            "52500/25378. Current accuracy: 0.31548571428571426\n",
            "53000/25378. Current accuracy: 0.3188490566037736\n",
            "53500/25378. Current accuracy: 0.3222803738317757\n",
            "54000/25378. Current accuracy: 0.32642592592592595\n",
            "54500/25378. Current accuracy: 0.3304403669724771\n",
            "55000/25378. Current accuracy: 0.3340909090909091\n",
            "55500/25378. Current accuracy: 0.3377117117117117\n",
            "56000/25378. Current accuracy: 0.34117857142857144\n",
            "Accuracy on test data: 0.7657813854519663\n",
            "[[  176   124]\n",
            " [ 5820 19258]]\n"
          ],
          "name": "stdout"
        }
      ]
    },
    {
      "cell_type": "code",
      "metadata": {
        "colab": {
          "base_uri": "https://localhost:8080/"
        },
        "id": "BnaGTO1w90tz",
        "outputId": "ae116e62-6901-4bee-ba0f-eb348ca4047c"
      },
      "source": [
        "#Doğruları labellamak önemliyse\n",
        "labels = ['True Neg','False Pos','False Neg','True Pos']\n",
        "categories = ['False', 'True']\n",
        "make_confusion_matrix(confusion_matrix(y_true,y_pred), \n",
        "                      y_pred,\n",
        "                      y_true,\n",
        "                      group_names=labels,\n",
        "                      categories=categories, \n",
        "                      cmap='binary')"
      ],
      "execution_count": null,
      "outputs": [
        {
          "output_type": "display_data",
          "data": {
            "image/png": "[encoded data removed]",
            "text/plain": [
              "<Figure size 432x288 with 2 Axes>"
            ]
          },
          "metadata": {
            "tags": [],
            "needs_background": "light"
          }
        }
      ]
    },
    {
      "cell_type": "code",
      "metadata": {
        "colab": {
          "base_uri": "https://localhost:8080/"
        },
        "id": "AD8ibIUPIs7Z",
        "outputId": "68f74d6f-5c89-4afa-fde6-419f5a8c1ab1"
      },
      "source": [
        "#Yanlışları labellamak önemliyse (Haber fakeyse, fake olması positif)\n",
        "labels = ['True Neg','False Pos','False Neg','True Pos']\n",
        "categories = ['True', 'False']\n",
        "make_confusion_matrix(confusion_matrix(y_true,y_pred,labels=[1,0]), \n",
        "                      y_pred,\n",
        "                      y_true,\n",
        "                      group_names=labels,\n",
        "                      categories=categories, \n",
        "                      cmap='binary')"
      ],
      "execution_count": null,
      "outputs": [
        {
          "output_type": "display_data",
          "data": {
            "image/png": "[encoded data removed]",
            "text/plain": [
              "<Figure size 432x288 with 2 Axes>"
            ]
          },
          "metadata": {
            "tags": [],
            "needs_background": "light"
          }
        }
      ]
    },
    {
      "cell_type": "code",
      "metadata": {
        "id": "hcJXAXeZoAh3"
      },
      "source": [
        "total = len(test_data)\n",
        "number_right = 0\n",
        "model.eval()\n",
        "with torch.no_grad():\n",
        "    for idx, row in test_data.iterrows():\n",
        "        text_parts = preprocess_text(str(row['FULL_NEWS']))\n",
        "        label = torch.tensor([row['TRUTH']]).float().to(device)\n",
        "        \n",
        "        overall_output = torch.zeros((1,2)).to(device)\n",
        "        try:\n",
        "            for part in text_parts:\n",
        "                if len(part) > 0:\n",
        "                    overall_output += model(part.reshape(1, -1))[0]\n",
        "        except RuntimeError:\n",
        "            print(\"GPU out of memory, skipping this entry.\")\n",
        "            continue\n",
        "            \n",
        "        overall_output = F.softmax(overall_output[0], dim=-1)\n",
        "            \n",
        "        result = overall_output.max(0)[1].float().item()\n",
        " \n",
        "        if result == label.item():\n",
        "            number_right += 1\n",
        "        else :\n",
        "            print(row)\n",
        "            print('WRONG')\n",
        "        if idx % print_every == 0 and idx > 0:\n",
        "            print(\"{}/{}. Current accuracy: {}\".format(idx, total, number_right / idx))\n",
        "            \n",
        "print(\"Accuracy on test data: {}\".format(number_right / total))"
      ],
      "execution_count": null,
      "outputs": []
    },
    {
      "cell_type": "code",
      "metadata": {
        "id": "Ow-JQMUmoDL5"
      },
      "source": [
        "def test(text):\n",
        "    text_parts = preprocess_text(text)\n",
        "    overall_output = torch.zeros((1,2)).to(device)\n",
        "    try:\n",
        "        for part in text_parts:\n",
        "            if len(part) > 0:\n",
        "                overall_output += model(part.reshape(1, -1))[0]\n",
        "    except RuntimeError:\n",
        "        print(\"GPU out of memory, skipping this entry.\")\n",
        "\n",
        "    overall_output = F.softmax(overall_output[0], dim=-1)\n",
        "\n",
        "    value, result = overall_output.max(0)\n",
        "\n",
        "    term = \"fake\"\n",
        "    if result.item() == 0:\n",
        "        term = \"real\"\n",
        "\n",
        "    print(\"{} at {}%\".format(term, value.item() * 100))"
      ],
      "execution_count": null,
      "outputs": []
    },
    {
      "cell_type": "code",
      "metadata": {
        "id": "-3ngFBCtx4nI"
      },
      "source": [
        "import torch\n",
        "from torch.nn.functional import softmax\n",
        "\n",
        "import matplotlib\n",
        "import matplotlib.pyplot as plt\n",
        "\n",
        "\n",
        "class SaliencyInterpreter:\n",
        "    def __init__(self,\n",
        "                 model,\n",
        "                 criterion,\n",
        "                 tokenizer,\n",
        "                 show_progress=True,\n",
        "                 **kwargs):\n",
        "\n",
        "        \"\"\"\n",
        "        :param model: nn.Module object - can be HuggingFace's model or custom one.\n",
        "        :param criterion: torch criterion used to train your model.\n",
        "        :param tokenizer: HuggingFace's tokenizer.\n",
        "        :param show_progress: bool flag to show tqdm progress bar.\n",
        "        :param kwargs:\n",
        "            encoder: string indicates the HuggingFace's encoder, that has 'embeddings' attribute. Used\n",
        "                if your model doesn't have 'get_input_embeddings' method to get access to encoder embeddings\n",
        "        \"\"\"\n",
        "\n",
        "        #self.device = torch.device('cuda' if torch.cuda.is_available() else 'cpu')\n",
        "        self.device = torch.device('cuda')\n",
        "        self.model = model.to(device)\n",
        "        self.model.eval()\n",
        "        self.criterion = criterion\n",
        "        self.tokenizer = tokenizer\n",
        "        self.show_progress = show_progress\n",
        "        self.kwargs = kwargs\n",
        "        # to save outputs in saliency_interpret\n",
        "        self.batch_output = None\n",
        "\n",
        "    def _get_gradients(self, batch):\n",
        "        # set requires_grad to true for all parameters, but save original values to\n",
        "        # restore them later\n",
        "        original_param_name_to_requires_grad_dict = {}\n",
        "        for param_name, param in self.model.named_parameters():\n",
        "            original_param_name_to_requires_grad_dict[param_name] = param.requires_grad\n",
        "            param.requires_grad = True\n",
        "        embedding_gradients = []\n",
        "        hooks = self._register_embedding_gradient_hooks(embedding_gradients)\n",
        "\n",
        "        loss = self.forward_step(batch)\n",
        "\n",
        "        self.model.zero_grad()\n",
        "        loss.backward()\n",
        "\n",
        "        for hook in hooks:\n",
        "            hook.remove()\n",
        "\n",
        "        # restore the original requires_grad values of the parameters\n",
        "        for param_name, param in self.model.named_parameters():\n",
        "            param.requires_grad = original_param_name_to_requires_grad_dict[param_name]\n",
        "\n",
        "        return embedding_gradients[0]\n",
        "\n",
        "    def _register_embedding_gradient_hooks(self, embedding_gradients):\n",
        "        \"\"\"\n",
        "        Registers a backward hook on the\n",
        "        Used to save the gradients of the embeddings for use in get_gradients()\n",
        "        When there are multiple inputs (e.g., a passage and question), the hook\n",
        "        will be called multiple times. We append all the embeddings gradients\n",
        "        to a list.\n",
        "        \"\"\"\n",
        "\n",
        "        def hook_layers(module, grad_in, grad_out):\n",
        "            embedding_gradients.append(grad_out[0])\n",
        "\n",
        "        backward_hooks = []\n",
        "        embedding_layer = self.get_embeddings_layer()\n",
        "        backward_hooks.append(embedding_layer.register_backward_hook(hook_layers))\n",
        "        return backward_hooks\n",
        "\n",
        "    def get_embeddings_layer(self):\n",
        "        if hasattr(self.model, \"get_input_embeddings\"):\n",
        "            embedding_layer = self.model.get_input_embeddings()\n",
        "        else:\n",
        "            encoder_attribute = self.kwargs.get(\"encoder\")\n",
        "            assert encoder_attribute, \"Your model doesn't have 'get_input_embeddings' method, thus you \" \\\n",
        "                \"have provide 'encoder' key argument while initializing SaliencyInterpreter object\"\n",
        "            embedding_layer = getattr(self.model, encoder_attribute).embeddings\n",
        "        return embedding_layer\n",
        "\n",
        "    def colorize(self, instance, skip_special_tokens=False):\n",
        "\n",
        "        special_tokens = self.special_tokens\n",
        "\n",
        "        word_cmap = matplotlib.cm.Blues\n",
        "        prob_cmap = matplotlib.cm.Greens\n",
        "        template = '<span class=\"barcode\"; style=\"color: black; background-color: {}\">{}</span>'\n",
        "        colored_string = ''\n",
        "        # Use a matplotlib normalizer in order to make clearer the difference between values\n",
        "        normalized_and_mapped = matplotlib.cm.ScalarMappable(cmap=word_cmap).to_rgba(instance['grad'])\n",
        "        for word, color in zip(instance['tokens'], normalized_and_mapped):\n",
        "            if word in special_tokens and skip_special_tokens:\n",
        "                continue\n",
        "            # handle wordpieces\n",
        "            word = word.replace(\"##\", \"\") if \"##\" in word else ' ' + word\n",
        "            color = matplotlib.colors.rgb2hex(color[:3])\n",
        "            colored_string += template.format(color, word)\n",
        "        colored_string += template.format(0, \"    Label: {} |\".format(instance['label']))\n",
        "        prob = instance['prob']\n",
        "        color = matplotlib.colors.rgb2hex(prob_cmap(prob)[:3])\n",
        "        colored_string += template.format(color, \"{:.2f}%\".format(instance['prob']*100)) + '|'\n",
        "        return colored_string\n",
        "\n",
        "    @property\n",
        "    def special_tokens(self):\n",
        "        \"\"\"\n",
        "        Some tokenizers don't have 'eos_token' and 'bos_token' attributes.\n",
        "        So needed we some trick to get them.\n",
        "        \"\"\"\n",
        "        if self.tokenizer.bos_token is None or self.tokenizer.eos_token is None:\n",
        "            special_tokens = self.tokenizer.build_inputs_with_special_tokens([])\n",
        "            special_tokens_ids = self.tokenizer.convert_ids_to_tokens(special_tokens)\n",
        "            self.tokenizer.bos_token, self.tokenizer.eos_token = special_tokens_ids\n",
        "\n",
        "        special_tokens = self.tokenizer.eos_token, self.tokenizer.bos_token\n",
        "        return special_tokens\n",
        "\n",
        "    def forward_step(self, batch):\n",
        "         \"\"\"\n",
        "         If your model receive inputs in another way or you computing not\n",
        "         like in this example simply override this method. It should return the batch loss\n",
        "         :param batch: batch returned by dataloader\n",
        "         :return: torch.Tensor: batch loss\n",
        "         \"\"\"\n",
        "         \n",
        "         text_parts = preprocess_text(str(row['FULL_NEWS']))\n",
        "         label = torch.tensor([row['TRUTH']]).long().to(device)\n",
        "         overall_outputx = torch.zeros((1, 2)).float().to(device)\n",
        "    \n",
        "\n",
        "         for part in text_parts:\n",
        "          if len(part) > 0:\n",
        "            try:\n",
        "                input = part.reshape(-1)[:512].reshape(1, -1)\n",
        "                # print(input.shape)\n",
        "                overall_outputx += model(input, labels=label)[1].float().to(device)\n",
        "                \n",
        "            except Exception as e:\n",
        "                print(str(e))\n",
        "\n",
        "         #     overall_output /= len(text_parts)\n",
        "         overall_output = F.softmax(overall_outputx[0], dim=-1)\n",
        "\n",
        "         if label == 0:\n",
        "          label = torch.tensor([1.0, 0.0]).float().to(device)\n",
        "         elif label == 1:\n",
        "          label = torch.tensor([0.0, 1.0]).float().to(device)\n",
        "\n",
        "         # print(overall_output, label)\n",
        "\n",
        "         loss = criterion(overall_output, label)\n",
        "\n",
        "         self.batch_output = [input, overall_outputx]\n",
        "\n",
        "         return loss\n",
        "\n",
        "    def update_output(self):\n",
        "        \"\"\"\n",
        "        You can also override this method if you want to change the format\n",
        "         of outputs. (e.g. store just gradients)\n",
        "        :return: batch_output\n",
        "        \"\"\"\n",
        "\n",
        "        input_ids, outputs, grads = self.batch_output\n",
        "\n",
        "        probs = softmax(outputs, dim=-1)\n",
        "        probs, labels = torch.max(probs, dim=-1)\n",
        "\n",
        "        tokens = [\n",
        "            self.tokenizer.convert_ids_to_tokens(input_ids_)\n",
        "            for input_ids_ in input_ids\n",
        "        ]\n",
        "\n",
        "        embedding_grads = grads.sum(dim=2)\n",
        "        # norm for each sequence\n",
        "        norms = torch.norm(embedding_grads, dim=1, p=1)\n",
        "        # normalizing\n",
        "        for i, norm in enumerate(norms):\n",
        "            embedding_grads[i] = torch.abs(embedding_grads[i]) / norm\n",
        "\n",
        "        batch_output = []\n",
        "\n",
        "        iterator = zip(tokens, probs, embedding_grads, labels)\n",
        "\n",
        "        for example_tokens, example_prob, example_grad, example_label in iterator:\n",
        "            example_dict = dict()\n",
        "            # as we do it by batches we has a padding so we need to remove it\n",
        "            example_tokens = [t for t in example_tokens if (t != self.tokenizer.pad_token or t != self.tokenizer.cls_token or t != self.tokenizer.sep_token)]\n",
        "            example_dict['tokens'] = example_tokens\n",
        "            example_dict['grad'] = example_grad.cpu().tolist()[:len(example_tokens)]\n",
        "            example_dict['label'] = example_label.item()\n",
        "            example_dict['prob'] = example_prob.item()\n",
        "            batch_output.append(example_dict)\n",
        "        return batch_output"
      ],
      "execution_count": null,
      "outputs": []
    },
    {
      "cell_type": "code",
      "metadata": {
        "id": "bm-1kK5AyOWf"
      },
      "source": [
        "import numpy as np\n",
        "from tqdm import tqdm\n",
        "\n",
        "\n",
        "class IntegratedGradient(SaliencyInterpreter):\n",
        "    \"\"\"\n",
        "    Interprets the prediction using Integrated Gradients (https://arxiv.org/abs/1703.01365)\n",
        "    Registered as a `SaliencyInterpreter` with name \"integrated-gradient\".\n",
        "    \"\"\"\n",
        "    def __init__(self,\n",
        "                 model,\n",
        "                 criterion,\n",
        "                 tokenizer,\n",
        "                 num_steps=40,\n",
        "                 show_progress=True,\n",
        "                 **kwargs):\n",
        "        super().__init__(model, criterion, tokenizer, show_progress, **kwargs)\n",
        "        # Hyperparameters\n",
        "        self.num_steps = num_steps\n",
        "\n",
        "    def saliency_interpret(self, test_dataloader):\n",
        "\n",
        "        instances_with_grads = []\n",
        "        iterator = tqdm(test_dataloader) if self.show_progress else test_dataloader\n",
        "\n",
        "        for batch in iterator:\n",
        "\n",
        "            # we will store there batch outputs such as gradients, probability, tokens\n",
        "            # so as each of them are used in different places, for convenience we will create\n",
        "            # it as attribute:\n",
        "            self.batch_output = []\n",
        "            self._integrate_gradients(batch)\n",
        "            batch_output = self.update_output()\n",
        "            instances_with_grads.extend(batch_output)\n",
        "\n",
        "        return instances_with_grads\n",
        "\n",
        "    def _register_forward_hook(self, alpha, embeddings_list):\n",
        "        \"\"\"\n",
        "        Register a forward hook on the embedding layer which scales the embeddings by alpha. Used\n",
        "        for one term in the Integrated Gradients sum.\n",
        "        We store the embedding output into the embeddings_list when alpha is zero.  This is used\n",
        "        later to element-wise multiply the input by the averaged gradients.\n",
        "        \"\"\"\n",
        "\n",
        "        def forward_hook(module, inputs, output):\n",
        "            # Save the input for later use. Only do so on first call.\n",
        "            if alpha == 0:\n",
        "                embeddings_list.append(output.squeeze(0).clone().detach())\n",
        "\n",
        "            # Scale the embedding by alpha\n",
        "            output.mul_(alpha)\n",
        "\n",
        "        embedding_layer = self.get_embeddings_layer()\n",
        "        handle = embedding_layer.register_forward_hook(forward_hook)\n",
        "        return handle\n",
        "\n",
        "    def _integrate_gradients(self, batch):\n",
        "\n",
        "        ig_grads = None\n",
        "\n",
        "        # List of Embedding inputs\n",
        "        embeddings_list = []\n",
        "\n",
        "        # Exclude the endpoint because we do a left point integral approximation\n",
        "        for alpha in np.linspace(0, 1.0, num=self.num_steps, endpoint=False):\n",
        "            # Hook for modifying embedding value\n",
        "            handle = self._register_forward_hook(alpha, embeddings_list)\n",
        "\n",
        "            grads = self._get_gradients(batch)\n",
        "            handle.remove()\n",
        "\n",
        "            # Running sum of gradients\n",
        "            if ig_grads is None:\n",
        "                ig_grads = grads\n",
        "            else:\n",
        "                ig_grads = ig_grads + grads\n",
        "\n",
        "        # Average of each gradient term\n",
        "        ig_grads /= self.num_steps\n",
        "\n",
        "        # Gradients come back in the reverse order that they were sent into the network\n",
        "        embeddings_list.reverse()\n",
        "\n",
        "        # Element-wise multiply average gradient by the input\n",
        "        ig_grads *= embeddings_list[0]\n",
        "\n",
        "        self.batch_output.append(ig_grads)\n"
      ],
      "execution_count": null,
      "outputs": []
    },
    {
      "cell_type": "code",
      "metadata": {
        "id": "OxF7bioeyYxy"
      },
      "source": [
        "import torch\n",
        "\n",
        "from tqdm import tqdm\n",
        "\n",
        "\n",
        "\n",
        "class SmoothGradient(SaliencyInterpreter):\n",
        "    \"\"\"\n",
        "    Interprets the prediction using SmoothGrad (https://arxiv.org/abs/1706.03825)\n",
        "    Registered as a `SaliencyInterpreter` with name \"smooth-gradient\".\n",
        "    \"\"\"\n",
        "    def __init__(self,\n",
        "                 model,\n",
        "                 criterion,\n",
        "                 tokenizer,\n",
        "                 stdev=0.01,\n",
        "                 num_samples=20,\n",
        "                 show_progress=True,\n",
        "                 **kwargs):\n",
        "        super().__init__(model, criterion, tokenizer, show_progress, **kwargs)\n",
        "        # Hyperparameters\n",
        "        self.stdev = stdev\n",
        "        self.num_samples = num_samples\n",
        "\n",
        "    def saliency_interpret(self, test_dataloader):\n",
        "\n",
        "        instances_with_grads = []\n",
        "        iterator = tqdm(test_dataloader) if self.show_progress else test_dataloader\n",
        "\n",
        "        for batch in iterator:\n",
        "\n",
        "            # we will store there batch outputs such as gradients, probability, tokens\n",
        "            # so as each of them are used in different places, for convenience we will create\n",
        "            # it as attribute:\n",
        "            self.batch_output = []\n",
        "            self._smooth_grads(batch)\n",
        "            batch_output = self.update_output()\n",
        "            instances_with_grads.extend(batch_output)\n",
        "\n",
        "        return instances_with_grads\n",
        "\n",
        "    def _register_forward_hook(self, stdev: float):\n",
        "        \"\"\"\n",
        "        Register a forward hook on the embedding layer which adds random noise to every embedding.\n",
        "        Used for one term in the SmoothGrad sum.\n",
        "        \"\"\"\n",
        "\n",
        "        def forward_hook(module, inputs, output):\n",
        "            # Random noise = N(0, stdev * (max-min))\n",
        "            scale = output.detach().max() - output.detach().min()\n",
        "            noise = torch.randn(output.shape).to(output.device) * stdev * scale\n",
        "\n",
        "            # Add the random noise\n",
        "            output.add_(noise)\n",
        "\n",
        "        # Register the hook\n",
        "        embedding_layer = self.get_embeddings_layer()\n",
        "        handle = embedding_layer.register_forward_hook(forward_hook)\n",
        "        return handle\n",
        "\n",
        "    def _smooth_grads(self, batch):\n",
        "        total_gradients = None\n",
        "        for _ in range(self.num_samples):\n",
        "            handle = self._register_forward_hook(self.stdev)\n",
        "            grads = self._get_gradients(batch)\n",
        "            handle.remove()\n",
        "\n",
        "            # Sum gradients\n",
        "            if total_gradients is None:\n",
        "                total_gradients = grads\n",
        "            else:\n",
        "                total_gradients = total_gradients + grads\n",
        "\n",
        "        total_gradients /= self.num_samples\n",
        "\n",
        "        self.batch_output.append(total_gradients)"
      ],
      "execution_count": null,
      "outputs": []
    },
    {
      "cell_type": "code",
      "metadata": {
        "id": "0DsGu2HN2dCz"
      },
      "source": [
        "from torch.utils.data import DataLoader\n",
        "from IPython.display import display, HTML"
      ],
      "execution_count": null,
      "outputs": []
    },
    {
      "cell_type": "code",
      "metadata": {
        "id": "jJE5Riko2hQ5"
      },
      "source": [
        "integrated_grad = IntegratedGradient(\n",
        "    model, \n",
        "    criterion, \n",
        "    tokenizer, \n",
        "    show_progress=False,\n",
        "    encoder=\"bert\"\n",
        ")"
      ],
      "execution_count": null,
      "outputs": []
    },
    {
      "cell_type": "code",
      "metadata": {
        "id": "p8Sk-kspyP15"
      },
      "source": [
        " inst_list=[]\n",
        " for idx, row in validate_data.iterrows():\n",
        "        text_parts = preprocess_text(str(row['FULL_NEWS']))\n",
        "        label = torch.tensor([row['TRUTH']]).float().to(device)\n",
        "        for part in text_parts:\n",
        "          if len(part) > 0:\n",
        "            try:\n",
        "                input = part.reshape(-1)[:512].reshape(1, -1)\n",
        "\n",
        "                batch_size=1\n",
        "                test_dataloader = DataLoader(\n",
        "                input,\n",
        "                batch_size=batch_size,\n",
        "                shuffle=False,\n",
        "                )\n",
        "                \n",
        "            except Exception as e:\n",
        "                print(str(e))\n",
        "          instances = integrated_grad.saliency_interpret(test_dataloader)    \n",
        "          inst_list.append(instances)"
      ],
      "execution_count": null,
      "outputs": []
    },
    {
      "cell_type": "code",
      "metadata": {
        "id": "YWfXUsdSqAqL"
      },
      "source": [
        "lexicon_list=[]\n",
        "for i in range(len(inst_list)):\n",
        "  arr = np.array(inst_list[i][0]['grad'])\n",
        "  arr.argsort()[-3:][::-1]\n",
        "  for item in arr.argsort()[-4:][::-1]:\n",
        "    if inst_list[i][0]['tokens'][item].find(\"#\")==0:\n",
        "      if (inst_list[i][0]['tokens'][item-1]+inst_list[i][0]['tokens'][item]).find(\"#\")==0:\n",
        "        if (inst_list[i][0]['tokens'][item-2]+inst_list[i][0]['tokens'][item-1]+inst_list[i][0]['tokens'][item]).find(\"#\")==0:\n",
        "          lexicon_list.append((inst_list[i][0]['tokens'][item-3]+inst_list[i][0]['tokens'][item-2]+inst_list[i][0]['tokens'][item-1]+inst_list[i][0]['tokens'][item]).replace(\"#\",\"\"))\n",
        "        else:\n",
        "          lexicon_list.append((inst_list[i][0]['tokens'][item-2]+inst_list[i][0]['tokens'][item-1]+inst_list[i][0]['tokens'][item]).replace(\"#\",\"\"))\n",
        "      else:\n",
        "        lexicon_list.append((inst_list[i][0]['tokens'][item-1]+inst_list[i][0]['tokens'][item]).replace(\"#\",\"\"))\n",
        "    else:\n",
        "      lexicon_list.append(inst_list[i][0]['tokens'][item])"
      ],
      "execution_count": null,
      "outputs": []
    },
    {
      "cell_type": "code",
      "metadata": {
        "colab": {
          "base_uri": "https://localhost:8080/"
        },
        "id": "nFFQ20BM8t0q",
        "outputId": "fc82d0d6-c01e-4f46-9a75-b0ffcf2bb569"
      },
      "source": [
        "from collections import Counter\n",
        "Counter(lexicon_list).most_common()"
      ],
      "execution_count": null,
      "outputs": [
        {
          "output_type": "execute_result",
          "data": {
            "text/plain": [
              "[]"
            ]
          },
          "metadata": {
            "tags": []
          },
          "execution_count": 5
        }
      ]
    },
    {
      "cell_type": "code",
      "metadata": {
        "id": "qC-suNEmuKMN"
      },
      "source": [
        "lexicon_set = set(lexicon_list)"
      ],
      "execution_count": null,
      "outputs": []
    },
    {
      "cell_type": "code",
      "metadata": {
        "colab": {
          "base_uri": "https://localhost:8080/"
        },
        "id": "A8-dOXFpkU-7",
        "outputId": "49f0eda9-7599-4f16-b32b-0ac0311fb3a6"
      },
      "source": [
        "lexicon_set"
      ],
      "execution_count": null,
      "outputs": [
        {
          "output_type": "execute_result",
          "data": {
            "text/plain": [
              "set()"
            ]
          },
          "metadata": {
            "tags": []
          },
          "execution_count": 7
        }
      ]
    },
    {
      "cell_type": "code",
      "metadata": {
        "colab": {
          "base_uri": "https://localhost:8080/",
          "height": 34
        },
        "id": "kEPV0mK9HfGL",
        "outputId": "e61eb595-6d2e-4664-b6b9-0655a8891f2b"
      },
      "source": [
        "coloder_string = integrated_grad.colorize(inst_list[1][0])\n",
        "display(HTML(coloder_string))"
      ],
      "execution_count": null,
      "outputs": [
        {
          "output_type": "display_data",
          "data": {
            "text/html": [
              "<span class=\"barcode\"; style=\"color: black; background-color: #bfd8ed\"> co</span><span class=\"barcode\"; style=\"color: black; background-color: #b5d4e9\">vid</span><span class=\"barcode\"; style=\"color: black; background-color: #d3e3f3\"> -</span><span class=\"barcode\"; style=\"color: black; background-color: #d3e3f3\"> 19</span><span class=\"barcode\"; style=\"color: black; background-color: #f7fbff\"> crisis</span><span class=\"barcode\"; style=\"color: black; background-color: #e3eef8\"> expose</span><span class=\"barcode\"; style=\"color: black; background-color: #81badb\">s</span><span class=\"barcode\"; style=\"color: black; background-color: #f0f6fd\"> resident</span><span class=\"barcode\"; style=\"color: black; background-color: #08306b\"> abuse</span><span class=\"barcode\"; style=\"color: black; background-color: 0\">    Label: 1 |</span><span class=\"barcode\"; style=\"color: black; background-color: #56b567\">57.14%</span>|"
            ],
            "text/plain": [
              "<IPython.core.display.HTML object>"
            ]
          },
          "metadata": {
            "tags": []
          }
        }
      ]
    }
  ]
}